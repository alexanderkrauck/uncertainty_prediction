{
 "cells": [
  {
   "cell_type": "code",
   "execution_count": null,
   "metadata": {},
   "outputs": [],
   "source": [
    "import pyro\n",
    "import pyro.distributions as dist\n",
    "import torch\n",
    "\n",
    "from pyro import param\n",
    "from pyro.infer import SVI, Trace_ELBO\n",
    "from pyro.optim import Adam\n",
    "from pyro.distributions import constraints"
   ]
  },
  {
   "cell_type": "code",
   "execution_count": 3,
   "metadata": {},
   "outputs": [],
   "source": [
    "\n",
    "\n",
    "def complex_model():\n",
    "    # Assuming these parameters are defined outside the function\n",
    "    mu, sigma = 0, 1\n",
    "    a, b = 0, 1\n",
    "    w_1, w_2, w_3 = 0.3, 0.3, 0.4\n",
    "    d_1, d_2, d_3 = -1, 0, 1\n",
    "\n",
    "    X_1 = pyro.sample(\"X_1\", dist.Normal(0, 1))\n",
    "    X_2 = pyro.sample(\"X_2\", dist.Normal(mu, sigma))\n",
    "    X_3 = pyro.sample(\"X_3\", dist.Uniform(a, b))\n",
    "    X_4 = pyro.sample(\"X_4\", dist.MixtureSameFamily(\n",
    "        mixture_distribution=dist.Categorical(torch.tensor([w_1, w_2, w_3])),\n",
    "        component_distribution=dist.Delta(torch.tensor([d_1, d_2, d_3]))\n",
    "    ))\n",
    "\n",
    "    C_1 = pyro.sample(\"C_1\", dist.Delta(X_1 + X_2 * X_3))\n",
    "    C_2 = pyro.sample(\"C_2\", dist.Delta(torch.log(C_1) ** X_1))\n",
    "    C_3 = pyro.sample(\"C_3\", dist.Delta(X_1 * 3))\n",
    "\n",
    "    L_1 = pyro.sample(\"L_1\", dist.Delta(X_1 * C_3))\n",
    "    L_2 = pyro.sample(\"L_2\", dist.Delta(C_2 + X_1))\n",
    "\n",
    "    return L_1, L_2, C_3\n"
   ]
  },
  {
   "cell_type": "code",
   "execution_count": 4,
   "metadata": {},
   "outputs": [],
   "source": [
    "\n",
    "\n",
    "def gmm_guide(num_components, data=None):\n",
    "    # Mixture weights, means, and variances for each latent variable\n",
    "    for var_name in [\"X_1\", \"X_2\", \"X_3\", \"X_4\"]:\n",
    "        weights = pyro.param(f\"{var_name}_weights\", torch.ones(num_components) / num_components, constraint=constraints.simplex)\n",
    "        means = pyro.param(f\"{var_name}_means\", torch.randn(num_components))\n",
    "        scales = pyro.param(f\"{var_name}_scales\", torch.ones(num_components), constraint=constraints.positive)\n",
    "\n",
    "        with pyro.plate(f\"{var_name}_plate\", num_components):\n",
    "            pyro.sample(f\"{var_name}_mixture_component\", dist.Normal(means, scales))\n"
   ]
  },
  {
   "cell_type": "code",
   "execution_count": 5,
   "metadata": {},
   "outputs": [
    {
     "name": "stderr",
     "output_type": "stream",
     "text": [
      "/home/alexander/miniconda3/envs/uncertainty_prediction/lib/python3.11/site-packages/pyro/util.py:288: UserWarning: Found non-auxiliary vars in guide but not model, consider marking these infer={'is_auxiliary': True}:\n",
      "{'X_1_mixture_component', 'X_4_mixture_component', 'X_3_mixture_component', 'X_2_mixture_component'}\n",
      "  warnings.warn(\n",
      "/home/alexander/miniconda3/envs/uncertainty_prediction/lib/python3.11/site-packages/pyro/util.py:303: UserWarning: Found vars in model but not guide: {'C_1', 'X_1', 'X_3', 'X_2', 'C_2', 'C_3', 'X_4'}\n",
      "  warnings.warn(f\"Found vars in model but not guide: {bad_sites}\")\n",
      "/home/alexander/miniconda3/envs/uncertainty_prediction/lib/python3.11/site-packages/pyro/util.py:365: UserWarning: Found plate statements in guide but not model: {'X_2_plate', 'X_4_plate', 'X_3_plate', 'X_1_plate'}\n",
      "  warnings.warn(\n"
     ]
    },
    {
     "name": "stdout",
     "output_type": "stream",
     "text": [
      "Step 0 : loss = inf\n"
     ]
    },
    {
     "name": "stderr",
     "output_type": "stream",
     "text": [
      "/home/alexander/miniconda3/envs/uncertainty_prediction/lib/python3.11/site-packages/pyro/util.py:288: UserWarning: Found non-auxiliary vars in guide but not model, consider marking these infer={'is_auxiliary': True}:\n",
      "{'X_1_mixture_component', 'X_4_mixture_component', 'X_3_mixture_component', 'X_2_mixture_component'}\n",
      "  warnings.warn(\n",
      "/home/alexander/miniconda3/envs/uncertainty_prediction/lib/python3.11/site-packages/pyro/util.py:303: UserWarning: Found vars in model but not guide: {'C_1', 'X_1', 'X_3', 'X_2', 'C_2', 'C_3', 'X_4'}\n",
      "  warnings.warn(f\"Found vars in model but not guide: {bad_sites}\")\n",
      "/home/alexander/miniconda3/envs/uncertainty_prediction/lib/python3.11/site-packages/pyro/util.py:365: UserWarning: Found plate statements in guide but not model: {'X_2_plate', 'X_4_plate', 'X_3_plate', 'X_1_plate'}\n",
      "  warnings.warn(\n"
     ]
    },
    {
     "name": "stdout",
     "output_type": "stream",
     "text": [
      "Step 100 : loss = inf\n",
      "Step 200 : loss = inf\n",
      "Step 300 : loss = inf\n",
      "Step 400 : loss = inf\n",
      "Posterior for X_1:\n",
      "Weights: tensor([0.3333, 0.3333, 0.3333])\n",
      "Means: tensor([-0.3488,  0.2882, -0.5903])\n",
      "Scales: tensor([12.1826, 12.1826, 12.1826])\n",
      "Posterior for X_2:\n",
      "Weights: tensor([0.3333, 0.3333, 0.3333])\n",
      "Means: tensor([1.2259, 0.3410, 0.4459])\n",
      "Scales: tensor([12.1826, 12.1826, 12.1826])\n",
      "Posterior for X_3:\n",
      "Weights: tensor([0.3333, 0.3333, 0.3333])\n",
      "Means: tensor([1.7854, 0.3383, 0.0905])\n",
      "Scales: tensor([12.1826, 12.1826, 12.1826])\n",
      "Posterior for X_4:\n",
      "Weights: tensor([0.3333, 0.3333, 0.3333])\n",
      "Means: tensor([ 0.4993, -1.5689, -0.1497])\n",
      "Scales: tensor([12.1826, 12.1826, 12.1826])\n"
     ]
    }
   ],
   "source": [
    "# Example of evidence (observed data)\n",
    "observed_data = {\"L_1\": torch.tensor([1.0]), \"L_2\": torch.tensor([2.0])}\n",
    "\n",
    "# Condition the model on observed data\n",
    "conditioned_model = pyro.condition(complex_model, data=observed_data)\n",
    "\n",
    "# Setup the inference algorithm\n",
    "svi = SVI(conditioned_model, lambda: gmm_guide(3), Adam({\"lr\": 0.005}), loss=Trace_ELBO())\n",
    "\n",
    "# Perform inference\n",
    "n_steps = 500\n",
    "for step in range(n_steps):\n",
    "    loss = svi.step()\n",
    "    if step % 100 == 0:\n",
    "        print(f\"Step {step} : loss = {loss}\")\n",
    "\n",
    "# The results are in the parameters of the guide\n",
    "for var_name in [\"X_1\", \"X_2\", \"X_3\", \"X_4\"]:\n",
    "    print(f\"Posterior for {var_name}:\")\n",
    "    print(\"Weights:\", pyro.param(f\"{var_name}_weights\").data)\n",
    "    print(\"Means:\", pyro.param(f\"{var_name}_means\").data)\n",
    "    print(\"Scales:\", pyro.param(f\"{var_name}_scales\").data)"
   ]
  },
  {
   "cell_type": "code",
   "execution_count": null,
   "metadata": {},
   "outputs": [],
   "source": []
  },
  {
   "cell_type": "code",
   "execution_count": 6,
   "metadata": {},
   "outputs": [
    {
     "ename": "ImportError",
     "evalue": "cannot import name 'infer_model' from 'pyro.infer.util' (/home/alexander/miniconda3/envs/uncertainty_prediction/lib/python3.11/site-packages/pyro/infer/util.py)",
     "output_type": "error",
     "traceback": [
      "\u001b[0;31m---------------------------------------------------------------------------\u001b[0m",
      "\u001b[0;31mImportError\u001b[0m                               Traceback (most recent call last)",
      "Cell \u001b[0;32mIn[6], line 6\u001b[0m\n\u001b[1;32m      4\u001b[0m \u001b[38;5;28;01mimport\u001b[39;00m \u001b[38;5;21;01mpyro\u001b[39;00m\u001b[38;5;21;01m.\u001b[39;00m\u001b[38;5;21;01mdistributions\u001b[39;00m \u001b[38;5;28;01mas\u001b[39;00m \u001b[38;5;21;01mdist\u001b[39;00m\n\u001b[1;32m      5\u001b[0m \u001b[38;5;28;01mfrom\u001b[39;00m \u001b[38;5;21;01mpyro\u001b[39;00m\u001b[38;5;21;01m.\u001b[39;00m\u001b[38;5;21;01minfer\u001b[39;00m \u001b[38;5;28;01mimport\u001b[39;00m MCMC\n\u001b[0;32m----> 6\u001b[0m \u001b[38;5;28;01mfrom\u001b[39;00m \u001b[38;5;21;01mpyro\u001b[39;00m\u001b[38;5;21;01m.\u001b[39;00m\u001b[38;5;21;01minfer\u001b[39;00m\u001b[38;5;21;01m.\u001b[39;00m\u001b[38;5;21;01mutil\u001b[39;00m \u001b[38;5;28;01mimport\u001b[39;00m infer_model\n\u001b[1;32m      8\u001b[0m \u001b[38;5;66;03m# Define the Bayesian network\u001b[39;00m\n\u001b[1;32m     10\u001b[0m \u001b[38;5;28;01mclass\u001b[39;00m \u001b[38;5;21;01mModel\u001b[39;00m(pyro\u001b[38;5;241m.\u001b[39mdistribution\u001b[38;5;241m.\u001b[39mModel):\n",
      "\u001b[0;31mImportError\u001b[0m: cannot import name 'infer_model' from 'pyro.infer.util' (/home/alexander/miniconda3/envs/uncertainty_prediction/lib/python3.11/site-packages/pyro/infer/util.py)"
     ]
    }
   ],
   "source": [
    "import numpy as np\n",
    "import torch\n",
    "import pyro\n",
    "import pyro.distributions as dist\n",
    "from pyro.infer import MCMC\n",
    "from pyro.infer.util import infer_discrete\n",
    "\n",
    "# Define the Bayesian network\n",
    "\n",
    "class Model(pyro.distribution.Model):\n",
    "    def __init__(self):\n",
    "        # Define the variables\n",
    "        self.x = pyro.sample(\"x\", dist.Normal(0, 1))\n",
    "        self.y = pyro.sample(\"y\", dist.Normal(pyro.sample(\"w\", dist.Normal(5, 1)), 0.5 * torch.sin(self.x)))\n",
    "\n",
    "# Generate artificial data\n",
    "\n",
    "data = []\n",
    "for i in range(1000):\n",
    "    model = Model()\n",
    "    with pyro.infer.set_rng_seed(i):\n",
    "        sample = pyro.sample(\"obs\", model)\n",
    "    data.append(sample)\n",
    "\n",
    "# Train a conditional density estimation model\n",
    "\n",
    "# Define the conditional probability distribution\n",
    "def conditional_density(x, y):\n",
    "    w = pyro.sample(\"w\", dist.Normal(5, 1))\n",
    "    return dist.Normal(w * torch.sin(x), 0.5)\n",
    "\n",
    "# Train the model using Pyro's MCMC sampler\n",
    "mcmc = MCMC(infer_model(conditional_density, guide=None), num_samples=2000)\n",
    "mcmc.run(data)\n",
    "\n",
    "# Evaluate the model's performance\n",
    "\n",
    "# Define the real or well-determined p(y|x)\n",
    "def real_p(x, y):\n",
    "    # Calculate the conditional probability using the Bayesian network\n",
    "    model = Model()\n",
    "    with pyro.infer.set_rng_seed(0):\n",
    "        sample = pyro.sample(\"obs\", model)\n",
    "    return sample[\"y\"]\n",
    "\n",
    "# Compare the predicted p(y|x) to the real p(y|x)\n",
    "for x in data:\n",
    "    y_pred = conditional_density(x[\"x\"], x[\"y\"])\n",
    "    y_real = real_p(x[\"x\"], x[\"y\"])\n",
    "    print(f\"Predicted: {y_pred}\")\n",
    "    print(f\"Real: {y_real}\")\n"
   ]
  },
  {
   "cell_type": "code",
   "execution_count": 13,
   "metadata": {},
   "outputs": [
    {
     "data": {
      "text/plain": [
       "(0.008063238114118576, 0.1256197988986969)"
      ]
     },
     "execution_count": 13,
     "metadata": {},
     "output_type": "execute_result"
    }
   ],
   "source": [
    "import torch\n",
    "import pyro\n",
    "import pyro.distributions as dist\n",
    "from pyro.infer import SVI, Trace_ELBO\n",
    "from pyro.optim import Adam\n",
    "from pyro.infer.autoguide import AutoDiagonalNormal\n",
    "import matplotlib.pyplot as plt\n",
    "\n",
    "# Define the model\n",
    "def model(exercise_obs=None, diet_obs=None):\n",
    "    # Prior distributions for Exercise and Diet\n",
    "    exercise = pyro.sample(\"exercise\", dist.Normal(0, 1))\n",
    "    diet = pyro.sample(\"diet\", dist.Normal(0, 1))\n",
    "\n",
    "    # Conditional distribution for Health\n",
    "    health_mean = 0.3 * exercise + 0.7 * diet  # Simple linear relation\n",
    "    health = pyro.sample(\"health\", dist.Normal(health_mean, 0.1))\n",
    "\n",
    "    # Condition on observed data\n",
    "    if exercise_obs is not None:\n",
    "        pyro.sample(\"exercise_obs\", dist.Delta(exercise), obs=exercise_obs)\n",
    "    if diet_obs is not None:\n",
    "        pyro.sample(\"diet_obs\", dist.Delta(diet), obs=diet_obs)\n",
    "\n",
    "    return health\n",
    "\n",
    "# Guide for variational inference\n",
    "guide = AutoDiagonalNormal(model)\n",
    "\n",
    "# Optimizer\n",
    "optimizer = Adam({\"lr\": 0.02})\n",
    "\n",
    "# Stochastic Variational Inference\n",
    "svi = SVI(model, guide, optimizer, loss=Trace_ELBO())\n",
    "\n",
    "# Observed data\n",
    "exercise_obs = torch.tensor(2.0)  # observed hours of exercise\n",
    "diet_obs = torch.tensor(7.0)      # observed diet score\n",
    "\n",
    "# Training/Inference loop\n",
    "num_iterations = 1000\n",
    "for _ in range(num_iterations):\n",
    "    svi.step(exercise_obs, diet_obs)\n",
    "\n",
    "# Extract the approximate posterior for 'health'\n",
    "posterior = guide()\n",
    "\n",
    "learned_means = pyro.param(\"AutoDiagonalNormal.loc\").detach()\n",
    "learned_scales = pyro.param(\"AutoDiagonalNormal.scale\").detach()\n",
    "\n",
    "# Extracting mean and standard deviation for 'health'\n",
    "# 'health' is the third variable in the model, so we take the third element\n",
    "health_mean = learned_means[2].item()\n",
    "health_stddev = learned_scales[2].item()\n",
    "\n",
    "health_mean, health_stddev\n"
   ]
  },
  {
   "cell_type": "code",
   "execution_count": 14,
   "metadata": {},
   "outputs": [
    {
     "data": {
      "text/plain": [
       "(0.008063238114118576, 0.1256197988986969)"
      ]
     },
     "execution_count": 14,
     "metadata": {},
     "output_type": "execute_result"
    }
   ],
   "source": [
    "learned_means = pyro.param(\"AutoDiagonalNormal.loc\").detach()\n",
    "learned_scales = pyro.param(\"AutoDiagonalNormal.scale\").detach()\n",
    "\n",
    "# Extracting mean and standard deviation for 'health'\n",
    "# 'health' is the third variable in the model, so we take the third element\n",
    "health_mean = learned_means[2].item()\n",
    "health_stddev = learned_scales[2].item()\n",
    "\n",
    "health_mean, health_stddev"
   ]
  },
  {
   "cell_type": "code",
   "execution_count": 15,
   "metadata": {},
   "outputs": [
    {
     "data": {
      "image/png": "[encoded data removed]",
      "text/plain": [
       "<Figure size 800x400 with 1 Axes>"
      ]
     },
     "metadata": {},
     "output_type": "display_data"
    }
   ],
   "source": [
    "health_values = np.linspace(health_mean - 3*health_stddev, health_mean + 3*health_stddev, 100)\n",
    "\n",
    "# Calculate the PDF of the estimated distribution\n",
    "pdf_values = (1 / (health_stddev * np.sqrt(2 * np.pi))) * np.exp(-0.5 * ((health_values - health_mean) / health_stddev)**2)\n",
    "\n",
    "# Plotting\n",
    "plt.figure(figsize=(8, 4))\n",
    "plt.plot(health_values, pdf_values, label='Estimated Health Distribution')\n",
    "plt.xlabel('Health Score')\n",
    "plt.ylabel('Probability Density')\n",
    "plt.title('Estimated PDF of Health')\n",
    "plt.legend()\n",
    "plt.grid(True)\n",
    "plt.show()\n"
   ]
  },
  {
   "cell_type": "code",
   "execution_count": null,
   "metadata": {},
   "outputs": [],
   "source": []
  },
  {
   "cell_type": "code",
   "execution_count": 17,
   "metadata": {},
   "outputs": [
    {
     "ename": "AttributeError",
     "evalue": "partially initialized module 'theano' has no attribute 'compile' (most likely due to a circular import)",
     "output_type": "error",
     "traceback": [
      "\u001b[0;31m---------------------------------------------------------------------------\u001b[0m",
      "\u001b[0;31mAttributeError\u001b[0m                            Traceback (most recent call last)",
      "Cell \u001b[0;32mIn[17], line 1\u001b[0m\n\u001b[0;32m----> 1\u001b[0m \u001b[38;5;28;01mimport\u001b[39;00m \u001b[38;5;21;01mpymc3\u001b[39;00m \u001b[38;5;28;01mas\u001b[39;00m \u001b[38;5;21;01mpm\u001b[39;00m\n\u001b[1;32m      2\u001b[0m \u001b[38;5;28;01mimport\u001b[39;00m \u001b[38;5;21;01mnumpy\u001b[39;00m \u001b[38;5;28;01mas\u001b[39;00m \u001b[38;5;21;01mnp\u001b[39;00m\n\u001b[1;32m      3\u001b[0m \u001b[38;5;28;01mimport\u001b[39;00m \u001b[38;5;21;01mtheano\u001b[39;00m\u001b[38;5;21;01m.\u001b[39;00m\u001b[38;5;21;01mtensor\u001b[39;00m \u001b[38;5;28;01mas\u001b[39;00m \u001b[38;5;21;01mtt\u001b[39;00m\n",
      "File \u001b[0;32m~/miniconda3/envs/uncertainty_prediction/lib/python3.11/site-packages/pymc3/__init__.py:23\u001b[0m\n\u001b[1;32m     20\u001b[0m \u001b[38;5;28;01mimport\u001b[39;00m \u001b[38;5;21;01mplatform\u001b[39;00m\n\u001b[1;32m     22\u001b[0m \u001b[38;5;28;01mimport\u001b[39;00m \u001b[38;5;21;01msemver\u001b[39;00m\n\u001b[0;32m---> 23\u001b[0m \u001b[38;5;28;01mimport\u001b[39;00m \u001b[38;5;21;01mtheano\u001b[39;00m\n\u001b[1;32m     25\u001b[0m _log \u001b[38;5;241m=\u001b[39m logging\u001b[38;5;241m.\u001b[39mgetLogger(\u001b[38;5;124m\"\u001b[39m\u001b[38;5;124mpymc3\u001b[39m\u001b[38;5;124m\"\u001b[39m)\n\u001b[1;32m     27\u001b[0m \u001b[38;5;28;01mif\u001b[39;00m \u001b[38;5;129;01mnot\u001b[39;00m logging\u001b[38;5;241m.\u001b[39mroot\u001b[38;5;241m.\u001b[39mhandlers:\n",
      "File \u001b[0;32m~/miniconda3/envs/uncertainty_prediction/lib/python3.11/site-packages/theano/__init__.py:83\u001b[0m\n\u001b[1;32m     75\u001b[0m \u001b[38;5;66;03m# This is the api version for ops that generate C code.  External ops\u001b[39;00m\n\u001b[1;32m     76\u001b[0m \u001b[38;5;66;03m# might need manual changes if this number goes up.  An undefined\u001b[39;00m\n\u001b[1;32m     77\u001b[0m \u001b[38;5;66;03m# __api_version__ can be understood to mean api version 0.\u001b[39;00m\n\u001b[1;32m     78\u001b[0m \u001b[38;5;66;03m#\u001b[39;00m\n\u001b[1;32m     79\u001b[0m \u001b[38;5;66;03m# This number is not tied to the release version and should change\u001b[39;00m\n\u001b[1;32m     80\u001b[0m \u001b[38;5;66;03m# very rarely.\u001b[39;00m\n\u001b[1;32m     81\u001b[0m __api_version__ \u001b[38;5;241m=\u001b[39m \u001b[38;5;241m1\u001b[39m\n\u001b[0;32m---> 83\u001b[0m \u001b[38;5;28;01mfrom\u001b[39;00m \u001b[38;5;21;01mtheano\u001b[39;00m \u001b[38;5;28;01mimport\u001b[39;00m scalar, tensor\n\u001b[1;32m     84\u001b[0m \u001b[38;5;28;01mfrom\u001b[39;00m \u001b[38;5;21;01mtheano\u001b[39;00m\u001b[38;5;21;01m.\u001b[39;00m\u001b[38;5;21;01mcompile\u001b[39;00m \u001b[38;5;28;01mimport\u001b[39;00m (\n\u001b[1;32m     85\u001b[0m     In,\n\u001b[1;32m     86\u001b[0m     Mode,\n\u001b[0;32m   (...)\u001b[0m\n\u001b[1;32m     93\u001b[0m     shared,\n\u001b[1;32m     94\u001b[0m )\n\u001b[1;32m     95\u001b[0m \u001b[38;5;28;01mfrom\u001b[39;00m \u001b[38;5;21;01mtheano\u001b[39;00m\u001b[38;5;21;01m.\u001b[39;00m\u001b[38;5;21;01mcompile\u001b[39;00m\u001b[38;5;21;01m.\u001b[39;00m\u001b[38;5;21;01mfunction\u001b[39;00m \u001b[38;5;28;01mimport\u001b[39;00m function, function_dump\n",
      "File \u001b[0;32m~/miniconda3/envs/uncertainty_prediction/lib/python3.11/site-packages/theano/scalar/__init__.py:1\u001b[0m\n\u001b[0;32m----> 1\u001b[0m \u001b[38;5;28;01mfrom\u001b[39;00m \u001b[38;5;21;01m.\u001b[39;00m\u001b[38;5;21;01mbasic\u001b[39;00m \u001b[38;5;28;01mimport\u001b[39;00m \u001b[38;5;241m*\u001b[39m\n\u001b[1;32m      2\u001b[0m \u001b[38;5;28;01mfrom\u001b[39;00m \u001b[38;5;21;01m.\u001b[39;00m\u001b[38;5;21;01mbasic_scipy\u001b[39;00m \u001b[38;5;28;01mimport\u001b[39;00m \u001b[38;5;241m*\u001b[39m\n",
      "File \u001b[0;32m~/miniconda3/envs/uncertainty_prediction/lib/python3.11/site-packages/theano/scalar/basic.py:710\u001b[0m\n\u001b[1;32m    706\u001b[0m         \u001b[38;5;28;01mreturn\u001b[39;00m shape_info\n\u001b[1;32m    709\u001b[0m \u001b[38;5;66;03m# Register C code for ViewOp on Scalars.\u001b[39;00m\n\u001b[0;32m--> 710\u001b[0m \u001b[43mtheano\u001b[49m\u001b[38;5;241;43m.\u001b[39;49m\u001b[43mcompile\u001b[49m\u001b[38;5;241m.\u001b[39mregister_view_op_c_code(\n\u001b[1;32m    711\u001b[0m     Scalar,\n\u001b[1;32m    712\u001b[0m \u001b[38;5;250m    \u001b[39m\u001b[38;5;124;03m\"\"\"\u001b[39;00m\n\u001b[1;32m    713\u001b[0m \u001b[38;5;124;03m    %(oname)s = %(iname)s;\u001b[39;00m\n\u001b[1;32m    714\u001b[0m \u001b[38;5;124;03m    \"\"\"\u001b[39;00m,\n\u001b[1;32m    715\u001b[0m     \u001b[38;5;241m1\u001b[39m,\n\u001b[1;32m    716\u001b[0m )\n\u001b[1;32m    719\u001b[0m \u001b[38;5;28mbool\u001b[39m \u001b[38;5;241m=\u001b[39m get_scalar_type(\u001b[38;5;124m\"\u001b[39m\u001b[38;5;124mbool\u001b[39m\u001b[38;5;124m\"\u001b[39m)\n\u001b[1;32m    720\u001b[0m int8 \u001b[38;5;241m=\u001b[39m get_scalar_type(\u001b[38;5;124m\"\u001b[39m\u001b[38;5;124mint8\u001b[39m\u001b[38;5;124m\"\u001b[39m)\n",
      "\u001b[0;31mAttributeError\u001b[0m: partially initialized module 'theano' has no attribute 'compile' (most likely due to a circular import)"
     ]
    }
   ],
   "source": [
    "import pymc3 as pm\n",
    "import numpy as np\n",
    "import theano.tensor as tt\n",
    "\n",
    "# Known parameters\n",
    "exercise_mean = 2  # Example value\n",
    "exercise_std = 0.5  # Example value\n",
    "diet_std = 0.5     # Standard deviation for Diet\n",
    "\n",
    "# Observed diet value\n",
    "observed_diet = 7  # Example value\n",
    "\n",
    "with pm.Model() as model:\n",
    "    # Exercise is a known Gaussian distribution\n",
    "    exercise = pm.Normal('exercise', mu=exercise_mean, sd=exercise_std)\n",
    "\n",
    "    # Diet is observed\n",
    "    diet = pm.Normal('diet', mu=observed_diet, sd=diet_std, observed=observed_diet)\n",
    "\n",
    "    # Health as a deterministic function of Exercise and Diet\n",
    "    health_mean = pm.Deterministic('health_mean', 0.3 * exercise + 0.7 * diet)\n",
    "\n",
    "    # Infer the distribution of Health\n",
    "    health = pm.Normal('health', mu=health_mean, sd=0.1)  # 0.1 as an initial guess for the standard deviation\n",
    "\n",
    "    # Perform sampling\n",
    "    trace = pm.sample(1000, return_inferencedata=True)\n",
    "\n",
    "# Extracting the posterior distribution for Health\n",
    "health_samples = trace.posterior['health'].values\n",
    "\n",
    "# Estimating the mean and standard deviation of Health given Diet\n",
    "health_mean_estimated = np.mean(health_samples)\n",
    "health_std_estimated = np.std(health_samples)\n",
    "\n",
    "health_mean_estimated, health_std_estimated\n"
   ]
  },
  {
   "cell_type": "code",
   "execution_count": null,
   "metadata": {},
   "outputs": [],
   "source": []
  }
 ],
 "metadata": {
  "kernelspec": {
   "display_name": "uncertainty_prediction",
   "language": "python",
   "name": "python3"
  },
  "language_info": {
   "codemirror_mode": {
    "name": "ipython",
    "version": 3
   },
   "file_extension": ".py",
   "mimetype": "text/x-python",
   "name": "python",
   "nbconvert_exporter": "python",
   "pygments_lexer": "ipython3",
   "version": "3.11.5"
  }
 },
 "nbformat": 4,
 "nbformat_minor": 2
}
