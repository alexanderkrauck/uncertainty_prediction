{
 "cells": [
  {
   "cell_type": "code",
   "execution_count": 1,
   "metadata": {},
   "outputs": [],
   "source": [
    "import os \n",
    "os.chdir(\"..\")"
   ]
  },
  {
   "cell_type": "code",
   "execution_count": 2,
   "metadata": {},
   "outputs": [],
   "source": [
    "import numpy as np\n",
    "import torch\n",
    "import matplotlib\n",
    "from tqdm import tqdm\n",
    "from matplotlib import rc\n",
    "\n",
    "# Set the font dictionaries (for correct font properties)\n",
    "matplotlib.rcParams['font.serif'] = \"Palatino\"\n",
    "matplotlib.rcParams['font.family'] = \"serif\"\n",
    "matplotlib.rcParams['font.sans-serif'] = \"Helvetica\"\n",
    "matplotlib.rcParams['axes.labelsize'] = 11\n",
    "matplotlib.rcParams['font.size'] = 11\n",
    "rc('text', usetex=True)\n",
    "\n",
    "import matplotlib.pyplot as plt"
   ]
  },
  {
   "cell_type": "code",
   "execution_count": 3,
   "metadata": {},
   "outputs": [
    {
     "name": "stdout",
     "output_type": "stream",
     "text": [
      "{'a/b/c': 1, 'a/b/d': 2, 'a/e': 3, 'f': 4}\n"
     ]
    },
    {
     "name": "stderr",
     "output_type": "stream",
     "text": [
      "2024-04-20 13:17:34.503570: E external/local_xla/xla/stream_executor/cuda/cuda_dnn.cc:9261] Unable to register cuDNN factory: Attempting to register factory for plugin cuDNN when one has already been registered\n",
      "2024-04-20 13:17:34.503625: E external/local_xla/xla/stream_executor/cuda/cuda_fft.cc:607] Unable to register cuFFT factory: Attempting to register factory for plugin cuFFT when one has already been registered\n",
      "2024-04-20 13:17:34.595991: E external/local_xla/xla/stream_executor/cuda/cuda_blas.cc:1515] Unable to register cuBLAS factory: Attempting to register factory for plugin cuBLAS when one has already been registered\n"
     ]
    },
    {
     "ename": "KeyboardInterrupt",
     "evalue": "",
     "output_type": "error",
     "traceback": [
      "\u001b[0;31m---------------------------------------------------------------------------\u001b[0m",
      "\u001b[0;31mImportError\u001b[0m                               Traceback (most recent call last)",
      "File \u001b[0;32m~/miniconda3/envs/uncertainty_prediction/lib/python3.11/site-packages/tensorboard/compat/__init__.py:42\u001b[0m, in \u001b[0;36mtf\u001b[0;34m()\u001b[0m\n\u001b[1;32m     41\u001b[0m \u001b[38;5;28;01mtry\u001b[39;00m:\n\u001b[0;32m---> 42\u001b[0m     \u001b[38;5;28;01mfrom\u001b[39;00m \u001b[38;5;21;01mtensorboard\u001b[39;00m\u001b[38;5;21;01m.\u001b[39;00m\u001b[38;5;21;01mcompat\u001b[39;00m \u001b[38;5;28;01mimport\u001b[39;00m notf  \u001b[38;5;66;03m# noqa: F401\u001b[39;00m\n\u001b[1;32m     43\u001b[0m \u001b[38;5;28;01mexcept\u001b[39;00m \u001b[38;5;167;01mImportError\u001b[39;00m:\n",
      "\u001b[0;31mImportError\u001b[0m: cannot import name 'notf' from 'tensorboard.compat' (/home/alexander/miniconda3/envs/uncertainty_prediction/lib/python3.11/site-packages/tensorboard/compat/__init__.py)",
      "\nDuring handling of the above exception, another exception occurred:\n",
      "\u001b[0;31mKeyboardInterrupt\u001b[0m                         Traceback (most recent call last)",
      "Cell \u001b[0;32mIn[3], line 1\u001b[0m\n\u001b[0;32m----> 1\u001b[0m \u001b[38;5;28;01mfrom\u001b[39;00m \u001b[38;5;21;01mmain\u001b[39;00m \u001b[38;5;28;01mimport\u001b[39;00m train_single_model_from_config\n\u001b[1;32m      2\u001b[0m \u001b[38;5;28;01mfrom\u001b[39;00m \u001b[38;5;21;01mutils\u001b[39;00m\u001b[38;5;21;01m.\u001b[39;00m\u001b[38;5;21;01msetup\u001b[39;00m \u001b[38;5;28;01mimport\u001b[39;00m load_data_module\n\u001b[1;32m      3\u001b[0m \u001b[38;5;28;01mimport\u001b[39;00m \u001b[38;5;21;01myaml\u001b[39;00m\n",
      "File \u001b[0;32m/mnt/92669E5D669E4241/uncertainty_prediction/main.py:10\u001b[0m\n\u001b[1;32m      7\u001b[0m \u001b[38;5;28;01mimport\u001b[39;00m \u001b[38;5;21;01mtraceback\u001b[39;00m\n\u001b[1;32m      9\u001b[0m \u001b[38;5;28;01mfrom\u001b[39;00m \u001b[38;5;21;01mutils\u001b[39;00m\u001b[38;5;21;01m.\u001b[39;00m\u001b[38;5;21;01msetup\u001b[39;00m \u001b[38;5;28;01mimport\u001b[39;00m sync_wandb, load_data_module, generate_configs, find_keys\n\u001b[0;32m---> 10\u001b[0m \u001b[38;5;28;01mfrom\u001b[39;00m \u001b[38;5;21;01mutils\u001b[39;00m\u001b[38;5;21;01m.\u001b[39;00m\u001b[38;5;21;01mtrain\u001b[39;00m \u001b[38;5;28;01mimport\u001b[39;00m cv_experiment, seeded_experiment, outer_train\n\u001b[1;32m     11\u001b[0m \u001b[38;5;28;01mfrom\u001b[39;00m \u001b[38;5;21;01mutils\u001b[39;00m\u001b[38;5;21;01m.\u001b[39;00m\u001b[38;5;21;01mdata_module\u001b[39;00m \u001b[38;5;28;01mimport\u001b[39;00m DataModule\n\u001b[1;32m     12\u001b[0m \u001b[38;5;28;01mimport\u001b[39;00m \u001b[38;5;21;01mutils\u001b[39;00m\n",
      "File \u001b[0;32m/mnt/92669E5D669E4241/uncertainty_prediction/utils/train.py:19\u001b[0m\n\u001b[1;32m     17\u001b[0m \u001b[38;5;66;03m# Third-party libraries\u001b[39;00m\n\u001b[1;32m     18\u001b[0m \u001b[38;5;28;01mimport\u001b[39;00m \u001b[38;5;21;01mtorch\u001b[39;00m\n\u001b[0;32m---> 19\u001b[0m \u001b[38;5;28;01mfrom\u001b[39;00m \u001b[38;5;21;01mtorch\u001b[39;00m\u001b[38;5;21;01m.\u001b[39;00m\u001b[38;5;21;01mutils\u001b[39;00m\u001b[38;5;21;01m.\u001b[39;00m\u001b[38;5;21;01mtensorboard\u001b[39;00m \u001b[38;5;28;01mimport\u001b[39;00m SummaryWriter\n\u001b[1;32m     20\u001b[0m \u001b[38;5;28;01mimport\u001b[39;00m \u001b[38;5;21;01mtorch\u001b[39;00m\u001b[38;5;21;01m.\u001b[39;00m\u001b[38;5;21;01moptim\u001b[39;00m \u001b[38;5;28;01mas\u001b[39;00m \u001b[38;5;21;01moptim\u001b[39;00m\n\u001b[1;32m     21\u001b[0m \u001b[38;5;28;01mfrom\u001b[39;00m \u001b[38;5;21;01mtorch\u001b[39;00m\u001b[38;5;21;01m.\u001b[39;00m\u001b[38;5;21;01mutils\u001b[39;00m\u001b[38;5;21;01m.\u001b[39;00m\u001b[38;5;21;01mdata\u001b[39;00m \u001b[38;5;28;01mimport\u001b[39;00m DataLoader\n",
      "File \u001b[0;32m~/miniconda3/envs/uncertainty_prediction/lib/python3.11/site-packages/torch/utils/tensorboard/__init__.py:12\u001b[0m\n\u001b[1;32m      9\u001b[0m \u001b[38;5;28;01mdel\u001b[39;00m Version\n\u001b[1;32m     10\u001b[0m \u001b[38;5;28;01mdel\u001b[39;00m tensorboard\n\u001b[0;32m---> 12\u001b[0m \u001b[38;5;28;01mfrom\u001b[39;00m \u001b[38;5;21;01m.\u001b[39;00m\u001b[38;5;21;01mwriter\u001b[39;00m \u001b[38;5;28;01mimport\u001b[39;00m FileWriter, SummaryWriter  \u001b[38;5;66;03m# noqa: F401\u001b[39;00m\n\u001b[1;32m     13\u001b[0m \u001b[38;5;28;01mfrom\u001b[39;00m \u001b[38;5;21;01mtensorboard\u001b[39;00m\u001b[38;5;21;01m.\u001b[39;00m\u001b[38;5;21;01msummary\u001b[39;00m\u001b[38;5;21;01m.\u001b[39;00m\u001b[38;5;21;01mwriter\u001b[39;00m\u001b[38;5;21;01m.\u001b[39;00m\u001b[38;5;21;01mrecord_writer\u001b[39;00m \u001b[38;5;28;01mimport\u001b[39;00m RecordWriter  \u001b[38;5;66;03m# noqa: F401\u001b[39;00m\n",
      "File \u001b[0;32m~/miniconda3/envs/uncertainty_prediction/lib/python3.11/site-packages/torch/utils/tensorboard/writer.py:16\u001b[0m\n\u001b[1;32m     13\u001b[0m \u001b[38;5;28;01mfrom\u001b[39;00m \u001b[38;5;21;01mtensorboard\u001b[39;00m\u001b[38;5;21;01m.\u001b[39;00m\u001b[38;5;21;01msummary\u001b[39;00m\u001b[38;5;21;01m.\u001b[39;00m\u001b[38;5;21;01mwriter\u001b[39;00m\u001b[38;5;21;01m.\u001b[39;00m\u001b[38;5;21;01mevent_file_writer\u001b[39;00m \u001b[38;5;28;01mimport\u001b[39;00m EventFileWriter\n\u001b[1;32m     15\u001b[0m \u001b[38;5;28;01mfrom\u001b[39;00m \u001b[38;5;21;01m.\u001b[39;00m\u001b[38;5;21;01m_convert_np\u001b[39;00m \u001b[38;5;28;01mimport\u001b[39;00m make_np\n\u001b[0;32m---> 16\u001b[0m \u001b[38;5;28;01mfrom\u001b[39;00m \u001b[38;5;21;01m.\u001b[39;00m\u001b[38;5;21;01m_embedding\u001b[39;00m \u001b[38;5;28;01mimport\u001b[39;00m get_embedding_info, make_mat, make_sprite, make_tsv, write_pbtxt\n\u001b[1;32m     17\u001b[0m \u001b[38;5;28;01mfrom\u001b[39;00m \u001b[38;5;21;01m.\u001b[39;00m\u001b[38;5;21;01m_onnx_graph\u001b[39;00m \u001b[38;5;28;01mimport\u001b[39;00m load_onnx_graph\n\u001b[1;32m     18\u001b[0m \u001b[38;5;28;01mfrom\u001b[39;00m \u001b[38;5;21;01m.\u001b[39;00m\u001b[38;5;21;01m_pytorch_graph\u001b[39;00m \u001b[38;5;28;01mimport\u001b[39;00m graph\n",
      "File \u001b[0;32m~/miniconda3/envs/uncertainty_prediction/lib/python3.11/site-packages/torch/utils/tensorboard/_embedding.py:9\u001b[0m\n\u001b[1;32m      5\u001b[0m \u001b[38;5;28;01mfrom\u001b[39;00m \u001b[38;5;21;01mtensorboard\u001b[39;00m\u001b[38;5;21;01m.\u001b[39;00m\u001b[38;5;21;01mcompat\u001b[39;00m \u001b[38;5;28;01mimport\u001b[39;00m tf\n\u001b[1;32m      6\u001b[0m \u001b[38;5;28;01mfrom\u001b[39;00m \u001b[38;5;21;01mtensorboard\u001b[39;00m\u001b[38;5;21;01m.\u001b[39;00m\u001b[38;5;21;01mplugins\u001b[39;00m\u001b[38;5;21;01m.\u001b[39;00m\u001b[38;5;21;01mprojector\u001b[39;00m\u001b[38;5;21;01m.\u001b[39;00m\u001b[38;5;21;01mprojector_config_pb2\u001b[39;00m \u001b[38;5;28;01mimport\u001b[39;00m EmbeddingInfo\n\u001b[0;32m----> 9\u001b[0m _HAS_GFILE_JOIN \u001b[38;5;241m=\u001b[39m \u001b[38;5;28mhasattr\u001b[39m(\u001b[43mtf\u001b[49m\u001b[38;5;241;43m.\u001b[39;49m\u001b[43mio\u001b[49m\u001b[38;5;241m.\u001b[39mgfile, \u001b[38;5;124m\"\u001b[39m\u001b[38;5;124mjoin\u001b[39m\u001b[38;5;124m\"\u001b[39m)\n\u001b[1;32m     12\u001b[0m \u001b[38;5;28;01mdef\u001b[39;00m \u001b[38;5;21m_gfile_join\u001b[39m(a, b):\n\u001b[1;32m     13\u001b[0m     \u001b[38;5;66;03m# The join API is different between tensorboard's TF stub and TF:\u001b[39;00m\n\u001b[1;32m     14\u001b[0m     \u001b[38;5;66;03m# https://github.com/tensorflow/tensorboard/issues/6080\u001b[39;00m\n\u001b[1;32m     15\u001b[0m     \u001b[38;5;66;03m# We need to try both because `tf` may point to either the stub or the real TF.\u001b[39;00m\n\u001b[1;32m     16\u001b[0m     \u001b[38;5;28;01mif\u001b[39;00m _HAS_GFILE_JOIN:\n",
      "File \u001b[0;32m~/miniconda3/envs/uncertainty_prediction/lib/python3.11/site-packages/tensorboard/lazy.py:65\u001b[0m, in \u001b[0;36mlazy_load.<locals>.wrapper.<locals>.LazyModule.__getattr__\u001b[0;34m(self, attr_name)\u001b[0m\n\u001b[1;32m     64\u001b[0m \u001b[38;5;28;01mdef\u001b[39;00m \u001b[38;5;21m__getattr__\u001b[39m(\u001b[38;5;28mself\u001b[39m, attr_name):\n\u001b[0;32m---> 65\u001b[0m     \u001b[38;5;28;01mreturn\u001b[39;00m \u001b[38;5;28mgetattr\u001b[39m(\u001b[43mload_once\u001b[49m\u001b[43m(\u001b[49m\u001b[38;5;28;43mself\u001b[39;49m\u001b[43m)\u001b[49m, attr_name)\n",
      "File \u001b[0;32m~/miniconda3/envs/uncertainty_prediction/lib/python3.11/site-packages/tensorboard/lazy.py:97\u001b[0m, in \u001b[0;36m_memoize.<locals>.wrapper\u001b[0;34m(arg)\u001b[0m\n\u001b[1;32m     95\u001b[0m     \u001b[38;5;28;01mwith\u001b[39;00m lock:\n\u001b[1;32m     96\u001b[0m         \u001b[38;5;28;01mif\u001b[39;00m cache\u001b[38;5;241m.\u001b[39mget(arg, nothing) \u001b[38;5;129;01mis\u001b[39;00m nothing:\n\u001b[0;32m---> 97\u001b[0m             cache[arg] \u001b[38;5;241m=\u001b[39m \u001b[43mf\u001b[49m\u001b[43m(\u001b[49m\u001b[43marg\u001b[49m\u001b[43m)\u001b[49m\n\u001b[1;32m     98\u001b[0m \u001b[38;5;28;01mreturn\u001b[39;00m cache[arg]\n",
      "File \u001b[0;32m~/miniconda3/envs/uncertainty_prediction/lib/python3.11/site-packages/tensorboard/lazy.py:50\u001b[0m, in \u001b[0;36mlazy_load.<locals>.wrapper.<locals>.load_once\u001b[0;34m(self)\u001b[0m\n\u001b[1;32m     48\u001b[0m load_once\u001b[38;5;241m.\u001b[39mloading \u001b[38;5;241m=\u001b[39m \u001b[38;5;28;01mTrue\u001b[39;00m\n\u001b[1;32m     49\u001b[0m \u001b[38;5;28;01mtry\u001b[39;00m:\n\u001b[0;32m---> 50\u001b[0m     module \u001b[38;5;241m=\u001b[39m \u001b[43mload_fn\u001b[49m\u001b[43m(\u001b[49m\u001b[43m)\u001b[49m\n\u001b[1;32m     51\u001b[0m \u001b[38;5;28;01mfinally\u001b[39;00m:\n\u001b[1;32m     52\u001b[0m     load_once\u001b[38;5;241m.\u001b[39mloading \u001b[38;5;241m=\u001b[39m \u001b[38;5;28;01mFalse\u001b[39;00m\n",
      "File \u001b[0;32m~/miniconda3/envs/uncertainty_prediction/lib/python3.11/site-packages/tensorboard/compat/__init__.py:45\u001b[0m, in \u001b[0;36mtf\u001b[0;34m()\u001b[0m\n\u001b[1;32m     43\u001b[0m \u001b[38;5;28;01mexcept\u001b[39;00m \u001b[38;5;167;01mImportError\u001b[39;00m:\n\u001b[1;32m     44\u001b[0m     \u001b[38;5;28;01mtry\u001b[39;00m:\n\u001b[0;32m---> 45\u001b[0m         \u001b[38;5;28;01mimport\u001b[39;00m \u001b[38;5;21;01mtensorflow\u001b[39;00m\n\u001b[1;32m     47\u001b[0m         \u001b[38;5;28;01mreturn\u001b[39;00m tensorflow\n\u001b[1;32m     48\u001b[0m     \u001b[38;5;28;01mexcept\u001b[39;00m \u001b[38;5;167;01mImportError\u001b[39;00m:\n",
      "File \u001b[0;32m~/miniconda3/envs/uncertainty_prediction/lib/python3.11/site-packages/tensorflow/__init__.py:48\u001b[0m\n\u001b[1;32m     45\u001b[0m \u001b[38;5;28;01mfrom\u001b[39;00m \u001b[38;5;21;01mtensorflow\u001b[39;00m\u001b[38;5;21;01m.\u001b[39;00m\u001b[38;5;21;01mpython\u001b[39;00m \u001b[38;5;28;01mimport\u001b[39;00m tf2 \u001b[38;5;28;01mas\u001b[39;00m _tf2\n\u001b[1;32m     46\u001b[0m _tf2\u001b[38;5;241m.\u001b[39menable()\n\u001b[0;32m---> 48\u001b[0m \u001b[38;5;28;01mfrom\u001b[39;00m \u001b[38;5;21;01mtensorflow\u001b[39;00m\u001b[38;5;21;01m.\u001b[39;00m\u001b[38;5;21;01m_api\u001b[39;00m\u001b[38;5;21;01m.\u001b[39;00m\u001b[38;5;21;01mv2\u001b[39;00m \u001b[38;5;28;01mimport\u001b[39;00m __internal__\n\u001b[1;32m     49\u001b[0m \u001b[38;5;28;01mfrom\u001b[39;00m \u001b[38;5;21;01mtensorflow\u001b[39;00m\u001b[38;5;21;01m.\u001b[39;00m\u001b[38;5;21;01m_api\u001b[39;00m\u001b[38;5;21;01m.\u001b[39;00m\u001b[38;5;21;01mv2\u001b[39;00m \u001b[38;5;28;01mimport\u001b[39;00m __operators__\n\u001b[1;32m     50\u001b[0m \u001b[38;5;28;01mfrom\u001b[39;00m \u001b[38;5;21;01mtensorflow\u001b[39;00m\u001b[38;5;21;01m.\u001b[39;00m\u001b[38;5;21;01m_api\u001b[39;00m\u001b[38;5;21;01m.\u001b[39;00m\u001b[38;5;21;01mv2\u001b[39;00m \u001b[38;5;28;01mimport\u001b[39;00m audio\n",
      "File \u001b[0;32m~/miniconda3/envs/uncertainty_prediction/lib/python3.11/site-packages/tensorflow/_api/v2/__internal__/__init__.py:8\u001b[0m\n\u001b[1;32m      3\u001b[0m \u001b[38;5;124;03m\"\"\"Public API for tf._api.v2.__internal__ namespace\u001b[39;00m\n\u001b[1;32m      4\u001b[0m \u001b[38;5;124;03m\"\"\"\u001b[39;00m\n\u001b[1;32m      6\u001b[0m \u001b[38;5;28;01mimport\u001b[39;00m \u001b[38;5;21;01msys\u001b[39;00m \u001b[38;5;28;01mas\u001b[39;00m \u001b[38;5;21;01m_sys\u001b[39;00m\n\u001b[0;32m----> 8\u001b[0m \u001b[38;5;28;01mfrom\u001b[39;00m \u001b[38;5;21;01mtensorflow\u001b[39;00m\u001b[38;5;21;01m.\u001b[39;00m\u001b[38;5;21;01m_api\u001b[39;00m\u001b[38;5;21;01m.\u001b[39;00m\u001b[38;5;21;01mv2\u001b[39;00m\u001b[38;5;21;01m.\u001b[39;00m\u001b[38;5;21;01m__internal__\u001b[39;00m \u001b[38;5;28;01mimport\u001b[39;00m autograph\n\u001b[1;32m      9\u001b[0m \u001b[38;5;28;01mfrom\u001b[39;00m \u001b[38;5;21;01mtensorflow\u001b[39;00m\u001b[38;5;21;01m.\u001b[39;00m\u001b[38;5;21;01m_api\u001b[39;00m\u001b[38;5;21;01m.\u001b[39;00m\u001b[38;5;21;01mv2\u001b[39;00m\u001b[38;5;21;01m.\u001b[39;00m\u001b[38;5;21;01m__internal__\u001b[39;00m \u001b[38;5;28;01mimport\u001b[39;00m decorator\n\u001b[1;32m     10\u001b[0m \u001b[38;5;28;01mfrom\u001b[39;00m \u001b[38;5;21;01mtensorflow\u001b[39;00m\u001b[38;5;21;01m.\u001b[39;00m\u001b[38;5;21;01m_api\u001b[39;00m\u001b[38;5;21;01m.\u001b[39;00m\u001b[38;5;21;01mv2\u001b[39;00m\u001b[38;5;21;01m.\u001b[39;00m\u001b[38;5;21;01m__internal__\u001b[39;00m \u001b[38;5;28;01mimport\u001b[39;00m dispatch\n",
      "File \u001b[0;32m~/miniconda3/envs/uncertainty_prediction/lib/python3.11/site-packages/tensorflow/_api/v2/__internal__/autograph/__init__.py:8\u001b[0m\n\u001b[1;32m      3\u001b[0m \u001b[38;5;124;03m\"\"\"Public API for tf._api.v2.__internal__.autograph namespace\u001b[39;00m\n\u001b[1;32m      4\u001b[0m \u001b[38;5;124;03m\"\"\"\u001b[39;00m\n\u001b[1;32m      6\u001b[0m \u001b[38;5;28;01mimport\u001b[39;00m \u001b[38;5;21;01msys\u001b[39;00m \u001b[38;5;28;01mas\u001b[39;00m \u001b[38;5;21;01m_sys\u001b[39;00m\n\u001b[0;32m----> 8\u001b[0m \u001b[38;5;28;01mfrom\u001b[39;00m \u001b[38;5;21;01mtensorflow\u001b[39;00m\u001b[38;5;21;01m.\u001b[39;00m\u001b[38;5;21;01mpython\u001b[39;00m\u001b[38;5;21;01m.\u001b[39;00m\u001b[38;5;21;01mautograph\u001b[39;00m\u001b[38;5;21;01m.\u001b[39;00m\u001b[38;5;21;01mcore\u001b[39;00m\u001b[38;5;21;01m.\u001b[39;00m\u001b[38;5;21;01mag_ctx\u001b[39;00m \u001b[38;5;28;01mimport\u001b[39;00m control_status_ctx \u001b[38;5;66;03m# line: 34\u001b[39;00m\n\u001b[1;32m      9\u001b[0m \u001b[38;5;28;01mfrom\u001b[39;00m \u001b[38;5;21;01mtensorflow\u001b[39;00m\u001b[38;5;21;01m.\u001b[39;00m\u001b[38;5;21;01mpython\u001b[39;00m\u001b[38;5;21;01m.\u001b[39;00m\u001b[38;5;21;01mautograph\u001b[39;00m\u001b[38;5;21;01m.\u001b[39;00m\u001b[38;5;21;01mimpl\u001b[39;00m\u001b[38;5;21;01m.\u001b[39;00m\u001b[38;5;21;01mapi\u001b[39;00m \u001b[38;5;28;01mimport\u001b[39;00m tf_convert \u001b[38;5;66;03m# line: 493\u001b[39;00m\n",
      "File \u001b[0;32m~/miniconda3/envs/uncertainty_prediction/lib/python3.11/site-packages/tensorflow/python/autograph/core/ag_ctx.py:21\u001b[0m\n\u001b[1;32m     18\u001b[0m \u001b[38;5;28;01mimport\u001b[39;00m \u001b[38;5;21;01minspect\u001b[39;00m\n\u001b[1;32m     19\u001b[0m \u001b[38;5;28;01mimport\u001b[39;00m \u001b[38;5;21;01mthreading\u001b[39;00m\n\u001b[0;32m---> 21\u001b[0m \u001b[38;5;28;01mfrom\u001b[39;00m \u001b[38;5;21;01mtensorflow\u001b[39;00m\u001b[38;5;21;01m.\u001b[39;00m\u001b[38;5;21;01mpython\u001b[39;00m\u001b[38;5;21;01m.\u001b[39;00m\u001b[38;5;21;01mautograph\u001b[39;00m\u001b[38;5;21;01m.\u001b[39;00m\u001b[38;5;21;01mutils\u001b[39;00m \u001b[38;5;28;01mimport\u001b[39;00m ag_logging\n\u001b[1;32m     22\u001b[0m \u001b[38;5;28;01mfrom\u001b[39;00m \u001b[38;5;21;01mtensorflow\u001b[39;00m\u001b[38;5;21;01m.\u001b[39;00m\u001b[38;5;21;01mpython\u001b[39;00m\u001b[38;5;21;01m.\u001b[39;00m\u001b[38;5;21;01mutil\u001b[39;00m\u001b[38;5;21;01m.\u001b[39;00m\u001b[38;5;21;01mtf_export\u001b[39;00m \u001b[38;5;28;01mimport\u001b[39;00m tf_export\n\u001b[1;32m     25\u001b[0m stacks \u001b[38;5;241m=\u001b[39m threading\u001b[38;5;241m.\u001b[39mlocal()\n",
      "File \u001b[0;32m~/miniconda3/envs/uncertainty_prediction/lib/python3.11/site-packages/tensorflow/python/autograph/utils/__init__.py:17\u001b[0m\n\u001b[1;32m      1\u001b[0m \u001b[38;5;66;03m# Copyright 2016 The TensorFlow Authors. All Rights Reserved.\u001b[39;00m\n\u001b[1;32m      2\u001b[0m \u001b[38;5;66;03m#\u001b[39;00m\n\u001b[1;32m      3\u001b[0m \u001b[38;5;66;03m# Licensed under the Apache License, Version 2.0 (the \"License\");\u001b[39;00m\n\u001b[0;32m   (...)\u001b[0m\n\u001b[1;32m     13\u001b[0m \u001b[38;5;66;03m# limitations under the License.\u001b[39;00m\n\u001b[1;32m     14\u001b[0m \u001b[38;5;66;03m# ==============================================================================\u001b[39;00m\n\u001b[1;32m     15\u001b[0m \u001b[38;5;124;03m\"\"\"Utility module that contains APIs usable in the generated code.\"\"\"\u001b[39;00m\n\u001b[0;32m---> 17\u001b[0m \u001b[38;5;28;01mfrom\u001b[39;00m \u001b[38;5;21;01mtensorflow\u001b[39;00m\u001b[38;5;21;01m.\u001b[39;00m\u001b[38;5;21;01mpython\u001b[39;00m\u001b[38;5;21;01m.\u001b[39;00m\u001b[38;5;21;01mautograph\u001b[39;00m\u001b[38;5;21;01m.\u001b[39;00m\u001b[38;5;21;01mutils\u001b[39;00m\u001b[38;5;21;01m.\u001b[39;00m\u001b[38;5;21;01mcontext_managers\u001b[39;00m \u001b[38;5;28;01mimport\u001b[39;00m control_dependency_on_returns\n\u001b[1;32m     18\u001b[0m \u001b[38;5;28;01mfrom\u001b[39;00m \u001b[38;5;21;01mtensorflow\u001b[39;00m\u001b[38;5;21;01m.\u001b[39;00m\u001b[38;5;21;01mpython\u001b[39;00m\u001b[38;5;21;01m.\u001b[39;00m\u001b[38;5;21;01mautograph\u001b[39;00m\u001b[38;5;21;01m.\u001b[39;00m\u001b[38;5;21;01mutils\u001b[39;00m\u001b[38;5;21;01m.\u001b[39;00m\u001b[38;5;21;01mmisc\u001b[39;00m \u001b[38;5;28;01mimport\u001b[39;00m alias_tensors\n\u001b[1;32m     19\u001b[0m \u001b[38;5;28;01mfrom\u001b[39;00m \u001b[38;5;21;01mtensorflow\u001b[39;00m\u001b[38;5;21;01m.\u001b[39;00m\u001b[38;5;21;01mpython\u001b[39;00m\u001b[38;5;21;01m.\u001b[39;00m\u001b[38;5;21;01mautograph\u001b[39;00m\u001b[38;5;21;01m.\u001b[39;00m\u001b[38;5;21;01mutils\u001b[39;00m\u001b[38;5;21;01m.\u001b[39;00m\u001b[38;5;21;01mtensor_list\u001b[39;00m \u001b[38;5;28;01mimport\u001b[39;00m dynamic_list_append\n",
      "File \u001b[0;32m~/miniconda3/envs/uncertainty_prediction/lib/python3.11/site-packages/tensorflow/python/autograph/utils/context_managers.py:19\u001b[0m\n\u001b[1;32m     15\u001b[0m \u001b[38;5;124;03m\"\"\"Various context managers.\"\"\"\u001b[39;00m\n\u001b[1;32m     17\u001b[0m \u001b[38;5;28;01mimport\u001b[39;00m \u001b[38;5;21;01mcontextlib\u001b[39;00m\n\u001b[0;32m---> 19\u001b[0m \u001b[38;5;28;01mfrom\u001b[39;00m \u001b[38;5;21;01mtensorflow\u001b[39;00m\u001b[38;5;21;01m.\u001b[39;00m\u001b[38;5;21;01mpython\u001b[39;00m\u001b[38;5;21;01m.\u001b[39;00m\u001b[38;5;21;01mframework\u001b[39;00m \u001b[38;5;28;01mimport\u001b[39;00m ops\n\u001b[1;32m     20\u001b[0m \u001b[38;5;28;01mfrom\u001b[39;00m \u001b[38;5;21;01mtensorflow\u001b[39;00m\u001b[38;5;21;01m.\u001b[39;00m\u001b[38;5;21;01mpython\u001b[39;00m\u001b[38;5;21;01m.\u001b[39;00m\u001b[38;5;21;01mops\u001b[39;00m \u001b[38;5;28;01mimport\u001b[39;00m tensor_array_ops\n\u001b[1;32m     23\u001b[0m \u001b[38;5;28;01mdef\u001b[39;00m \u001b[38;5;21mcontrol_dependency_on_returns\u001b[39m(return_value):\n",
      "File \u001b[0;32m~/miniconda3/envs/uncertainty_prediction/lib/python3.11/site-packages/tensorflow/python/framework/ops.py:40\u001b[0m\n\u001b[1;32m     36\u001b[0m \u001b[38;5;28;01mfrom\u001b[39;00m \u001b[38;5;21;01mtensorflow\u001b[39;00m\u001b[38;5;21;01m.\u001b[39;00m\u001b[38;5;21;01mcore\u001b[39;00m\u001b[38;5;21;01m.\u001b[39;00m\u001b[38;5;21;01mprotobuf\u001b[39;00m \u001b[38;5;28;01mimport\u001b[39;00m config_pb2\n\u001b[1;32m     37\u001b[0m \u001b[38;5;66;03m# pywrap_tensorflow must be imported first to avoid protobuf issues.\u001b[39;00m\n\u001b[1;32m     38\u001b[0m \u001b[38;5;66;03m# (b/143110113)\u001b[39;00m\n\u001b[1;32m     39\u001b[0m \u001b[38;5;66;03m# pylint: disable=invalid-import-order,g-bad-import-order,unused-import\u001b[39;00m\n\u001b[0;32m---> 40\u001b[0m \u001b[38;5;28;01mfrom\u001b[39;00m \u001b[38;5;21;01mtensorflow\u001b[39;00m\u001b[38;5;21;01m.\u001b[39;00m\u001b[38;5;21;01mpython\u001b[39;00m \u001b[38;5;28;01mimport\u001b[39;00m pywrap_tensorflow\n\u001b[1;32m     41\u001b[0m \u001b[38;5;28;01mfrom\u001b[39;00m \u001b[38;5;21;01mtensorflow\u001b[39;00m\u001b[38;5;21;01m.\u001b[39;00m\u001b[38;5;21;01mpython\u001b[39;00m \u001b[38;5;28;01mimport\u001b[39;00m pywrap_tfe\n\u001b[1;32m     42\u001b[0m \u001b[38;5;66;03m# pylint: enable=invalid-import-order,g-bad-import-order,unused-import\u001b[39;00m\n",
      "File \u001b[0;32m~/miniconda3/envs/uncertainty_prediction/lib/python3.11/site-packages/tensorflow/python/pywrap_tensorflow.py:34\u001b[0m\n\u001b[1;32m     29\u001b[0m \u001b[38;5;28;01mfrom\u001b[39;00m \u001b[38;5;21;01mtensorflow\u001b[39;00m\u001b[38;5;21;01m.\u001b[39;00m\u001b[38;5;21;01mpython\u001b[39;00m\u001b[38;5;21;01m.\u001b[39;00m\u001b[38;5;21;01mplatform\u001b[39;00m \u001b[38;5;28;01mimport\u001b[39;00m self_check\n\u001b[1;32m     31\u001b[0m \u001b[38;5;66;03m# TODO(mdan): Cleanup antipattern: import for side effects.\u001b[39;00m\n\u001b[1;32m     32\u001b[0m \n\u001b[1;32m     33\u001b[0m \u001b[38;5;66;03m# Perform pre-load sanity checks in order to produce a more actionable error.\u001b[39;00m\n\u001b[0;32m---> 34\u001b[0m \u001b[43mself_check\u001b[49m\u001b[38;5;241;43m.\u001b[39;49m\u001b[43mpreload_check\u001b[49m\u001b[43m(\u001b[49m\u001b[43m)\u001b[49m\n\u001b[1;32m     36\u001b[0m \u001b[38;5;66;03m# pylint: disable=wildcard-import,g-import-not-at-top,unused-import,line-too-long\u001b[39;00m\n\u001b[1;32m     38\u001b[0m \u001b[38;5;28;01mtry\u001b[39;00m:\n\u001b[1;32m     39\u001b[0m   \u001b[38;5;66;03m# This import is expected to fail if there is an explicit shared object\u001b[39;00m\n\u001b[1;32m     40\u001b[0m   \u001b[38;5;66;03m# dependency (with_framework_lib=true), since we do not need RTLD_GLOBAL.\u001b[39;00m\n",
      "File \u001b[0;32m~/miniconda3/envs/uncertainty_prediction/lib/python3.11/site-packages/tensorflow/python/platform/self_check.py:63\u001b[0m, in \u001b[0;36mpreload_check\u001b[0;34m()\u001b[0m\n\u001b[1;32m     50\u001b[0m       \u001b[38;5;28;01mraise\u001b[39;00m \u001b[38;5;167;01mImportError\u001b[39;00m(\n\u001b[1;32m     51\u001b[0m           \u001b[38;5;124m\"\u001b[39m\u001b[38;5;124mCould not find the DLL(s) \u001b[39m\u001b[38;5;132;01m%r\u001b[39;00m\u001b[38;5;124m. TensorFlow requires that these DLLs \u001b[39m\u001b[38;5;124m\"\u001b[39m\n\u001b[1;32m     52\u001b[0m           \u001b[38;5;124m\"\u001b[39m\u001b[38;5;124mbe installed in a directory that is named in your \u001b[39m\u001b[38;5;132;01m%%\u001b[39;00m\u001b[38;5;124mPATH\u001b[39m\u001b[38;5;132;01m%%\u001b[39;00m\u001b[38;5;124m \u001b[39m\u001b[38;5;124m\"\u001b[39m\n\u001b[0;32m   (...)\u001b[0m\n\u001b[1;32m     56\u001b[0m           \u001b[38;5;124m\"\u001b[39m\u001b[38;5;124mhttps://support.microsoft.com/help/2977003/the-latest-supported-visual-c-downloads\u001b[39m\u001b[38;5;124m\"\u001b[39m\n\u001b[1;32m     57\u001b[0m           \u001b[38;5;241m%\u001b[39m \u001b[38;5;124m\"\u001b[39m\u001b[38;5;124m or \u001b[39m\u001b[38;5;124m\"\u001b[39m\u001b[38;5;241m.\u001b[39mjoin(missing))\n\u001b[1;32m     58\u001b[0m \u001b[38;5;28;01melse\u001b[39;00m:\n\u001b[1;32m     59\u001b[0m   \u001b[38;5;66;03m# Load a library that performs CPU feature guard checking.  Doing this here\u001b[39;00m\n\u001b[1;32m     60\u001b[0m   \u001b[38;5;66;03m# as a preload check makes it more likely that we detect any CPU feature\u001b[39;00m\n\u001b[1;32m     61\u001b[0m   \u001b[38;5;66;03m# incompatibilities before we trigger them (which would typically result in\u001b[39;00m\n\u001b[1;32m     62\u001b[0m   \u001b[38;5;66;03m# SIGILL).\u001b[39;00m\n\u001b[0;32m---> 63\u001b[0m   \u001b[38;5;28;01mfrom\u001b[39;00m \u001b[38;5;21;01mtensorflow\u001b[39;00m\u001b[38;5;21;01m.\u001b[39;00m\u001b[38;5;21;01mpython\u001b[39;00m\u001b[38;5;21;01m.\u001b[39;00m\u001b[38;5;21;01mplatform\u001b[39;00m \u001b[38;5;28;01mimport\u001b[39;00m _pywrap_cpu_feature_guard\n\u001b[1;32m     64\u001b[0m   _pywrap_cpu_feature_guard\u001b[38;5;241m.\u001b[39mInfoAboutUnusedCPUFeatures()\n",
      "\u001b[0;31mKeyboardInterrupt\u001b[0m: "
     ]
    }
   ],
   "source": [
    "from main import train_single_model_from_config\n",
    "from utils.setup import load_data_module\n",
    "import yaml"
   ]
  },
  {
   "cell_type": "markdown",
   "metadata": {},
   "source": [
    "## Single Seed"
   ]
  },
  {
   "cell_type": "code",
   "execution_count": null,
   "metadata": {},
   "outputs": [],
   "source": [
    "config_file = \"configs/notebook_configs/config_mdn_full_recalibration.yml\"\n",
    "with open(config_file, \"r\") as f:\n",
    "    config = yaml.safe_load(f)"
   ]
  },
  {
   "cell_type": "code",
   "execution_count": null,
   "metadata": {},
   "outputs": [],
   "source": [
    "dm = load_data_module(**config[\"data_hyperparameters\"])"
   ]
  },
  {
   "cell_type": "code",
   "execution_count": null,
   "metadata": {},
   "outputs": [
    {
     "name": "stderr",
     "output_type": "stream",
     "text": [
      "val_nll_loss: 2.4914909811580883, train-loss: 0.43722328543663025:  11%|█         | 53/500 [00:22<03:07,  2.38it/s] "
     ]
    },
    {
     "name": "stdout",
     "output_type": "stream",
     "text": [
      "Epoch 00053: reducing learning rate of group 0 to 1.0000e-04.\n"
     ]
    },
    {
     "name": "stderr",
     "output_type": "stream",
     "text": [
      "val_nll_loss: 2.4586875952926337, train-loss: -0.06286537647247314:  13%|█▎        | 67/500 [00:27<02:57,  2.44it/s]"
     ]
    },
    {
     "name": "stdout",
     "output_type": "stream",
     "text": [
      "Epoch 00067: reducing learning rate of group 0 to 5.0000e-05.\n"
     ]
    },
    {
     "name": "stderr",
     "output_type": "stream",
     "text": [
      "val_nll_loss: 2.4625133626601277, train-loss: 0.2608163058757782:  14%|█▍        | 70/500 [00:29<03:02,  2.36it/s]  "
     ]
    },
    {
     "name": "stdout",
     "output_type": "stream",
     "text": [
      "Early stopping\n"
     ]
    },
    {
     "name": "stderr",
     "output_type": "stream",
     "text": [
      "\n"
     ]
    }
   ],
   "source": [
    "model = train_single_model_from_config(config_file)"
   ]
  },
  {
   "cell_type": "code",
   "execution_count": 93,
   "metadata": {},
   "outputs": [],
   "source": [
    "k = 256\n",
    "y_grid_size = 2**13\n",
    "confidence_grid = torch.linspace(1/k, 1 - 1/k, k)\n",
    "y_space = model.y_space\n",
    "y_space = torch.linspace(y_space.min().item() - model.std_y.item(), y_space.max().item() + model.std_y.item(), y_grid_size)\n",
    "scaling_factor = ((y_space.max() - y_space.min())/len(y_space))**-1"
   ]
  },
  {
   "cell_type": "code",
   "execution_count": 94,
   "metadata": {},
   "outputs": [
    {
     "data": {
      "text/plain": [
       "tensor(114.2024)"
      ]
     },
     "execution_count": 94,
     "metadata": {},
     "output_type": "execute_result"
    }
   ],
   "source": [
    "scaling_factor"
   ]
  },
  {
   "cell_type": "code",
   "execution_count": 95,
   "metadata": {},
   "outputs": [
    {
     "name": "stderr",
     "output_type": "stream",
     "text": [
      "  0%|          | 0/7 [00:00<?, ?it/s]/tmp/ipykernel_2166138/3093232464.py:8: UserWarning: To copy construct from a tensor, it is recommended to use sourceTensor.clone().detach() or sourceTensor.clone().detach().requires_grad_(True), rather than torch.tensor(sourceTensor).\n",
      "  required_p = model.get_required_conformal_p_values(x, y, torch.tensor(y_space, device=\"cuda\"))\n",
      "100%|██████████| 7/7 [00:00<00:00,  8.51it/s]\n"
     ]
    }
   ],
   "source": [
    "required_ps = []\n",
    "with torch.no_grad():\n",
    "    for x, y in tqdm(dm.get_train_dataloader(64)):\n",
    "\n",
    "        x = x.to(\"cuda\")\n",
    "        y = y.to(\"cuda\")\n",
    "\n",
    "        required_p = model.get_required_conformal_p_values(x, y, torch.tensor(y_space, device=\"cuda\"))\n",
    "        del x, y\n",
    "        required_ps.append(required_p)\n",
    "required_ps = torch.cat(required_ps, 0)"
   ]
  },
  {
   "cell_type": "code",
   "execution_count": 96,
   "metadata": {},
   "outputs": [],
   "source": [
    "required_ps = required_ps.cpu()"
   ]
  },
  {
   "cell_type": "code",
   "execution_count": 97,
   "metadata": {},
   "outputs": [],
   "source": [
    "calibrated_confidence_grid = torch.quantile(required_ps.float(), confidence_grid)"
   ]
  },
  {
   "cell_type": "code",
   "execution_count": 98,
   "metadata": {},
   "outputs": [
    {
     "data": {
      "image/png": "[encoded data removed]",
      "text/plain": [
       "<Figure size 640x480 with 1 Axes>"
      ]
     },
     "metadata": {},
     "output_type": "display_data"
    },
    {
     "data": {
      "image/png": "[encoded data removed]",
      "text/plain": [
       "<Figure size 640x480 with 1 Axes>"
      ]
     },
     "metadata": {},
     "output_type": "display_data"
    },
    {
     "data": {
      "image/png": "[encoded data removed]",
      "text/plain": [
       "<Figure size 640x480 with 1 Axes>"
      ]
     },
     "metadata": {},
     "output_type": "display_data"
    },
    {
     "data": {
      "image/png": "[encoded data removed]",
      "text/plain": [
       "<Figure size 640x480 with 1 Axes>"
      ]
     },
     "metadata": {},
     "output_type": "display_data"
    },
    {
     "data": {
      "image/png": "[encoded data removed]",
      "text/plain": [
       "<Figure size 640x480 with 1 Axes>"
      ]
     },
     "metadata": {},
     "output_type": "display_data"
    }
   ],
   "source": [
    "%matplotlib inline\n",
    "plt.plot(calibrated_confidence_grid.detach().numpy())\n",
    "plt.xlabel(\"Confidence level\")\n",
    "plt.ylabel(\"Calibrated p-value\")\n",
    "plt.show()\n",
    "\n",
    "\n",
    "grad = calibrated_confidence_grid[1:] - calibrated_confidence_grid[:-1]\n",
    "plt.plot(grad.detach().numpy())\n",
    "plt.xlabel(\"Confidence level\")\n",
    "plt.ylabel(\"Gradient of calibrated p-value\")\n",
    "plt.show()\n",
    "\n",
    "window_size = k//8\n",
    "filter_ = np.ones(window_size) / window_size\n",
    "\n",
    "grad_grid_smooth = np.convolve(grad, filter_, mode='same')\n",
    "plt.plot(grad_grid_smooth)\n",
    "plt.xlabel(\"Confidence level\")\n",
    "plt.ylabel(\"Smooth Gradient of calibrated p-value\")\n",
    "plt.show()\n",
    "\n",
    "smooth_calibrated_confidence_grid = np.cumsum(grad_grid_smooth)\n",
    "smooth_calibrated_confidence_grid /= np.max(smooth_calibrated_confidence_grid)\n",
    "smooth_calibrated_confidence_grid -= 1/k\n",
    "plt.plot(calibrated_confidence_grid)\n",
    "plt.xlabel(\"Confidence level\")\n",
    "plt.ylabel(\"Smooth Gradient of calibrated p-value\")\n",
    "plt.show()\n",
    "#calibrated_confidence_grid = torch.tensor(smooth_calibrated_confidence_grid)\n",
    "\n",
    "plt.plot(confidence_grid.detach().numpy())\n",
    "plt.xlabel(\"Confidence level\")\n",
    "plt.ylabel(\"Confidence level Ideal\")\n",
    "plt.show()"
   ]
  },
  {
   "cell_type": "code",
   "execution_count": 99,
   "metadata": {},
   "outputs": [],
   "source": [
    "model = model.cuda()"
   ]
  },
  {
   "cell_type": "code",
   "execution_count": 100,
   "metadata": {},
   "outputs": [],
   "source": [
    "scaling_factor = scaling_factor.cpu()"
   ]
  },
  {
   "cell_type": "code",
   "execution_count": 101,
   "metadata": {},
   "outputs": [],
   "source": [
    "do_plot = True"
   ]
  },
  {
   "cell_type": "code",
   "execution_count": 137,
   "metadata": {},
   "outputs": [
    {
     "name": "stderr",
     "output_type": "stream",
     "text": [
      "  0%|          | 0/2 [00:00<?, ?it/s]"
     ]
    },
    {
     "name": "stderr",
     "output_type": "stream",
     "text": [
      "/tmp/ipykernel_2166138/1759927404.py:11: UserWarning: To copy construct from a tensor, it is recommended to use sourceTensor.clone().detach() or sourceTensor.clone().detach().requires_grad_(True), rather than torch.tensor(sourceTensor).\n",
      "  hdr_before = model.get_hdr(x, confidence_grid.cuda(), torch.tensor(y_space).cuda())\n",
      "/tmp/ipykernel_2166138/1759927404.py:12: UserWarning: To copy construct from a tensor, it is recommended to use sourceTensor.clone().detach() or sourceTensor.clone().detach().requires_grad_(True), rather than torch.tensor(sourceTensor).\n",
      "  hdr_after = model.get_hdr(x, calibrated_confidence_grid.cuda(), torch.tensor(y_space).cuda())\n",
      "/tmp/ipykernel_2166138/1759927404.py:13: UserWarning: To copy construct from a tensor, it is recommended to use sourceTensor.clone().detach() or sourceTensor.clone().detach().requires_grad_(True), rather than torch.tensor(sourceTensor).\n",
      "  density_grid = model.get_density_grid(x, torch.tensor(y_space).cuda())\n",
      "100%|██████████| 2/2 [00:04<00:00,  2.21s/it]\n"
     ]
    }
   ],
   "source": [
    "ll_before = []\n",
    "ll_after = []\n",
    "ll_before_original = []\n",
    "ll_maxim = []\n",
    "with torch.no_grad():\n",
    "    for x, y in tqdm(dm.get_test_dataloader(64)):\n",
    "\n",
    "\n",
    "        x = x.to(\"cuda\")\n",
    "\n",
    "        hdr_before = model.get_hdr(x, confidence_grid.cuda(), torch.tensor(y_space).cuda())\n",
    "        hdr_after = model.get_hdr(x, calibrated_confidence_grid.cuda(), torch.tensor(y_space).cuda())\n",
    "        density_grid = model.get_density_grid(x, torch.tensor(y_space).cuda())\n",
    "\n",
    "        hdr_before = hdr_before.cpu()\n",
    "        hdr_after = hdr_after.cpu()\n",
    "        density_grid = density_grid.cpu()\n",
    "\n",
    "        if do_plot: fig, axs = plt.subplots(2, 2, figsize=(12, 8))\n",
    "\n",
    "        for sample_no in range(len(hdr_before)):\n",
    "            before, after = hdr_before[sample_no].clone().detach().numpy(), hdr_after[sample_no].clone().detach().numpy()\n",
    "            density_grid_before = density_grid[sample_no].clone().detach().numpy()\n",
    "\n",
    "            before = np.concatenate([before, np.ones_like(before[:1])], 0)\n",
    "            after = np.concatenate([after, np.ones_like(after[:1])], 0)\n",
    "\n",
    "            before[1:] =  np.bitwise_xor(before[1:], before[:-1])\n",
    "            after[1:] =  np.bitwise_xor(after[1:], after[:-1])\n",
    "\n",
    "\n",
    "            before_grid = np.zeros_like(y_space)\n",
    "            after_grid = np.zeros_like(y_space)\n",
    "\n",
    "            #plt.figure(figsize=(8, 6))\n",
    "\n",
    "            for i in range(before.shape[0]):\n",
    "                i_sum = np.sum(before[i])\n",
    "                if i_sum == 0:\n",
    "                    continue\n",
    "                level = 1 / i_sum\n",
    "\n",
    "                active_where = y_space[before[i]]\n",
    "                before_grid[before[i]] = level\n",
    "                #plt.scatter(active_where, np.ones_like(active_where) * level, color =\"blue\", alpha=1- (i / before.shape[0]))\n",
    "\n",
    "            #plt.legend()\n",
    "            #plt.show()\n",
    "\n",
    "            #plt.figure(figsize=(8, 6))\n",
    "\n",
    "            for i in range(after.shape[0]):\n",
    "                i_sum = np.sum(after[i])\n",
    "                if i_sum == 0:\n",
    "                    continue\n",
    "                level = 1 / i_sum\n",
    "\n",
    "                active_where = y_space[after[i]]\n",
    "                after_grid[after[i]] = level\n",
    "                #plt.scatter(active_where, np.ones_like(active_where) * level, color =\"blue\",alpha=1- (i / before.shape[0]))\n",
    "            #plt.legend()\n",
    "            #plt.show()\n",
    "\n",
    "            \n",
    "\n",
    "            window_size = int(y_grid_size // ( 4 * 2*np.log(len(dm.test_dataset))))\n",
    "\n",
    "            filter_ = np.ones(window_size) / window_size\n",
    "\n",
    "            c_before = np.convolve(before_grid, filter_, mode='same')\n",
    "            c_after = np.convolve(after_grid, filter_, mode='same')\n",
    "            c_epistemic = np.convolve(np.abs(before_grid - after_grid), filter_, mode='same')\n",
    "\n",
    "            scaled_before_original = scaling_factor * density_grid_before / np.sum(density_grid_before)\n",
    "            scaled_before = scaling_factor * c_before / np.sum(c_before)\n",
    "            scaled_after = scaling_factor * c_after / np.sum(c_after)\n",
    "\n",
    "            maxim = np.maximum(scaled_before_original, scaled_after)\n",
    "            scaled_maxim = scaling_factor * maxim / np.sum(maxim.numpy())\n",
    "\n",
    "            ll_after.append(scaled_after[np.argmin(np.abs(y_space - y[sample_no].numpy()))])\n",
    "            ll_before.append(scaled_before[np.argmin(np.abs(y_space - y[sample_no].numpy()))])\n",
    "            ll_before_original.append(scaled_before_original[np.argmin(np.abs(y_space - y[sample_no].numpy()))])\n",
    "            ll_maxim.append(scaled_maxim[np.argmin(np.abs(y_space - y[sample_no].numpy()))])\n",
    "\n",
    "            \n",
    "            if (ll_after[-1] == 0 or ll_before[-1] == 0 or ll_before_original[-1] == 0 or sample_no < 4) and do_plot:\n",
    "\n",
    "\n",
    "\n",
    "\n",
    "                # Your existing code for plotting\n",
    "                \n",
    "                # Calculate the row and column index in the grid\n",
    "                row = sample_no // 2\n",
    "                col = sample_no % 2\n",
    "                \n",
    "                # Plot the figure in the corresponding subplot\n",
    "                axs[row, col].plot(y_space, scaled_after, label='After Calibration', color='red', alpha=0.5)\n",
    "                axs[row, col].plot(y_space, scaled_before_original, label='Before Calibration', color='purple', alpha=0.5)\n",
    "                axs[row, col].plot(y_space, scaling_factor * c_epistemic/np.sum(c_before), label='Epistemic Uncertainty', color='green')\n",
    "                axs[row, col].axvline(y[sample_no], color='black', linestyle='--', label='True Target')\n",
    "                axs[row, col].set_xlabel('target-space')\n",
    "                axs[row, col].set_ylabel('Density')\n",
    "                axs[row, col].legend()\n",
    "\n",
    "\n",
    "\n",
    "                # plt.figure(figsize=(20, 10))\n",
    "                # #plt.plot(y_space, scaled_before, label='Before Calibration', color='blue', alpha=0.5)\n",
    "                # #plt.plot(y_space, c_before / np.sum(c_before), label='Before Calibration', color='blue', alpha=0.5)\n",
    "                # plt.plot(y_space, scaled_after, label='After Calibration', color='red', alpha=0.5)\n",
    "                # plt.plot(y_space, scaled_before_original, label='Before Calibration', color='purple', alpha=0.5)\n",
    "                # plt.plot(y_space, scaling_factor * c_epistemic/np.sum(c_before), label='Epistemic Uncertainty', color='green')\n",
    "                # plt.axvline(y[sample_no], color='black', linestyle='--', label='True Target')\n",
    "                # plt.xlabel('target-space')\n",
    "                # plt.ylabel('Density')\n",
    "                # plt.legend()\n",
    "                # plt.show()\n",
    "        if do_plot: \n",
    "            plt.tight_layout()\n",
    "            #plt.suptitle(\"Calibration of HDRs on Test Data\")\n",
    "            plt.show()\n",
    "\n",
    "        do_plot = False\n",
    "\n"
   ]
  },
  {
   "cell_type": "code",
   "execution_count": 138,
   "metadata": {},
   "outputs": [
    {
     "data": {
      "text/plain": [
       "(221, 73.99956501254833)"
      ]
     },
     "execution_count": 138,
     "metadata": {},
     "output_type": "execute_result"
    }
   ],
   "source": [
    "window_size, ( 8 * 2*np.log(len(dm.test_dataset)))"
   ]
  },
  {
   "cell_type": "code",
   "execution_count": 139,
   "metadata": {},
   "outputs": [
    {
     "data": {
      "text/plain": [
       "-2.4494662"
      ]
     },
     "execution_count": 139,
     "metadata": {},
     "output_type": "execute_result"
    }
   ],
   "source": [
    "np.log(ll_before_original).mean()"
   ]
  },
  {
   "cell_type": "code",
   "execution_count": 140,
   "metadata": {},
   "outputs": [
    {
     "data": {
      "image/png": "[encoded data removed]",
      "text/plain": [
       "<Figure size 640x480 with 1 Axes>"
      ]
     },
     "metadata": {},
     "output_type": "display_data"
    }
   ],
   "source": [
    "plt.boxplot(np.log(ll_before_original))\n",
    "plt.show()"
   ]
  },
  {
   "cell_type": "code",
   "execution_count": 141,
   "metadata": {},
   "outputs": [
    {
     "data": {
      "text/plain": [
       "-2.4562443322771577"
      ]
     },
     "execution_count": 141,
     "metadata": {},
     "output_type": "execute_result"
    }
   ],
   "source": [
    "np.log(ll_before).mean()"
   ]
  },
  {
   "cell_type": "code",
   "execution_count": 142,
   "metadata": {},
   "outputs": [
    {
     "data": {
      "image/png": "[encoded data removed]",
      "text/plain": [
       "<Figure size 640x480 with 1 Axes>"
      ]
     },
     "metadata": {},
     "output_type": "display_data"
    }
   ],
   "source": [
    "plt.boxplot(np.log(ll_before))\n",
    "plt.show()"
   ]
  },
  {
   "cell_type": "code",
   "execution_count": 143,
   "metadata": {},
   "outputs": [
    {
     "data": {
      "text/plain": [
       "-2.4167859842629666"
      ]
     },
     "execution_count": 143,
     "metadata": {},
     "output_type": "execute_result"
    }
   ],
   "source": [
    "np.log(ll_after).mean()"
   ]
  },
  {
   "cell_type": "code",
   "execution_count": 144,
   "metadata": {},
   "outputs": [
    {
     "data": {
      "image/png": "[encoded data removed]",
      "text/plain": [
       "<Figure size 640x480 with 1 Axes>"
      ]
     },
     "metadata": {},
     "output_type": "display_data"
    }
   ],
   "source": [
    "plt.boxplot(np.log(ll_after))\n",
    "plt.show()"
   ]
  },
  {
   "cell_type": "code",
   "execution_count": 145,
   "metadata": {},
   "outputs": [
    {
     "data": {
      "text/plain": [
       "-2.4412912898597563"
      ]
     },
     "execution_count": 145,
     "metadata": {},
     "output_type": "execute_result"
    }
   ],
   "source": [
    "np.log(ll_maxim).mean()"
   ]
  },
  {
   "cell_type": "code",
   "execution_count": 146,
   "metadata": {},
   "outputs": [
    {
     "data": {
      "image/png": "[encoded data removed]",
      "text/plain": [
       "<Figure size 640x480 with 1 Axes>"
      ]
     },
     "metadata": {},
     "output_type": "display_data"
    }
   ],
   "source": [
    "plt.boxplot(np.log(ll_maxim))\n",
    "plt.show()"
   ]
  },
  {
   "cell_type": "markdown",
   "metadata": {},
   "source": [
    "## Do this with multiple seeds and datasets"
   ]
  },
  {
   "cell_type": "code",
   "execution_count": 4,
   "metadata": {},
   "outputs": [],
   "source": [
    "do_plot = False"
   ]
  },
  {
   "cell_type": "code",
   "execution_count": 5,
   "metadata": {},
   "outputs": [],
   "source": [
    "window_sizes = np.arange(1, 20, 1)"
   ]
  },
  {
   "cell_type": "code",
   "execution_count": 7,
   "metadata": {},
   "outputs": [
    {
     "name": "stderr",
     "output_type": "stream",
     "text": [
      "val_nll_loss: 3.2068081457638047, train-loss: 0.26757991313934326:  18%|█▊        | 90/500 [00:34<02:35,  2.64it/s]  "
     ]
    },
    {
     "name": "stdout",
     "output_type": "stream",
     "text": [
      "Epoch 00090: reducing learning rate of group 0 to 1.0000e-04.\n"
     ]
    },
    {
     "name": "stderr",
     "output_type": "stream",
     "text": [
      "val_nll_loss: 3.1972729951432606, train-loss: 0.018535643815994263:  21%|██        | 103/500 [00:39<02:29,  2.65it/s]"
     ]
    },
    {
     "name": "stdout",
     "output_type": "stream",
     "text": [
      "Epoch 00103: reducing learning rate of group 0 to 5.0000e-05.\n"
     ]
    },
    {
     "name": "stderr",
     "output_type": "stream",
     "text": [
      "val_nll_loss: 3.1904577792269513, train-loss: -0.016485542058944702:  21%|██        | 106/500 [00:41<02:33,  2.56it/s]\n"
     ]
    },
    {
     "name": "stdout",
     "output_type": "stream",
     "text": [
      "Early stopping\n",
      "Scaling factor: 63.334835052490234\n"
     ]
    },
    {
     "name": "stderr",
     "output_type": "stream",
     "text": [
      "100%|██████████| 13/13 [00:01<00:00,  8.57it/s]\n",
      "100%|██████████| 4/4 [00:18<00:00,  4.67s/it]\n",
      "val_nll_loss: 3.3317959054002486, train-loss: -0.019793212413787842:  17%|█▋        | 86/500 [00:41<03:51,  1.79it/s]"
     ]
    },
    {
     "name": "stdout",
     "output_type": "stream",
     "text": [
      "Epoch 00086: reducing learning rate of group 0 to 1.0000e-04.\n"
     ]
    },
    {
     "name": "stderr",
     "output_type": "stream",
     "text": [
      "val_nll_loss: 3.3169911579020974, train-loss: 0.251184344291687:  18%|█▊        | 89/500 [00:43<03:21,  2.04it/s]    \n"
     ]
    },
    {
     "name": "stdout",
     "output_type": "stream",
     "text": [
      "Early stopping\n",
      "Scaling factor: 63.3436393737793\n"
     ]
    },
    {
     "name": "stderr",
     "output_type": "stream",
     "text": [
      "100%|██████████| 13/13 [00:01<00:00,  7.83it/s]\n",
      "100%|██████████| 4/4 [00:23<00:00,  5.85s/it]\n",
      "val_nll_loss: 3.3232418171410423, train-loss: 0.0035125315189361572:  16%|█▌        | 80/500 [00:42<03:23,  2.07it/s]"
     ]
    },
    {
     "name": "stdout",
     "output_type": "stream",
     "text": [
      "Epoch 00080: reducing learning rate of group 0 to 1.0000e-04.\n"
     ]
    },
    {
     "name": "stderr",
     "output_type": "stream",
     "text": [
      "val_nll_loss: 3.2778726781456218, train-loss: -0.1262603998184204:  22%|██▏       | 110/500 [00:56<03:00,  2.17it/s] "
     ]
    },
    {
     "name": "stdout",
     "output_type": "stream",
     "text": [
      "Epoch 00110: reducing learning rate of group 0 to 5.0000e-05.\n"
     ]
    },
    {
     "name": "stderr",
     "output_type": "stream",
     "text": [
      "val_nll_loss: 3.277737774895233, train-loss: 0.10422596335411072:  23%|██▎       | 113/500 [00:58<03:19,  1.94it/s]  \n"
     ]
    },
    {
     "name": "stdout",
     "output_type": "stream",
     "text": [
      "Early stopping\n",
      "Scaling factor: 63.26434326171875\n"
     ]
    },
    {
     "name": "stderr",
     "output_type": "stream",
     "text": [
      "100%|██████████| 13/13 [00:01<00:00,  8.21it/s]\n",
      "100%|██████████| 4/4 [00:21<00:00,  5.31s/it]\n",
      "val_nll_loss: 3.2434286099035763, train-loss: -0.11683368682861328:  22%|██▏       | 108/500 [00:49<02:39,  2.45it/s] "
     ]
    },
    {
     "name": "stdout",
     "output_type": "stream",
     "text": [
      "Epoch 00108: reducing learning rate of group 0 to 1.0000e-04.\n"
     ]
    },
    {
     "name": "stderr",
     "output_type": "stream",
     "text": [
      "val_nll_loss: 3.2387916046438865, train-loss: 0.16750869154930115:  22%|██▏       | 111/500 [00:50<02:58,  2.18it/s] \n"
     ]
    },
    {
     "name": "stdout",
     "output_type": "stream",
     "text": [
      "Early stopping\n",
      "Scaling factor: 63.064476013183594\n"
     ]
    },
    {
     "name": "stderr",
     "output_type": "stream",
     "text": [
      "100%|██████████| 13/13 [00:01<00:00,  8.42it/s]\n",
      "100%|██████████| 4/4 [00:17<00:00,  4.47s/it]\n",
      "val_nll_loss: 3.225969240503404, train-loss: -0.08494788408279419:  24%|██▍       | 119/500 [00:46<02:31,  2.52it/s]  "
     ]
    },
    {
     "name": "stdout",
     "output_type": "stream",
     "text": [
      "Epoch 00119: reducing learning rate of group 0 to 1.0000e-04.\n"
     ]
    },
    {
     "name": "stderr",
     "output_type": "stream",
     "text": [
      "val_nll_loss: 3.226087644262221, train-loss: -0.12470626831054688:  24%|██▍       | 122/500 [00:48<02:28,  2.54it/s] \n"
     ]
    },
    {
     "name": "stdout",
     "output_type": "stream",
     "text": [
      "Early stopping\n",
      "Scaling factor: 63.26416015625\n"
     ]
    },
    {
     "name": "stderr",
     "output_type": "stream",
     "text": [
      "100%|██████████| 13/13 [00:01<00:00,  8.52it/s]\n",
      "100%|██████████| 4/4 [00:17<00:00,  4.33s/it]\n",
      "val_nll_loss: 3.3087104315896636, train-loss: 0.04236239194869995:  19%|█▉        | 94/500 [00:37<02:35,  2.61it/s]  "
     ]
    },
    {
     "name": "stdout",
     "output_type": "stream",
     "text": [
      "Epoch 00094: reducing learning rate of group 0 to 1.0000e-04.\n"
     ]
    },
    {
     "name": "stderr",
     "output_type": "stream",
     "text": [
      "val_nll_loss: 3.2670058833742606, train-loss: 0.014051496982574463:  21%|██▏       | 107/500 [00:42<02:42,  2.42it/s] "
     ]
    },
    {
     "name": "stdout",
     "output_type": "stream",
     "text": [
      "Epoch 00107: reducing learning rate of group 0 to 5.0000e-05.\n"
     ]
    },
    {
     "name": "stderr",
     "output_type": "stream",
     "text": [
      "val_nll_loss: 3.259593945105099, train-loss: -0.03107762336730957:  23%|██▎       | 116/500 [00:45<02:29,  2.57it/s] "
     ]
    },
    {
     "name": "stdout",
     "output_type": "stream",
     "text": [
      "Epoch 00116: reducing learning rate of group 0 to 2.5000e-05.\n"
     ]
    },
    {
     "name": "stderr",
     "output_type": "stream",
     "text": [
      "val_nll_loss: 3.258668529177175, train-loss: -0.009719103574752808:  23%|██▎       | 117/500 [00:46<02:32,  2.51it/s]\n"
     ]
    },
    {
     "name": "stdout",
     "output_type": "stream",
     "text": [
      "Early stopping\n",
      "Scaling factor: 64.13671112060547\n"
     ]
    },
    {
     "name": "stderr",
     "output_type": "stream",
     "text": [
      "100%|██████████| 13/13 [00:01<00:00,  8.39it/s]\n",
      "100%|██████████| 4/4 [00:17<00:00,  4.45s/it]\n",
      "val_nll_loss: 3.3518220845935414, train-loss: 0.005070507526397705:  13%|█▎        | 64/500 [00:25<02:56,  2.47it/s]  "
     ]
    },
    {
     "name": "stdout",
     "output_type": "stream",
     "text": [
      "Epoch 00064: reducing learning rate of group 0 to 1.0000e-04.\n"
     ]
    },
    {
     "name": "stderr",
     "output_type": "stream",
     "text": [
      "val_nll_loss: 3.311485049794021, train-loss: 0.1111609935760498:  15%|█▍        | 73/500 [00:29<02:45,  2.57it/s]   "
     ]
    },
    {
     "name": "stdout",
     "output_type": "stream",
     "text": [
      "Epoch 00073: reducing learning rate of group 0 to 5.0000e-05.\n"
     ]
    },
    {
     "name": "stderr",
     "output_type": "stream",
     "text": [
      "val_nll_loss: 3.29717025016118, train-loss: -0.08134356141090393:  18%|█▊        | 91/500 [00:36<02:36,  2.61it/s]  "
     ]
    },
    {
     "name": "stdout",
     "output_type": "stream",
     "text": [
      "Epoch 00091: reducing learning rate of group 0 to 2.5000e-05.\n"
     ]
    },
    {
     "name": "stderr",
     "output_type": "stream",
     "text": [
      "val_nll_loss: 3.2956801108943607, train-loss: 0.07785701751708984:  19%|█▉        | 94/500 [00:38<02:44,  2.46it/s] \n"
     ]
    },
    {
     "name": "stdout",
     "output_type": "stream",
     "text": [
      "Early stopping\n",
      "Scaling factor: 62.23900604248047\n"
     ]
    },
    {
     "name": "stderr",
     "output_type": "stream",
     "text": [
      "100%|██████████| 13/13 [00:01<00:00,  8.40it/s]\n",
      "100%|██████████| 4/4 [00:17<00:00,  4.38s/it]\n",
      "val_nll_loss: 3.2088898038401186, train-loss: -0.025643259286880493:  27%|██▋       | 136/500 [00:54<02:25,  2.50it/s]"
     ]
    },
    {
     "name": "stdout",
     "output_type": "stream",
     "text": [
      "Epoch 00136: reducing learning rate of group 0 to 1.0000e-04.\n"
     ]
    },
    {
     "name": "stderr",
     "output_type": "stream",
     "text": [
      "val_nll_loss: 3.2045359935575317, train-loss: -0.1605747938156128:  28%|██▊       | 139/500 [00:56<02:26,  2.46it/s]  \n"
     ]
    },
    {
     "name": "stdout",
     "output_type": "stream",
     "text": [
      "Early stopping\n",
      "Scaling factor: 62.86096954345703\n"
     ]
    },
    {
     "name": "stderr",
     "output_type": "stream",
     "text": [
      "100%|██████████| 13/13 [00:01<00:00,  8.46it/s]\n",
      "100%|██████████| 4/4 [00:17<00:00,  4.36s/it]\n",
      "val_nll_loss: 3.228307649927232, train-loss: -0.14210635423660278:  19%|█▉        | 96/500 [00:38<02:35,  2.59it/s]   "
     ]
    },
    {
     "name": "stdout",
     "output_type": "stream",
     "text": [
      "Epoch 00096: reducing learning rate of group 0 to 1.0000e-04.\n"
     ]
    },
    {
     "name": "stderr",
     "output_type": "stream",
     "text": [
      "val_nll_loss: 3.2055134078831347, train-loss: -0.08535858988761902:  24%|██▍       | 121/500 [00:48<02:33,  2.47it/s] "
     ]
    },
    {
     "name": "stdout",
     "output_type": "stream",
     "text": [
      "Epoch 00121: reducing learning rate of group 0 to 5.0000e-05.\n"
     ]
    },
    {
     "name": "stderr",
     "output_type": "stream",
     "text": [
      "val_nll_loss: 3.1924596249478534, train-loss: -0.22502753138542175:  27%|██▋       | 134/500 [00:53<02:20,  2.61it/s] "
     ]
    },
    {
     "name": "stdout",
     "output_type": "stream",
     "text": [
      "Epoch 00134: reducing learning rate of group 0 to 2.5000e-05.\n"
     ]
    },
    {
     "name": "stderr",
     "output_type": "stream",
     "text": [
      "val_nll_loss: 3.190254989179593, train-loss: -0.06511998176574707:  27%|██▋       | 137/500 [00:54<02:25,  2.50it/s] \n"
     ]
    },
    {
     "name": "stdout",
     "output_type": "stream",
     "text": [
      "Early stopping\n",
      "Scaling factor: 62.631290435791016\n"
     ]
    },
    {
     "name": "stderr",
     "output_type": "stream",
     "text": [
      "100%|██████████| 13/13 [00:01<00:00,  8.31it/s]\n",
      "100%|██████████| 4/4 [00:17<00:00,  4.27s/it]\n",
      "val_nll_loss: 3.38395846468731, train-loss: 0.19877389073371887:  13%|█▎        | 66/500 [00:26<02:45,  2.62it/s]    "
     ]
    },
    {
     "name": "stdout",
     "output_type": "stream",
     "text": [
      "Epoch 00066: reducing learning rate of group 0 to 1.0000e-04.\n"
     ]
    },
    {
     "name": "stderr",
     "output_type": "stream",
     "text": [
      "val_nll_loss: 3.3513005265911806, train-loss: -0.03204795718193054:  18%|█▊        | 88/500 [00:35<02:41,  2.55it/s] "
     ]
    },
    {
     "name": "stdout",
     "output_type": "stream",
     "text": [
      "Epoch 00088: reducing learning rate of group 0 to 5.0000e-05.\n"
     ]
    },
    {
     "name": "stderr",
     "output_type": "stream",
     "text": [
      "val_nll_loss: 3.3484120044893433, train-loss: -0.029248744249343872:  20%|██        | 102/500 [00:41<02:42,  2.46it/s]"
     ]
    },
    {
     "name": "stdout",
     "output_type": "stream",
     "text": [
      "Epoch 00102: reducing learning rate of group 0 to 2.5000e-05.\n"
     ]
    },
    {
     "name": "stderr",
     "output_type": "stream",
     "text": [
      "val_nll_loss: 3.3358898718380234, train-loss: 0.05921030044555664:  25%|██▍       | 124/500 [00:49<02:24,  2.61it/s]   "
     ]
    },
    {
     "name": "stdout",
     "output_type": "stream",
     "text": [
      "Epoch 00124: reducing learning rate of group 0 to 1.2500e-05.\n"
     ]
    },
    {
     "name": "stderr",
     "output_type": "stream",
     "text": [
      "val_nll_loss: 3.3350648417056186, train-loss: 0.0512927770614624:  27%|██▋       | 134/500 [00:53<02:29,  2.44it/s]  "
     ]
    },
    {
     "name": "stdout",
     "output_type": "stream",
     "text": [
      "Epoch 00134: reducing learning rate of group 0 to 6.2500e-06.\n"
     ]
    },
    {
     "name": "stderr",
     "output_type": "stream",
     "text": [
      "val_nll_loss: 3.334440879451418, train-loss: 0.018822818994522095:  27%|██▋       | 137/500 [00:55<02:26,  2.47it/s]  \n"
     ]
    },
    {
     "name": "stdout",
     "output_type": "stream",
     "text": [
      "Early stopping\n",
      "Scaling factor: 63.268253326416016\n"
     ]
    },
    {
     "name": "stderr",
     "output_type": "stream",
     "text": [
      "100%|██████████| 13/13 [00:01<00:00,  8.47it/s]\n",
      "100%|██████████| 4/4 [00:18<00:00,  4.66s/it]\n"
     ]
    },
    {
     "name": "stdout",
     "output_type": "stream",
     "text": [
      "concrete\n",
      "Before Calibration (original): {0: [-3.199791, -3.309338, -3.27791, -3.2405138, -3.2217057, -3.2605448, -3.3015506, -3.2092705, -3.1913404, -3.3342476], 1: [-3.199791, -3.309338, -3.27791, -3.2405138, -3.2217057, -3.2605448, -3.3015506, -3.2092705, -3.1913404, -3.3342476], 2: [-3.199791, -3.309338, -3.27791, -3.2405138, -3.2217057, -3.2605448, -3.3015506, -3.2092705, -3.1913404, -3.3342476], 3: [-3.199791, -3.309338, -3.27791, -3.2405138, -3.2217057, -3.2605448, -3.3015506, -3.2092705, -3.1913404, -3.3342476], 4: [-3.199791, -3.309338, -3.27791, -3.2405138, -3.2217057, -3.2605448, -3.3015506, -3.2092705, -3.1913404, -3.3342476], 5: [-3.199791, -3.309338, -3.27791, -3.2405138, -3.2217057, -3.2605448, -3.3015506, -3.2092705, -3.1913404, -3.3342476], 6: [-3.199791, -3.309338, -3.27791, -3.2405138, -3.2217057, -3.2605448, -3.3015506, -3.2092705, -3.1913404, -3.3342476], 7: [-3.199791, -3.309338, -3.27791, -3.2405138, -3.2217057, -3.2605448, -3.3015506, -3.2092705, -3.1913404, -3.3342476], 8: [-3.199791, -3.309338, -3.27791, -3.2405138, -3.2217057, -3.2605448, -3.3015506, -3.2092705, -3.1913404, -3.3342476], 9: [-3.199791, -3.309338, -3.27791, -3.2405138, -3.2217057, -3.2605448, -3.3015506, -3.2092705, -3.1913404, -3.3342476], 10: [-3.199791, -3.309338, -3.27791, -3.2405138, -3.2217057, -3.2605448, -3.3015506, -3.2092705, -3.1913404, -3.3342476], 11: [-3.199791, -3.309338, -3.27791, -3.2405138, -3.2217057, -3.2605448, -3.3015506, -3.2092705, -3.1913404, -3.3342476], 12: [-3.199791, -3.309338, -3.27791, -3.2405138, -3.2217057, -3.2605448, -3.3015506, -3.2092705, -3.1913404, -3.3342476], 13: [-3.199791, -3.309338, -3.27791, -3.2405138, -3.2217057, -3.2605448, -3.3015506, -3.2092705, -3.1913404, -3.3342476], 14: [-3.199791, -3.309338, -3.27791, -3.2405138, -3.2217057, -3.2605448, -3.3015506, -3.2092705, -3.1913404, -3.3342476], 15: [-3.199791, -3.309338, -3.27791, -3.2405138, -3.2217057, -3.2605448, -3.3015506, -3.2092705, -3.1913404, -3.3342476], 16: [-3.199791, -3.309338, -3.27791, -3.2405138, -3.2217057, -3.2605448, -3.3015506, -3.2092705, -3.1913404, -3.3342476], 17: [-3.199791, -3.309338, -3.27791, -3.2405138, -3.2217057, -3.2605448, -3.3015506, -3.2092705, -3.1913404, -3.3342476], 18: [-3.199791, -3.309338, -3.27791, -3.2405138, -3.2217057, -3.2605448, -3.3015506, -3.2092705, -3.1913404, -3.3342476]} Before Calibration: {0: [-3.2019101227745015, -3.3106887511145824, -3.2784745966096938, -3.2390608822087747, -3.2210574464282997, -3.261469261506109, -3.302062090847043, -3.219900167013837, -3.1925580239693114, -3.3330437770900834], 1: [-3.1993887676327284, -3.3095406456350256, -3.278940367138757, -3.2398919818246767, -3.2210983572389713, -3.26057734586858, -3.302187764972007, -3.2201455954424065, -3.19283918083813, -3.333423107382628], 2: [-3.1997353374613935, -3.309198609035788, -3.2787286975480496, -3.240249422335448, -3.2216190472133945, -3.2604860461263794, -3.3022249327834454, -3.220989491168813, -3.1921394455537544, -3.3337772719504777], 3: [-3.199612657348426, -3.3097123375958772, -3.278259174223766, -3.2408828634039204, -3.221852927168216, -3.2603632253522328, -3.3023628458683727, -3.2198973802178443, -3.192557459238508, -3.3339666685661795], 4: [-3.20030912905541, -3.30974509457923, -3.2783669939496742, -3.2406757006602773, -3.2221485368592626, -3.2609344572291548, -3.3024432416162606, -3.2163241522712718, -3.1929320096578446, -3.334019288246371], 5: [-3.200743761951985, -3.310079202808996, -3.278748091183014, -3.2411969364207796, -3.2221807510686, -3.261491155697417, -3.302741936583402, -3.215439833186258, -3.193538094921412, -3.3343922239088957], 6: [-3.2011737706701977, -3.310316081409733, -3.279109940006164, -3.2415956212725474, -3.222368225990197, -3.261878258003043, -3.303391157719732, -3.2151496814657032, -3.194062201632949, -3.335255669829781], 7: [-3.201721833885395, -3.310571652194796, -3.279865313106168, -3.241997042377173, -3.222606048672078, -3.262311623637151, -3.303839836638246, -3.2150472992898043, -3.1943880078513285, -3.33558351418467], 8: [-3.2024586744758015, -3.31076218990615, -3.280426781187336, -3.2424576427255962, -3.2229897129942895, -3.2626974514477403, -3.3041941532783192, -3.215459762823179, -3.194965158586958, -3.3361953886412357], 9: [-3.2029736784391796, -3.3112180268237874, -3.2810901985778083, -3.242992115090449, -3.223354146334748, -3.2635230101547776, -3.304880269562898, -3.2159410572187372, -3.19585412513929, -3.3367001452236495], 10: [-3.2038136228540064, -3.3116739451792383, -3.2817226365686816, -3.2438491619328915, -3.223876449629029, -3.2641577229650056, -3.3055185879933493, -3.2165637464317927, -3.197070541104486, -3.337244432299495], 11: [-3.2046406296398593, -3.3122701941265307, -3.282602031210013, -3.2443259133102282, -3.2244083980183946, -3.264918139331898, -3.306438258163342, -3.217313865881277, -3.198302416125569, -3.3379589696844967], 12: [-3.2054985473797295, -3.3127044979688653, -3.2835424096864934, -3.2450653480646925, -3.2249435673826183, -3.265862150883884, -3.307185184453819, -3.218284353993281, -3.199676050490844, -3.3384760574035135], 13: [-3.206584791099189, -3.3133013170324532, -3.2844620355158374, -3.2458065204868247, -3.2256596465355605, -3.266715343843087, -3.3081403994090377, -3.219337147375517, -3.2009363023827366, -3.3390652208361566], 14: [-3.2076943803290447, -3.3140495227948645, -3.2855564244725133, -3.246684887012661, -3.226174001713659, -3.2677686077340553, -3.3091187104469753, -3.2205923803173526, -3.202418790994029, -3.339711557081482], 15: [-3.2088732074054445, -3.314795621146995, -3.286560136206254, -3.2474944258234353, -3.226986905775464, -3.2688657369283107, -3.310356393098862, -3.2218399070428063, -3.2040702986039986, -3.3404998648374042], 16: [-3.210015373016131, -3.3156268310327865, -3.2876767132424334, -3.248530978177923, -3.227780831128084, -3.2700669957019546, -3.3114009339313544, -3.2232164648827757, -3.205626513198773, -3.341284071769365], 17: [-3.211487535658464, -3.316469255755588, -3.2889425152664225, -3.2495575709961515, -3.228658720613007, -3.271291399551872, -3.312552405102926, -3.2247855759045208, -3.207365049385178, -3.342261694351143], 18: [-3.2129059521029415, -3.3174244756388984, -3.2902600667119493, -3.250724025257593, -3.229582551815881, -3.2726593685023175, -3.3138644047721852, -3.226342176448048, -3.20909152818024, -3.3430777473006446]} After Calibration: {0: [-3.1096826617278293, -3.3598922213271605, -3.315394147383524, -3.24810813052091, -3.213671698269415, -3.3034943450456873, -3.2578845231351834, -3.207735710889443, -3.1869408266876547, -3.370970159037302], 1: [-3.114098557433851, -3.3575379747660326, -3.2905494833653806, -3.253854610624137, -3.217434398918023, -3.2721228026700047, -3.2523550410046473, -3.2100761534791777, -3.1668641606614725, -3.347539374418745], 2: [-3.117026803239407, -3.3479740778652918, -3.2823983980900895, -3.2581782696797865, -3.2187984056748715, -3.2680850992725783, -3.2486609967860343, -3.203429759378158, -3.157879421668737, -3.3377279952080645], 3: [-3.120713647040994, -3.3479656383181187, -3.2717373079509726, -3.2606440641845644, -3.218552207414761, -3.2706339909714433, -3.2490306297667386, -3.187602533925403, -3.154664511888124, -3.3405378375132], 4: [-3.1205243236628943, -3.3467551859182154, -3.266678892091946, -3.257219888485271, -3.215189408355216, -3.2685646327676774, -3.2463881664284577, -3.187562054976133, -3.1514776716676787, -3.34638997074785], 5: [-3.110671440857042, -3.3470896997778286, -3.2598033240502495, -3.256124086330344, -3.211786702051172, -3.264488224314475, -3.2449741370047427, -3.1866526949526874, -3.1480658958349528, -3.345367908722605], 6: [-3.099735667013592, -3.346839414863985, -3.2543802641735615, -3.241328313243668, -3.2107172566662125, -3.262231891263686, -3.243615925476863, -3.1846204023711238, -3.144753343141788, -3.338741801853927], 7: [-3.0935849597315834, -3.344278495919066, -3.2517943504689932, -3.2318573794227174, -3.2084630156074643, -3.256943875305827, -3.2406875589109405, -3.1828313947149907, -3.144003175718148, -3.3332842730827172], 8: [-3.0952776064090908, -3.343555855905263, -3.2454023963045224, -3.2241050505115956, -3.2055598312544293, -3.254366320808135, -3.240423320687204, -3.1806812549136927, -3.142518119654606, -3.328232799822542], 9: [-3.095824079403285, -3.3405281648398377, -3.2450103691466055, -3.2172391754057497, -3.200200803034175, -3.2512784182836367, -3.2409952733010137, -3.180477283930323, -3.14316888425293, -3.3273778633403754], 10: [-3.0882276767782257, -3.3273187590269533, -3.2450969070521665, -3.2114049889982623, -3.1976753874863153, -3.2464152965453166, -3.2418874129677278, -3.1825973500854405, -3.1421820261397513, -3.32367157596502], 11: [-3.0795269475939593, -3.321083024607312, -3.243473748954168, -3.207906273091601, -3.1944977741516487, -3.2428265358829202, -3.2430873284067676, -3.1818410407646964, -3.140937882393899, -3.319851576695424], 12: [-3.0750097969153987, -3.3195236122692444, -3.242543847210466, -3.205102504104777, -3.189483778403368, -3.2415126799515583, -3.242512360988548, -3.18109362000574, -3.1401038218975663, -3.316435585694215], 13: [-3.0719659744979717, -3.316283289655135, -3.2428837868800136, -3.200180434069559, -3.187051093884137, -3.2393407527677955, -3.241340853565028, -3.1774889459198894, -3.139810733742559, -3.3122960113979727], 14: [-3.0689172350927807, -3.3129063901411877, -3.2424410440824296, -3.1963727401061037, -3.176944563320356, -3.233574838645954, -3.2384520615815684, -3.177031849010867, -3.1387194534691463, -3.3113989328682356], 15: [-3.0685585313965666, -3.3100077118404814, -3.2364106688592043, -3.1929784995353434, -3.1708476201629385, -3.2301821371953907, -3.2371278245278337, -3.17621722986065, -3.138187925046573, -3.3121996883935085], 16: [-3.0680302478029975, -3.307926961605026, -3.233277516200287, -3.191142445502164, -3.165806581464686, -3.2278516442539344, -3.2363278251130936, -3.172862598877703, -3.137676154084031, -3.3111964352579313], 17: [-3.0677593473814677, -3.3057487573056052, -3.232606682815594, -3.187680945865187, -3.1625868700633832, -3.226634010657647, -3.2357066648360817, -3.1710885140624714, -3.1369688296803817, -3.3103984462207476], 18: [-3.065975259212276, -3.2950499423533124, -3.2316983300737823, -3.185861561130967, -3.158821898100244, -3.2248356744179043, -3.2362010284359775, -3.1701266937681063, -3.1363147800461806, -3.3092258188570054]}\n"
     ]
    },
    {
     "name": "stderr",
     "output_type": "stream",
     "text": [
      "val_nll_loss: 1.458659977107853, train-loss: -0.021027714014053345:  65%|██████▌   | 326/500 [01:57<01:00,  2.90it/s]"
     ]
    },
    {
     "name": "stdout",
     "output_type": "stream",
     "text": [
      "Epoch 00326: reducing learning rate of group 0 to 1.0000e-04.\n"
     ]
    },
    {
     "name": "stderr",
     "output_type": "stream",
     "text": [
      "val_nll_loss: 1.4364117709073154, train-loss: -1.3123855590820312:  67%|██████▋   | 335/500 [02:00<00:58,  2.83it/s] "
     ]
    },
    {
     "name": "stdout",
     "output_type": "stream",
     "text": [
      "Epoch 00335: reducing learning rate of group 0 to 5.0000e-05.\n"
     ]
    },
    {
     "name": "stderr",
     "output_type": "stream",
     "text": [
      "val_nll_loss: 1.4219053689535561, train-loss: -1.24905264377594:  70%|███████   | 352/500 [02:06<00:52,  2.80it/s]  "
     ]
    },
    {
     "name": "stdout",
     "output_type": "stream",
     "text": [
      "Epoch 00352: reducing learning rate of group 0 to 2.5000e-05.\n"
     ]
    },
    {
     "name": "stderr",
     "output_type": "stream",
     "text": [
      "val_nll_loss: 1.4125262173739346, train-loss: -0.4544571042060852:  75%|███████▌  | 375/500 [02:14<00:42,  2.92it/s]"
     ]
    },
    {
     "name": "stdout",
     "output_type": "stream",
     "text": [
      "Epoch 00375: reducing learning rate of group 0 to 1.2500e-05.\n"
     ]
    },
    {
     "name": "stderr",
     "output_type": "stream",
     "text": [
      "val_nll_loss: 1.4093733205423726, train-loss: -1.172489881515503:  77%|███████▋  | 386/500 [02:18<00:40,  2.80it/s] "
     ]
    },
    {
     "name": "stdout",
     "output_type": "stream",
     "text": [
      "Epoch 00386: reducing learning rate of group 0 to 6.2500e-06.\n"
     ]
    },
    {
     "name": "stderr",
     "output_type": "stream",
     "text": [
      "val_nll_loss: 1.4094105262260932, train-loss: -1.4139089584350586:  78%|███████▊  | 389/500 [02:20<00:40,  2.77it/s]\n"
     ]
    },
    {
     "name": "stdout",
     "output_type": "stream",
     "text": [
      "Early stopping\n",
      "Scaling factor: 124.51484680175781\n"
     ]
    },
    {
     "name": "stderr",
     "output_type": "stream",
     "text": [
      "100%|██████████| 10/10 [00:01<00:00,  8.43it/s]\n",
      "100%|██████████| 3/3 [00:12<00:00,  4.14s/it]\n",
      "val_nll_loss: 1.5631818647508497, train-loss: -0.7656487226486206:  52%|█████▏    | 260/500 [01:33<01:27,  2.75it/s] "
     ]
    },
    {
     "name": "stdout",
     "output_type": "stream",
     "text": [
      "Epoch 00260: reducing learning rate of group 0 to 1.0000e-04.\n"
     ]
    },
    {
     "name": "stderr",
     "output_type": "stream",
     "text": [
      "val_nll_loss: 1.5096754841990285, train-loss: -1.136550784111023:  58%|█████▊    | 289/500 [01:43<01:16,  2.76it/s] "
     ]
    },
    {
     "name": "stdout",
     "output_type": "stream",
     "text": [
      "Epoch 00289: reducing learning rate of group 0 to 5.0000e-05.\n"
     ]
    },
    {
     "name": "stderr",
     "output_type": "stream",
     "text": [
      "val_nll_loss: 1.5135387569278866, train-loss: -0.9593093395233154:  58%|█████▊    | 292/500 [01:45<01:14,  2.77it/s]\n"
     ]
    },
    {
     "name": "stdout",
     "output_type": "stream",
     "text": [
      "Early stopping\n",
      "Scaling factor: 125.31263732910156\n"
     ]
    },
    {
     "name": "stderr",
     "output_type": "stream",
     "text": [
      "100%|██████████| 10/10 [00:01<00:00,  8.31it/s]\n",
      "100%|██████████| 3/3 [00:12<00:00,  4.22s/it]\n",
      "val_nll_loss: 1.5931406392679586, train-loss: -0.9992591738700867:  55%|█████▌    | 277/500 [01:39<01:20,  2.77it/s]   "
     ]
    },
    {
     "name": "stdout",
     "output_type": "stream",
     "text": [
      "Epoch 00277: reducing learning rate of group 0 to 1.0000e-04.\n"
     ]
    },
    {
     "name": "stderr",
     "output_type": "stream",
     "text": [
      "val_nll_loss: 1.5848550672654982, train-loss: -0.6398850083351135:  56%|█████▌    | 280/500 [01:41<01:19,  2.77it/s]\n"
     ]
    },
    {
     "name": "stdout",
     "output_type": "stream",
     "text": [
      "Early stopping\n",
      "Scaling factor: 124.75481414794922\n"
     ]
    },
    {
     "name": "stderr",
     "output_type": "stream",
     "text": [
      "100%|██████████| 10/10 [00:01<00:00,  8.39it/s]\n",
      "100%|██████████| 3/3 [00:12<00:00,  4.24s/it]\n",
      "val_nll_loss: 1.7680871889188692, train-loss: -0.5281515121459961:  43%|████▎     | 214/500 [01:17<01:41,  2.82it/s] "
     ]
    },
    {
     "name": "stdout",
     "output_type": "stream",
     "text": [
      "Epoch 00214: reducing learning rate of group 0 to 1.0000e-04.\n"
     ]
    },
    {
     "name": "stderr",
     "output_type": "stream",
     "text": [
      "val_nll_loss: 1.7150231646252918, train-loss: -1.1551231145858765:  50%|█████     | 251/500 [01:30<01:26,  2.87it/s] "
     ]
    },
    {
     "name": "stdout",
     "output_type": "stream",
     "text": [
      "Epoch 00251: reducing learning rate of group 0 to 5.0000e-05.\n"
     ]
    },
    {
     "name": "stderr",
     "output_type": "stream",
     "text": [
      "val_nll_loss: 1.7149160310819551, train-loss: -0.9361233115196228:  51%|█████     | 254/500 [01:32<01:29,  2.76it/s]\n"
     ]
    },
    {
     "name": "stdout",
     "output_type": "stream",
     "text": [
      "Early stopping\n",
      "Scaling factor: 124.69352722167969\n"
     ]
    },
    {
     "name": "stderr",
     "output_type": "stream",
     "text": [
      "100%|██████████| 10/10 [00:01<00:00,  8.39it/s]\n",
      "100%|██████████| 3/3 [00:12<00:00,  4.24s/it]\n",
      "val_nll_loss: 1.5912126070493227, train-loss: -0.9606072902679443:  61%|██████    | 304/500 [01:49<01:12,  2.70it/s]  "
     ]
    },
    {
     "name": "stdout",
     "output_type": "stream",
     "text": [
      "Epoch 00304: reducing learning rate of group 0 to 1.0000e-04.\n"
     ]
    },
    {
     "name": "stderr",
     "output_type": "stream",
     "text": [
      "val_nll_loss: 1.5666686714469613, train-loss: -1.3435885906219482:  63%|██████▎   | 314/500 [01:53<01:06,  2.82it/s] "
     ]
    },
    {
     "name": "stdout",
     "output_type": "stream",
     "text": [
      "Epoch 00314: reducing learning rate of group 0 to 5.0000e-05.\n"
     ]
    },
    {
     "name": "stderr",
     "output_type": "stream",
     "text": [
      "val_nll_loss: 1.5610957950740665, train-loss: -0.30527251958847046:  63%|██████▎   | 317/500 [01:54<01:06,  2.76it/s]\n"
     ]
    },
    {
     "name": "stdout",
     "output_type": "stream",
     "text": [
      "Early stopping\n",
      "Scaling factor: 124.73601531982422\n"
     ]
    },
    {
     "name": "stderr",
     "output_type": "stream",
     "text": [
      "100%|██████████| 10/10 [00:01<00:00,  8.49it/s]\n",
      "100%|██████████| 3/3 [00:12<00:00,  4.30s/it]\n",
      "val_nll_loss: 1.7906287057059151, train-loss: -0.7189662456512451:  39%|███▉      | 196/500 [01:11<01:52,  2.71it/s]  "
     ]
    },
    {
     "name": "stdout",
     "output_type": "stream",
     "text": [
      "Epoch 00196: reducing learning rate of group 0 to 1.0000e-04.\n"
     ]
    },
    {
     "name": "stderr",
     "output_type": "stream",
     "text": [
      "val_nll_loss: 1.7501081739153181, train-loss: -1.0768914222717285:  43%|████▎     | 213/500 [01:17<01:45,  2.71it/s]"
     ]
    },
    {
     "name": "stdout",
     "output_type": "stream",
     "text": [
      "Epoch 00213: reducing learning rate of group 0 to 5.0000e-05.\n"
     ]
    },
    {
     "name": "stderr",
     "output_type": "stream",
     "text": [
      "val_nll_loss: 1.7488424127752131, train-loss: -1.130827784538269:  43%|████▎     | 216/500 [01:19<01:44,  2.72it/s] \n"
     ]
    },
    {
     "name": "stdout",
     "output_type": "stream",
     "text": [
      "Early stopping\n",
      "Scaling factor: 126.11841583251953\n"
     ]
    },
    {
     "name": "stderr",
     "output_type": "stream",
     "text": [
      "100%|██████████| 10/10 [00:01<00:00,  8.40it/s]\n",
      "100%|██████████| 3/3 [00:13<00:00,  4.34s/it]\n",
      "val_nll_loss: 1.8564627015745485, train-loss: -0.883877158164978:  36%|███▌      | 179/500 [01:05<02:00,  2.66it/s]  "
     ]
    },
    {
     "name": "stdout",
     "output_type": "stream",
     "text": [
      "Epoch 00179: reducing learning rate of group 0 to 1.0000e-04.\n"
     ]
    },
    {
     "name": "stderr",
     "output_type": "stream",
     "text": [
      "val_nll_loss: 1.705097248027851, train-loss: -0.5694418549537659:  58%|█████▊    | 291/500 [01:45<01:14,  2.79it/s]  "
     ]
    },
    {
     "name": "stdout",
     "output_type": "stream",
     "text": [
      "Epoch 00291: reducing learning rate of group 0 to 5.0000e-05.\n"
     ]
    },
    {
     "name": "stderr",
     "output_type": "stream",
     "text": [
      "val_nll_loss: 1.6874858558952035, train-loss: -0.5505442023277283:  63%|██████▎   | 315/500 [01:54<01:04,  2.88it/s]"
     ]
    },
    {
     "name": "stdout",
     "output_type": "stream",
     "text": [
      "Epoch 00315: reducing learning rate of group 0 to 2.5000e-05.\n"
     ]
    },
    {
     "name": "stderr",
     "output_type": "stream",
     "text": [
      "val_nll_loss: 1.6836460658482142, train-loss: -0.8604256510734558:  65%|██████▍   | 324/500 [01:57<01:00,  2.89it/s]"
     ]
    },
    {
     "name": "stdout",
     "output_type": "stream",
     "text": [
      "Epoch 00324: reducing learning rate of group 0 to 1.2500e-05.\n"
     ]
    },
    {
     "name": "stderr",
     "output_type": "stream",
     "text": [
      "val_nll_loss: 1.6777813155929764, train-loss: -1.2403538227081299:  74%|███████▎  | 368/500 [02:12<00:46,  2.83it/s] "
     ]
    },
    {
     "name": "stdout",
     "output_type": "stream",
     "text": [
      "Epoch 00368: reducing learning rate of group 0 to 6.2500e-06.\n"
     ]
    },
    {
     "name": "stderr",
     "output_type": "stream",
     "text": [
      "val_nll_loss: 1.677764050372235, train-loss: -1.129991054534912:  74%|███████▍  | 371/500 [02:14<00:46,  2.76it/s]  \n"
     ]
    },
    {
     "name": "stdout",
     "output_type": "stream",
     "text": [
      "Early stopping\n",
      "Scaling factor: 124.67762756347656\n"
     ]
    },
    {
     "name": "stderr",
     "output_type": "stream",
     "text": [
      "100%|██████████| 10/10 [00:01<00:00,  8.29it/s]\n",
      "100%|██████████| 3/3 [00:12<00:00,  4.22s/it]\n",
      "val_nll_loss: 1.4792991489559024, train-loss: -0.782232403755188:  73%|███████▎  | 365/500 [02:12<00:46,  2.92it/s]  "
     ]
    },
    {
     "name": "stdout",
     "output_type": "stream",
     "text": [
      "Epoch 00365: reducing learning rate of group 0 to 1.0000e-04.\n"
     ]
    },
    {
     "name": "stderr",
     "output_type": "stream",
     "text": [
      "val_nll_loss: 1.4520137093283914, train-loss: -1.2050628662109375:  77%|███████▋  | 383/500 [02:18<00:40,  2.92it/s]"
     ]
    },
    {
     "name": "stdout",
     "output_type": "stream",
     "text": [
      "Epoch 00383: reducing learning rate of group 0 to 5.0000e-05.\n"
     ]
    },
    {
     "name": "stderr",
     "output_type": "stream",
     "text": [
      "val_nll_loss: 1.4566263223623301, train-loss: -1.3556283712387085:  79%|███████▊  | 393/500 [02:22<00:38,  2.78it/s] "
     ]
    },
    {
     "name": "stdout",
     "output_type": "stream",
     "text": [
      "Epoch 00393: reducing learning rate of group 0 to 2.5000e-05.\n"
     ]
    },
    {
     "name": "stderr",
     "output_type": "stream",
     "text": [
      "val_nll_loss: 1.4504900350199117, train-loss: -1.0427405834197998:  79%|███████▉  | 396/500 [02:23<00:37,  2.76it/s]\n"
     ]
    },
    {
     "name": "stdout",
     "output_type": "stream",
     "text": [
      "Early stopping\n",
      "Scaling factor: 124.79745483398438\n"
     ]
    },
    {
     "name": "stderr",
     "output_type": "stream",
     "text": [
      "100%|██████████| 10/10 [00:01<00:00,  8.36it/s]\n",
      "100%|██████████| 3/3 [00:12<00:00,  4.12s/it]\n",
      "val_nll_loss: 1.3152007313517782, train-loss: -1.313271403312683:  69%|██████▊   | 343/500 [02:04<00:55,  2.81it/s]  "
     ]
    },
    {
     "name": "stdout",
     "output_type": "stream",
     "text": [
      "Epoch 00343: reducing learning rate of group 0 to 1.0000e-04.\n"
     ]
    },
    {
     "name": "stderr",
     "output_type": "stream",
     "text": [
      "val_nll_loss: 1.2816507661497438, train-loss: -0.9134739637374878:  74%|███████▎  | 368/500 [02:13<00:48,  2.73it/s] "
     ]
    },
    {
     "name": "stdout",
     "output_type": "stream",
     "text": [
      "Epoch 00368: reducing learning rate of group 0 to 5.0000e-05.\n"
     ]
    },
    {
     "name": "stderr",
     "output_type": "stream",
     "text": [
      "val_nll_loss: 1.273525535286247, train-loss: -1.424262285232544:  76%|███████▌  | 379/500 [02:17<00:44,  2.72it/s]  "
     ]
    },
    {
     "name": "stdout",
     "output_type": "stream",
     "text": [
      "Epoch 00379: reducing learning rate of group 0 to 2.5000e-05.\n"
     ]
    },
    {
     "name": "stderr",
     "output_type": "stream",
     "text": [
      "val_nll_loss: 1.2714783804757255, train-loss: -1.1753909587860107:  76%|███████▋  | 382/500 [02:18<00:42,  2.75it/s]\n"
     ]
    },
    {
     "name": "stdout",
     "output_type": "stream",
     "text": [
      "Early stopping\n",
      "Scaling factor: 124.32141876220703\n"
     ]
    },
    {
     "name": "stderr",
     "output_type": "stream",
     "text": [
      "100%|██████████| 10/10 [00:01<00:00,  8.45it/s]\n",
      "100%|██████████| 3/3 [00:12<00:00,  4.19s/it]\n",
      "val_nll_loss: 1.9997255399629668, train-loss: -0.32335665822029114:  29%|██▊       | 143/500 [00:51<02:09,  2.76it/s] "
     ]
    },
    {
     "name": "stdout",
     "output_type": "stream",
     "text": [
      "Epoch 00143: reducing learning rate of group 0 to 1.0000e-04.\n"
     ]
    },
    {
     "name": "stderr",
     "output_type": "stream",
     "text": [
      "val_nll_loss: 1.8914790215430322, train-loss: -0.4229183793067932:  39%|███▉      | 194/500 [01:10<01:55,  2.65it/s] "
     ]
    },
    {
     "name": "stdout",
     "output_type": "stream",
     "text": [
      "Epoch 00194: reducing learning rate of group 0 to 5.0000e-05.\n"
     ]
    },
    {
     "name": "stderr",
     "output_type": "stream",
     "text": [
      "val_nll_loss: 1.790336831823572, train-loss: -0.864241361618042:  64%|██████▍   | 320/500 [01:55<01:02,  2.87it/s]    "
     ]
    },
    {
     "name": "stdout",
     "output_type": "stream",
     "text": [
      "Epoch 00320: reducing learning rate of group 0 to 2.5000e-05.\n"
     ]
    },
    {
     "name": "stderr",
     "output_type": "stream",
     "text": [
      "val_nll_loss: 1.7912206525926466, train-loss: -0.736738383769989:  65%|██████▍   | 323/500 [01:57<01:04,  2.75it/s] \n"
     ]
    },
    {
     "name": "stdout",
     "output_type": "stream",
     "text": [
      "Early stopping\n",
      "Scaling factor: 124.77948760986328\n"
     ]
    },
    {
     "name": "stderr",
     "output_type": "stream",
     "text": [
      "100%|██████████| 10/10 [00:01<00:00,  8.31it/s]\n",
      "100%|██████████| 3/3 [00:13<00:00,  4.34s/it]\n"
     ]
    },
    {
     "name": "stdout",
     "output_type": "stream",
     "text": [
      "energy\n",
      "Before Calibration (original): {0: [-1.4093533, -1.5093446, -1.5880597, -1.7152842, -1.5612335, -1.7460997, -1.677437, -1.4501551, -1.2723238, -1.790154], 1: [-1.4093533, -1.5093446, -1.5880597, -1.7152842, -1.5612335, -1.7460997, -1.677437, -1.4501551, -1.2723238, -1.790154], 2: [-1.4093533, -1.5093446, -1.5880597, -1.7152842, -1.5612335, -1.7460997, -1.677437, -1.4501551, -1.2723238, -1.790154], 3: [-1.4093533, -1.5093446, -1.5880597, -1.7152842, -1.5612335, -1.7460997, -1.677437, -1.4501551, -1.2723238, -1.790154], 4: [-1.4093533, -1.5093446, -1.5880597, -1.7152842, -1.5612335, -1.7460997, -1.677437, -1.4501551, -1.2723238, -1.790154], 5: [-1.4093533, -1.5093446, -1.5880597, -1.7152842, -1.5612335, -1.7460997, -1.677437, -1.4501551, -1.2723238, -1.790154], 6: [-1.4093533, -1.5093446, -1.5880597, -1.7152842, -1.5612335, -1.7460997, -1.677437, -1.4501551, -1.2723238, -1.790154], 7: [-1.4093533, -1.5093446, -1.5880597, -1.7152842, -1.5612335, -1.7460997, -1.677437, -1.4501551, -1.2723238, -1.790154], 8: [-1.4093533, -1.5093446, -1.5880597, -1.7152842, -1.5612335, -1.7460997, -1.677437, -1.4501551, -1.2723238, -1.790154], 9: [-1.4093533, -1.5093446, -1.5880597, -1.7152842, -1.5612335, -1.7460997, -1.677437, -1.4501551, -1.2723238, -1.790154], 10: [-1.4093533, -1.5093446, -1.5880597, -1.7152842, -1.5612335, -1.7460997, -1.677437, -1.4501551, -1.2723238, -1.790154], 11: [-1.4093533, -1.5093446, -1.5880597, -1.7152842, -1.5612335, -1.7460997, -1.677437, -1.4501551, -1.2723238, -1.790154], 12: [-1.4093533, -1.5093446, -1.5880597, -1.7152842, -1.5612335, -1.7460997, -1.677437, -1.4501551, -1.2723238, -1.790154], 13: [-1.4093533, -1.5093446, -1.5880597, -1.7152842, -1.5612335, -1.7460997, -1.677437, -1.4501551, -1.2723238, -1.790154], 14: [-1.4093533, -1.5093446, -1.5880597, -1.7152842, -1.5612335, -1.7460997, -1.677437, -1.4501551, -1.2723238, -1.790154], 15: [-1.4093533, -1.5093446, -1.5880597, -1.7152842, -1.5612335, -1.7460997, -1.677437, -1.4501551, -1.2723238, -1.790154], 16: [-1.4093533, -1.5093446, -1.5880597, -1.7152842, -1.5612335, -1.7460997, -1.677437, -1.4501551, -1.2723238, -1.790154], 17: [-1.4093533, -1.5093446, -1.5880597, -1.7152842, -1.5612335, -1.7460997, -1.677437, -1.4501551, -1.2723238, -1.790154], 18: [-1.4093533, -1.5093446, -1.5880597, -1.7152842, -1.5612335, -1.7460997, -1.677437, -1.4501551, -1.2723238, -1.790154]} Before Calibration: {0: [-1.4081620108728843, -1.5080969474668007, -1.586113448874496, -1.7129437475207234, -1.5604128647891007, -1.7432706519240695, -1.6758548939349562, -1.4527254513979566, -1.2718865100032828, -1.7903134862269183], 1: [-1.4107764582657898, -1.5089814826642602, -1.5879363373259965, -1.7147696388530518, -1.5614506682545262, -1.7447209209289265, -1.677575024395608, -1.4560817182002812, -1.2732186921648196, -1.7892458403725677], 2: [-1.4141316139293614, -1.5113063638112019, -1.5897541920146783, -1.7165153798158026, -1.5631734036374614, -1.7457583485215824, -1.6791061381674328, -1.4592833621061327, -1.2770652124765909, -1.7914684551943063], 3: [-1.4186978636663672, -1.5155772483724679, -1.5921734649614712, -1.719071358232516, -1.5663038013476598, -1.7474633691041581, -1.6811528516846779, -1.4637696512189682, -1.2826093503984508, -1.792175889326391], 4: [-1.4249835406783298, -1.5196261879380184, -1.5950771045778431, -1.7214708438359918, -1.5692032922543444, -1.7500632539975254, -1.684164793594459, -1.469924577777554, -1.2887035314910045, -1.7953338893774908], 5: [-1.4322267238053363, -1.524739544019076, -1.5997324544882148, -1.7250115726641337, -1.5728215146810602, -1.7535290591390906, -1.687278496496972, -1.4778961598701572, -1.296772395759247, -1.798417465268893], 6: [-1.4407647226658375, -1.5313411564624237, -1.6044639808489887, -1.7289617256010337, -1.57808733521926, -1.757191523604974, -1.6915008226664296, -1.4872450828389274, -1.3062717902868937, -1.8022235088408], 7: [-1.4504662727967024, -1.5383989542940437, -1.6099564940797209, -1.7336075524568608, -1.5835201157911216, -1.7612882998480295, -1.6962504883913014, -1.4977901240148515, -1.3178119599170937, -1.8065652008057893], 8: [-1.4614239537215021, -1.5461981743034443, -1.6165175665614333, -1.7388173422497168, -1.590345404112633, -1.7657491380059671, -1.7015741848851706, -1.5095924702270227, -1.3304719118471346, -1.8112601374492219], 9: [-1.473657283653816, -1.5553850308598227, -1.6238177924025843, -1.7446969854677117, -1.5973282423891428, -1.7706099904505745, -1.707531722580324, -1.5228085744493212, -1.344242829734593, -1.816773071681557], 10: [-1.4870861741879495, -1.565121334769458, -1.631778255533475, -1.7508908296418562, -1.605273144339474, -1.7764181615402923, -1.713934989914442, -1.537299202414191, -1.3591800816897612, -1.8225378270426686], 11: [-1.501524908403417, -1.5754796842976366, -1.640547491173948, -1.757851493934581, -1.6145161263056511, -1.782231964466785, -1.720891067398197, -1.552808222616313, -1.3752696044291535, -1.8287025693741883], 12: [-1.5170578176766834, -1.5868204840208593, -1.649651593879673, -1.7654427402622919, -1.624214022269905, -1.788871707119636, -1.7284983869345345, -1.5690124780577615, -1.392740809663229, -1.835447679515052], 13: [-1.533371489571466, -1.599165249607668, -1.6595528672521758, -1.7734344989383681, -1.6345812245540263, -1.7959592342915975, -1.7366744249650103, -1.5863230658105425, -1.4111039618134666, -1.8428880627025404], 14: [-1.550514087995026, -1.6122205857170155, -1.6703924033512958, -1.7820015986149196, -1.6460390272424914, -1.803403110299621, -1.7457381208564293, -1.6042648895838092, -1.4306664683823866, -1.8504785595545135], 15: [-1.5685375157886579, -1.6255800916892558, -1.6818371778733703, -1.79117270566791, -1.658166212645523, -1.8114605168672326, -1.7549904031696006, -1.6229246315807435, -1.4507673076718057, -1.8587212841756537], 16: [-1.5874528159511765, -1.6398681619135351, -1.693810093582375, -1.8008671929280322, -1.6709924309749222, -1.8199379669127191, -1.7649400751988562, -1.6421589294895187, -1.4717465238398009, -1.8673715486670546], 17: [-1.606782434756708, -1.6546227722597786, -1.7065408343114925, -1.8109177655257545, -1.6845024919229084, -1.8287943789715588, -1.775283659568883, -1.6618447298166412, -1.4934580851587476, -1.8763966350971413], 18: [-1.6267389993989672, -1.6701421038154192, -1.7195840865829077, -1.821836320189024, -1.6988364810492471, -1.838095795189312, -1.786126082339114, -1.6818655128699271, -1.5157298091780866, -1.8857999619279329]} After Calibration: {0: [-1.3445928371342006, -1.310856511269989, -1.4456901561757651, -1.6206755090472853, -1.55122935885815, -1.5464685776958897, -1.6401873479588929, -1.4692717896668444, -1.1827776442419342, -1.6426890358108035], 1: [-1.322191034860186, -1.3079250912719975, -1.4338903955384072, -1.611156025017642, -1.547005040623456, -1.5499569087780536, -1.623080998571327, -1.4702025060409811, -1.1743617449742378, -1.6237476661423493], 2: [-1.304424760134829, -1.2859835595264761, -1.416854330770401, -1.6034054993212905, -1.5314078726928642, -1.552628801185384, -1.6183839066086525, -1.4773415299719013, -1.1449425700706202, -1.6239467667665186], 3: [-1.3035120926187471, -1.2881062401915342, -1.417426810442805, -1.6015088372231054, -1.5142326312236005, -1.5424266973429022, -1.6097271790843914, -1.4839339272988084, -1.140469001783379, -1.6229233516683104], 4: [-1.3063581723676942, -1.2885407793993906, -1.4218757743115116, -1.6044151910940971, -1.5101183665379563, -1.5353104654068301, -1.6070209377562994, -1.4856448130250293, -1.1491965026390163, -1.6259824476344371], 5: [-1.3151800233608821, -1.29662946124339, -1.4234823363686322, -1.6109884748879228, -1.5102278087779253, -1.5346782880667784, -1.5945075793481776, -1.4908777038961245, -1.1556488233832196, -1.6320310254151895], 6: [-1.3203295228110083, -1.305845216763659, -1.4261152521086882, -1.6125431193690185, -1.5019928823930273, -1.5395959255688736, -1.5913882170670441, -1.4975275949285431, -1.1661381099415178, -1.6327802703003895], 7: [-1.3285310598920856, -1.315802826475365, -1.4334471084559819, -1.6170063895648263, -1.4957508860465525, -1.546827650452302, -1.5864228790138215, -1.5091666269866344, -1.1766994593236264, -1.63698044037024], 8: [-1.3391663397058118, -1.32690007982432, -1.4461740608020943, -1.6243757606982292, -1.4991075106957152, -1.5571624984301415, -1.5836091864344706, -1.5193057855012242, -1.1888658387413293, -1.6421549418402224], 9: [-1.356333365014278, -1.3386849094207554, -1.4577759001256103, -1.6310046298950853, -1.503429280949602, -1.5700635908310347, -1.5871490505257535, -1.5319278542939445, -1.2032353884534905, -1.6538038301499276], 10: [-1.3746140908917333, -1.352932007304391, -1.4701444672770667, -1.6382296346250858, -1.5083799716599116, -1.581867256777182, -1.5923212098621962, -1.543350598434555, -1.2227306195730434, -1.6647918255893643], 11: [-1.3940534246922256, -1.3730844697786575, -1.4840882257751193, -1.645979651091919, -1.5168871833987483, -1.5952966075012527, -1.598478057802735, -1.5566331758140344, -1.2439621338167337, -1.6760337066609006], 12: [-1.4126378825861465, -1.39238115200732, -1.5016201712068653, -1.657623701747175, -1.5255395378335777, -1.6103200370201352, -1.608173052866021, -1.5748219618415233, -1.266615792138506, -1.6876792396938634], 13: [-1.4304507428933952, -1.4115773467781214, -1.51741217721582, -1.6693450774088026, -1.537450519115978, -1.6210215178571936, -1.617421863913668, -1.5946933673882846, -1.291334888946737, -1.7004136560464411], 14: [-1.4506592110569487, -1.4317985019709336, -1.5357995175744714, -1.6803655082334112, -1.5535634082826764, -1.630782051253783, -1.6295325665727047, -1.6121885021000553, -1.3178250606291964, -1.7152884429471689], 15: [-1.4725889224625486, -1.4532906115691289, -1.5534140809599848, -1.6948407463825177, -1.567941258369354, -1.6429936583910785, -1.6417829554117798, -1.6282314529266824, -1.3463141175111994, -1.7307219666443316], 16: [-1.49674461719884, -1.4751688929718538, -1.5728529481026992, -1.708328510571811, -1.5855046846912677, -1.6567668973111511, -1.6521516098355924, -1.6526220248818309, -1.3757386515782823, -1.746321803854359], 17: [-1.5214600334024349, -1.4991536110674284, -1.5928566538790017, -1.722286032749263, -1.602557265073627, -1.6687766746644548, -1.666359584442478, -1.676461288771222, -1.4039117321992396, -1.7624117943486244], 18: [-1.547447465515738, -1.5220603099227017, -1.6143187714859644, -1.739522249073811, -1.6222060915888548, -1.6834440381334819, -1.6789332583975396, -1.700956487598166, -1.4312170541705516, -1.777784612962329]}\n"
     ]
    },
    {
     "name": "stderr",
     "output_type": "stream",
     "text": [
      "val_nll_loss: 2.540007487382039, train-loss: -0.3864371180534363:  27%|██▋       | 135/500 [00:44<02:01,  2.99it/s]  "
     ]
    },
    {
     "name": "stdout",
     "output_type": "stream",
     "text": [
      "Epoch 00135: reducing learning rate of group 0 to 1.0000e-04.\n"
     ]
    },
    {
     "name": "stderr",
     "output_type": "stream",
     "text": [
      "val_nll_loss: 2.5344208443518914, train-loss: -0.39139053225517273:  29%|██▉       | 146/500 [00:47<01:51,  3.19it/s]"
     ]
    },
    {
     "name": "stdout",
     "output_type": "stream",
     "text": [
      "Epoch 00146: reducing learning rate of group 0 to 5.0000e-05.\n"
     ]
    },
    {
     "name": "stderr",
     "output_type": "stream",
     "text": [
      "val_nll_loss: 2.5173153263507504, train-loss: -0.14955270290374756:  33%|███▎      | 164/500 [00:53<01:50,  3.05it/s]"
     ]
    },
    {
     "name": "stdout",
     "output_type": "stream",
     "text": [
      "Epoch 00164: reducing learning rate of group 0 to 2.5000e-05.\n"
     ]
    },
    {
     "name": "stderr",
     "output_type": "stream",
     "text": [
      "val_nll_loss: 2.516419420147886, train-loss: -0.09811544418334961:  33%|███▎      | 167/500 [00:54<01:49,  3.05it/s] \n"
     ]
    },
    {
     "name": "stdout",
     "output_type": "stream",
     "text": [
      "Early stopping\n",
      "Scaling factor: 112.86373901367188\n"
     ]
    },
    {
     "name": "stderr",
     "output_type": "stream",
     "text": [
      "100%|██████████| 7/7 [00:00<00:00,  8.09it/s]\n",
      "100%|██████████| 2/2 [00:08<00:00,  4.24s/it]\n",
      "val_nll_loss: 2.4585728881382707, train-loss: -0.3847602307796478:  27%|██▋       | 137/500 [00:45<01:57,  3.09it/s] "
     ]
    },
    {
     "name": "stdout",
     "output_type": "stream",
     "text": [
      "Epoch 00137: reducing learning rate of group 0 to 1.0000e-04.\n"
     ]
    },
    {
     "name": "stderr",
     "output_type": "stream",
     "text": [
      "val_nll_loss: 2.427319630537883, train-loss: -0.3520059585571289:  32%|███▏      | 161/500 [00:53<01:50,  3.07it/s]  "
     ]
    },
    {
     "name": "stdout",
     "output_type": "stream",
     "text": [
      "Epoch 00161: reducing learning rate of group 0 to 5.0000e-05.\n"
     ]
    },
    {
     "name": "stderr",
     "output_type": "stream",
     "text": [
      "val_nll_loss: 2.414000917189192, train-loss: -0.48514243960380554:  36%|███▋      | 182/500 [00:59<01:43,  3.08it/s] "
     ]
    },
    {
     "name": "stdout",
     "output_type": "stream",
     "text": [
      "Epoch 00182: reducing learning rate of group 0 to 2.5000e-05.\n"
     ]
    },
    {
     "name": "stderr",
     "output_type": "stream",
     "text": [
      "val_nll_loss: 2.4058632236896176, train-loss: -0.3583492934703827:  44%|████▍     | 220/500 [01:12<01:28,  3.16it/s] "
     ]
    },
    {
     "name": "stdout",
     "output_type": "stream",
     "text": [
      "Epoch 00220: reducing learning rate of group 0 to 1.2500e-05.\n"
     ]
    },
    {
     "name": "stderr",
     "output_type": "stream",
     "text": [
      "val_nll_loss: 2.4039029508534044, train-loss: -0.33568912744522095:  48%|████▊     | 239/500 [01:18<01:26,  3.00it/s]"
     ]
    },
    {
     "name": "stdout",
     "output_type": "stream",
     "text": [
      "Epoch 00239: reducing learning rate of group 0 to 6.2500e-06.\n"
     ]
    },
    {
     "name": "stderr",
     "output_type": "stream",
     "text": [
      "val_nll_loss: 2.4045657828302667, train-loss: -0.3783283233642578:  49%|████▊     | 243/500 [01:19<01:24,  3.04it/s] \n"
     ]
    },
    {
     "name": "stdout",
     "output_type": "stream",
     "text": [
      "Early stopping\n",
      "Scaling factor: 112.22245025634766\n"
     ]
    },
    {
     "name": "stderr",
     "output_type": "stream",
     "text": [
      "100%|██████████| 7/7 [00:00<00:00,  8.27it/s]\n",
      "100%|██████████| 2/2 [00:08<00:00,  4.21s/it]\n",
      "val_nll_loss: 2.597309188087388, train-loss: -0.10767579078674316:  20%|██        | 100/500 [00:33<02:13,  3.01it/s]  "
     ]
    },
    {
     "name": "stdout",
     "output_type": "stream",
     "text": [
      "Epoch 00100: reducing learning rate of group 0 to 1.0000e-04.\n"
     ]
    },
    {
     "name": "stderr",
     "output_type": "stream",
     "text": [
      "val_nll_loss: 2.5962384573303825, train-loss: -0.1776711493730545:  23%|██▎       | 114/500 [00:37<02:06,  3.05it/s] "
     ]
    },
    {
     "name": "stdout",
     "output_type": "stream",
     "text": [
      "Epoch 00114: reducing learning rate of group 0 to 5.0000e-05.\n"
     ]
    },
    {
     "name": "stderr",
     "output_type": "stream",
     "text": [
      "val_nll_loss: 2.587211835502398, train-loss: -0.34440258145332336:  23%|██▎       | 117/500 [00:39<02:07,  2.99it/s] \n"
     ]
    },
    {
     "name": "stdout",
     "output_type": "stream",
     "text": [
      "Early stopping\n",
      "Scaling factor: 112.24553680419922\n"
     ]
    },
    {
     "name": "stderr",
     "output_type": "stream",
     "text": [
      "100%|██████████| 7/7 [00:00<00:00,  8.25it/s]\n",
      "100%|██████████| 2/2 [00:08<00:00,  4.47s/it]\n",
      "val_nll_loss: 2.4441365629139513, train-loss: -0.30416980385780334:  31%|███       | 156/500 [00:51<01:50,  3.12it/s]"
     ]
    },
    {
     "name": "stdout",
     "output_type": "stream",
     "text": [
      "Epoch 00156: reducing learning rate of group 0 to 1.0000e-04.\n"
     ]
    },
    {
     "name": "stderr",
     "output_type": "stream",
     "text": [
      "val_nll_loss: 2.4423617466841594, train-loss: -0.4133909046649933:  32%|███▏      | 159/500 [00:52<01:53,  3.00it/s] \n"
     ]
    },
    {
     "name": "stdout",
     "output_type": "stream",
     "text": [
      "Early stopping\n",
      "Scaling factor: 112.84071350097656\n"
     ]
    },
    {
     "name": "stderr",
     "output_type": "stream",
     "text": [
      "100%|██████████| 7/7 [00:00<00:00,  8.22it/s]\n",
      "100%|██████████| 2/2 [00:08<00:00,  4.39s/it]\n",
      "val_nll_loss: 2.365623908467812, train-loss: -0.23236706852912903:  27%|██▋       | 134/500 [00:44<01:55,  3.16it/s]  "
     ]
    },
    {
     "name": "stdout",
     "output_type": "stream",
     "text": [
      "Epoch 00134: reducing learning rate of group 0 to 1.0000e-04.\n"
     ]
    },
    {
     "name": "stderr",
     "output_type": "stream",
     "text": [
      "val_nll_loss: 2.347990357049621, train-loss: 0.002664119005203247:  32%|███▏      | 159/500 [00:52<01:48,  3.15it/s]   "
     ]
    },
    {
     "name": "stdout",
     "output_type": "stream",
     "text": [
      "Epoch 00159: reducing learning rate of group 0 to 5.0000e-05.\n"
     ]
    },
    {
     "name": "stderr",
     "output_type": "stream",
     "text": [
      "val_nll_loss: 2.3441934679994487, train-loss: -0.439506471157074:  34%|███▍      | 172/500 [00:57<01:44,  3.14it/s]  "
     ]
    },
    {
     "name": "stdout",
     "output_type": "stream",
     "text": [
      "Epoch 00172: reducing learning rate of group 0 to 2.5000e-05.\n"
     ]
    },
    {
     "name": "stderr",
     "output_type": "stream",
     "text": [
      "val_nll_loss: 2.3432956733325923, train-loss: -0.2951054573059082:  36%|███▌      | 181/500 [01:00<01:39,  3.20it/s] "
     ]
    },
    {
     "name": "stdout",
     "output_type": "stream",
     "text": [
      "Epoch 00181: reducing learning rate of group 0 to 1.2500e-05.\n"
     ]
    },
    {
     "name": "stderr",
     "output_type": "stream",
     "text": [
      "val_nll_loss: 2.3421879570082864, train-loss: -0.4513571560382843:  37%|███▋      | 184/500 [01:01<01:45,  2.99it/s] \n"
     ]
    },
    {
     "name": "stdout",
     "output_type": "stream",
     "text": [
      "Early stopping\n",
      "Scaling factor: 112.0214614868164\n"
     ]
    },
    {
     "name": "stderr",
     "output_type": "stream",
     "text": [
      "100%|██████████| 7/7 [00:00<00:00,  8.13it/s]\n",
      "100%|██████████| 2/2 [00:08<00:00,  4.37s/it]\n",
      "val_nll_loss: 2.552368371793539, train-loss: 0.026648014783859253:  13%|█▎        | 63/500 [00:20<02:23,  3.05it/s]  "
     ]
    },
    {
     "name": "stdout",
     "output_type": "stream",
     "text": [
      "Epoch 00063: reducing learning rate of group 0 to 1.0000e-04.\n"
     ]
    },
    {
     "name": "stderr",
     "output_type": "stream",
     "text": [
      "val_nll_loss: 2.4844656085023784, train-loss: -0.2942538261413574:  24%|██▎       | 118/500 [00:39<02:12,  2.89it/s]  "
     ]
    },
    {
     "name": "stdout",
     "output_type": "stream",
     "text": [
      "Epoch 00118: reducing learning rate of group 0 to 5.0000e-05.\n"
     ]
    },
    {
     "name": "stderr",
     "output_type": "stream",
     "text": [
      "val_nll_loss: 2.4743815601462185, train-loss: -0.0644964873790741:  31%|███       | 154/500 [00:51<01:54,  3.03it/s] "
     ]
    },
    {
     "name": "stdout",
     "output_type": "stream",
     "text": [
      "Epoch 00154: reducing learning rate of group 0 to 2.5000e-05.\n"
     ]
    },
    {
     "name": "stderr",
     "output_type": "stream",
     "text": [
      "val_nll_loss: 2.4683046340942383, train-loss: -0.43501266837120056:  35%|███▍      | 173/500 [00:57<01:46,  3.07it/s] "
     ]
    },
    {
     "name": "stdout",
     "output_type": "stream",
     "text": [
      "Epoch 00173: reducing learning rate of group 0 to 1.2500e-05.\n"
     ]
    },
    {
     "name": "stderr",
     "output_type": "stream",
     "text": [
      "val_nll_loss: 2.4652699952078336, train-loss: -0.15767791867256165:  37%|███▋      | 186/500 [01:01<01:41,  3.11it/s]"
     ]
    },
    {
     "name": "stdout",
     "output_type": "stream",
     "text": [
      "Epoch 00186: reducing learning rate of group 0 to 6.2500e-06.\n"
     ]
    },
    {
     "name": "stderr",
     "output_type": "stream",
     "text": [
      "val_nll_loss: 2.465539233519299, train-loss: -0.15232452750205994:  38%|███▊      | 192/500 [01:03<01:42,  3.01it/s] \n"
     ]
    },
    {
     "name": "stdout",
     "output_type": "stream",
     "text": [
      "Early stopping\n",
      "Scaling factor: 112.65609741210938\n"
     ]
    },
    {
     "name": "stderr",
     "output_type": "stream",
     "text": [
      "100%|██████████| 7/7 [00:00<00:00,  8.39it/s]\n",
      "100%|██████████| 2/2 [00:08<00:00,  4.38s/it]\n",
      "val_nll_loss: 2.5792312338800714, train-loss: -0.23984019458293915:  22%|██▏       | 110/500 [00:36<02:04,  3.14it/s]"
     ]
    },
    {
     "name": "stdout",
     "output_type": "stream",
     "text": [
      "Epoch 00110: reducing learning rate of group 0 to 1.0000e-04.\n"
     ]
    },
    {
     "name": "stderr",
     "output_type": "stream",
     "text": [
      "val_nll_loss: 2.5673214657471912, train-loss: -0.4865163564682007:  25%|██▍       | 124/500 [00:41<02:01,  3.10it/s] "
     ]
    },
    {
     "name": "stdout",
     "output_type": "stream",
     "text": [
      "Epoch 00124: reducing learning rate of group 0 to 5.0000e-05.\n"
     ]
    },
    {
     "name": "stderr",
     "output_type": "stream",
     "text": [
      "val_nll_loss: 2.562775677973681, train-loss: -0.1824406385421753:  28%|██▊       | 142/500 [00:47<01:55,  3.10it/s]  "
     ]
    },
    {
     "name": "stdout",
     "output_type": "stream",
     "text": [
      "Epoch 00142: reducing learning rate of group 0 to 2.5000e-05.\n"
     ]
    },
    {
     "name": "stderr",
     "output_type": "stream",
     "text": [
      "val_nll_loss: 2.56047260171116, train-loss: -0.3103693723678589:  29%|██▉       | 145/500 [00:48<01:58,  3.00it/s]  \n"
     ]
    },
    {
     "name": "stdout",
     "output_type": "stream",
     "text": [
      "Early stopping\n",
      "Scaling factor: 113.35655212402344\n"
     ]
    },
    {
     "name": "stderr",
     "output_type": "stream",
     "text": [
      "100%|██████████| 7/7 [00:00<00:00,  8.18it/s]\n",
      "100%|██████████| 2/2 [00:08<00:00,  4.32s/it]\n",
      "val_nll_loss: 2.3827288504874353, train-loss: -0.12944599986076355:  25%|██▌       | 125/500 [00:41<02:05,  2.98it/s]"
     ]
    },
    {
     "name": "stdout",
     "output_type": "stream",
     "text": [
      "Epoch 00125: reducing learning rate of group 0 to 1.0000e-04.\n"
     ]
    },
    {
     "name": "stderr",
     "output_type": "stream",
     "text": [
      "val_nll_loss: 2.364982727730628, train-loss: -0.35842329263687134:  27%|██▋       | 136/500 [00:45<01:58,  3.07it/s] "
     ]
    },
    {
     "name": "stdout",
     "output_type": "stream",
     "text": [
      "Epoch 00136: reducing learning rate of group 0 to 5.0000e-05.\n"
     ]
    },
    {
     "name": "stderr",
     "output_type": "stream",
     "text": [
      "val_nll_loss: 2.3571402294801014, train-loss: -0.2027779221534729:  30%|██▉       | 149/500 [00:49<01:55,  3.04it/s] "
     ]
    },
    {
     "name": "stdout",
     "output_type": "stream",
     "text": [
      "Epoch 00149: reducing learning rate of group 0 to 2.5000e-05.\n"
     ]
    },
    {
     "name": "stderr",
     "output_type": "stream",
     "text": [
      "val_nll_loss: 2.3545812474619043, train-loss: -0.44329652190208435:  32%|███▏      | 160/500 [00:52<01:44,  3.26it/s]"
     ]
    },
    {
     "name": "stdout",
     "output_type": "stream",
     "text": [
      "Epoch 00160: reducing learning rate of group 0 to 1.2500e-05.\n"
     ]
    },
    {
     "name": "stderr",
     "output_type": "stream",
     "text": [
      "val_nll_loss: 2.3536256563545455, train-loss: -0.43195801973342896:  33%|███▎      | 165/500 [00:54<01:50,  3.02it/s]\n"
     ]
    },
    {
     "name": "stdout",
     "output_type": "stream",
     "text": [
      "Early stopping\n",
      "Scaling factor: 111.95147705078125\n"
     ]
    },
    {
     "name": "stderr",
     "output_type": "stream",
     "text": [
      "100%|██████████| 7/7 [00:00<00:00,  8.27it/s]\n",
      "100%|██████████| 2/2 [00:09<00:00,  4.54s/it]\n",
      "val_nll_loss: 2.611508747138599, train-loss: 0.11284717917442322:  14%|█▍        | 72/500 [00:23<02:21,  3.03it/s]   "
     ]
    },
    {
     "name": "stdout",
     "output_type": "stream",
     "text": [
      "Epoch 00072: reducing learning rate of group 0 to 1.0000e-04.\n"
     ]
    },
    {
     "name": "stderr",
     "output_type": "stream",
     "text": [
      "val_nll_loss: 2.6005173673724182, train-loss: -0.24090123176574707:  17%|█▋        | 85/500 [00:28<02:19,  2.98it/s]"
     ]
    },
    {
     "name": "stdout",
     "output_type": "stream",
     "text": [
      "Epoch 00085: reducing learning rate of group 0 to 5.0000e-05.\n"
     ]
    },
    {
     "name": "stderr",
     "output_type": "stream",
     "text": [
      "val_nll_loss: 2.5781893116412777, train-loss: -0.15841442346572876:  21%|██        | 103/500 [00:34<02:04,  3.18it/s]"
     ]
    },
    {
     "name": "stdout",
     "output_type": "stream",
     "text": [
      "Epoch 00103: reducing learning rate of group 0 to 2.5000e-05.\n"
     ]
    },
    {
     "name": "stderr",
     "output_type": "stream",
     "text": [
      "val_nll_loss: 2.5756964447474715, train-loss: 0.020108789205551147:  23%|██▎       | 117/500 [00:38<02:05,  3.06it/s] "
     ]
    },
    {
     "name": "stdout",
     "output_type": "stream",
     "text": [
      "Epoch 00117: reducing learning rate of group 0 to 1.2500e-05.\n"
     ]
    },
    {
     "name": "stderr",
     "output_type": "stream",
     "text": [
      "val_nll_loss: 2.5751547671780726, train-loss: -0.12138992547988892:  24%|██▍       | 120/500 [00:40<02:07,  2.99it/s]\n"
     ]
    },
    {
     "name": "stdout",
     "output_type": "stream",
     "text": [
      "Early stopping\n",
      "Scaling factor: 111.73892974853516\n"
     ]
    },
    {
     "name": "stderr",
     "output_type": "stream",
     "text": [
      "100%|██████████| 7/7 [00:00<00:00,  8.42it/s]\n",
      "100%|██████████| 2/2 [00:09<00:00,  4.59s/it]\n",
      "val_nll_loss: 2.4862993448087485, train-loss: -0.33585596084594727:  17%|█▋        | 85/500 [00:28<02:16,  3.04it/s] "
     ]
    },
    {
     "name": "stdout",
     "output_type": "stream",
     "text": [
      "Epoch 00085: reducing learning rate of group 0 to 1.0000e-04.\n"
     ]
    },
    {
     "name": "stderr",
     "output_type": "stream",
     "text": [
      "val_nll_loss: 2.4757976154289625, train-loss: -0.29303455352783203:  20%|█▉        | 99/500 [00:32<02:09,  3.09it/s] "
     ]
    },
    {
     "name": "stdout",
     "output_type": "stream",
     "text": [
      "Epoch 00099: reducing learning rate of group 0 to 5.0000e-05.\n"
     ]
    },
    {
     "name": "stderr",
     "output_type": "stream",
     "text": [
      "val_nll_loss: 2.4760960682783977, train-loss: -0.24092252552509308:  20%|██        | 102/500 [00:34<02:13,  2.97it/s] \n"
     ]
    },
    {
     "name": "stdout",
     "output_type": "stream",
     "text": [
      "Early stopping\n",
      "Scaling factor: 112.57958984375\n"
     ]
    },
    {
     "name": "stderr",
     "output_type": "stream",
     "text": [
      "100%|██████████| 7/7 [00:00<00:00,  8.03it/s]\n",
      "100%|██████████| 2/2 [00:09<00:00,  4.56s/it]"
     ]
    },
    {
     "name": "stdout",
     "output_type": "stream",
     "text": [
      "boston_housing\n",
      "Before Calibration (original): {0: [-2.5170739, -2.4044878, -2.5853949, -2.4393258, -2.3421412, -2.4654684, -2.5603528, -2.3534904, -2.5753772, -2.472554], 1: [-2.5170739, -2.4044878, -2.5853949, -2.4393258, -2.3421412, -2.4654684, -2.5603528, -2.3534904, -2.5753772, -2.472554], 2: [-2.5170739, -2.4044878, -2.5853949, -2.4393258, -2.3421412, -2.4654684, -2.5603528, -2.3534904, -2.5753772, -2.472554], 3: [-2.5170739, -2.4044878, -2.5853949, -2.4393258, -2.3421412, -2.4654684, -2.5603528, -2.3534904, -2.5753772, -2.472554], 4: [-2.5170739, -2.4044878, -2.5853949, -2.4393258, -2.3421412, -2.4654684, -2.5603528, -2.3534904, -2.5753772, -2.472554], 5: [-2.5170739, -2.4044878, -2.5853949, -2.4393258, -2.3421412, -2.4654684, -2.5603528, -2.3534904, -2.5753772, -2.472554], 6: [-2.5170739, -2.4044878, -2.5853949, -2.4393258, -2.3421412, -2.4654684, -2.5603528, -2.3534904, -2.5753772, -2.472554], 7: [-2.5170739, -2.4044878, -2.5853949, -2.4393258, -2.3421412, -2.4654684, -2.5603528, -2.3534904, -2.5753772, -2.472554], 8: [-2.5170739, -2.4044878, -2.5853949, -2.4393258, -2.3421412, -2.4654684, -2.5603528, -2.3534904, -2.5753772, -2.472554], 9: [-2.5170739, -2.4044878, -2.5853949, -2.4393258, -2.3421412, -2.4654684, -2.5603528, -2.3534904, -2.5753772, -2.472554], 10: [-2.5170739, -2.4044878, -2.5853949, -2.4393258, -2.3421412, -2.4654684, -2.5603528, -2.3534904, -2.5753772, -2.472554], 11: [-2.5170739, -2.4044878, -2.5853949, -2.4393258, -2.3421412, -2.4654684, -2.5603528, -2.3534904, -2.5753772, -2.472554], 12: [-2.5170739, -2.4044878, -2.5853949, -2.4393258, -2.3421412, -2.4654684, -2.5603528, -2.3534904, -2.5753772, -2.472554], 13: [-2.5170739, -2.4044878, -2.5853949, -2.4393258, -2.3421412, -2.4654684, -2.5603528, -2.3534904, -2.5753772, -2.472554], 14: [-2.5170739, -2.4044878, -2.5853949, -2.4393258, -2.3421412, -2.4654684, -2.5603528, -2.3534904, -2.5753772, -2.472554], 15: [-2.5170739, -2.4044878, -2.5853949, -2.4393258, -2.3421412, -2.4654684, -2.5603528, -2.3534904, -2.5753772, -2.472554], 16: [-2.5170739, -2.4044878, -2.5853949, -2.4393258, -2.3421412, -2.4654684, -2.5603528, -2.3534904, -2.5753772, -2.472554], 17: [-2.5170739, -2.4044878, -2.5853949, -2.4393258, -2.3421412, -2.4654684, -2.5603528, -2.3534904, -2.5753772, -2.472554], 18: [-2.5170739, -2.4044878, -2.5853949, -2.4393258, -2.3421412, -2.4654684, -2.5603528, -2.3534904, -2.5753772, -2.472554]} Before Calibration: {0: [-2.520371608171694, -2.402658602238435, -2.6081065356460766, -2.4603086378126786, -2.340036601119218, -2.46803191212796, -2.609906755277537, -2.352632171962368, -2.5739668217246305, -2.4713520400284366], 1: [-2.5177757402336804, -2.401551719661878, -2.608197928154015, -2.4589700562664034, -2.341493369111357, -2.4704689535030355, -2.5982856653194495, -2.3531688708306415, -2.5741202474521376, -2.470901044989252], 2: [-2.5185112383932147, -2.4029839874316177, -2.6084542064401233, -2.45917298750464, -2.342923122275918, -2.4712791954110815, -2.5774054108550373, -2.353423428081717, -2.574273982764286, -2.471944390620366], 3: [-2.5189747656101065, -2.404382487950121, -2.6087638389054555, -2.460394950309497, -2.3426293084213214, -2.4716562296225852, -2.572410019139902, -2.354171505873601, -2.574339842362159, -2.4725560495264993], 4: [-2.518947565194439, -2.406387526233141, -2.608220178178747, -2.4610374812123004, -2.3438328955375, -2.4718553828233296, -2.570349648894607, -2.3548351754089993, -2.57546124166189, -2.4729301828824615], 5: [-2.5191591046140545, -2.407785918324814, -2.6080252026130437, -2.4617333415936593, -2.3445662397528926, -2.472312519125034, -2.5690561374392344, -2.355476318124784, -2.575736898014023, -2.473684540557827], 6: [-2.5201505358074874, -2.4093155360598044, -2.6074922745635734, -2.460391585319157, -2.345660763459936, -2.4736424998635558, -2.5689228020379695, -2.356430108601472, -2.5761360269389457, -2.474362167006789], 7: [-2.521103320800947, -2.4104953829259346, -2.6047928671419447, -2.456170241189384, -2.346955305982899, -2.4742081458842002, -2.5687913169544707, -2.357900399733177, -2.5773203069324535, -2.475635470963932], 8: [-2.5218623240589317, -2.412618959038199, -2.601531800626518, -2.4550737199516894, -2.3484685762188313, -2.4755038741732944, -2.5690974095370827, -2.3592906168997194, -2.578421363523154, -2.477091548043429], 9: [-2.5225393577599204, -2.414883860771382, -2.599942900243998, -2.4552342058758554, -2.349968613758893, -2.4767837299608644, -2.5699027166823902, -2.361035314548046, -2.5795068602189803, -2.4787945298827117], 10: [-2.5231395723614893, -2.4177993593240674, -2.599258488937328, -2.456137354547539, -2.3519302966957243, -2.478176626314377, -2.57104149177817, -2.363006510391704, -2.5806456718025275, -2.4807046331914524], 11: [-2.5241826125971314, -2.420929915786828, -2.599327829421062, -2.4573604069871844, -2.353674597936936, -2.4797807347113245, -2.572193372297591, -2.365114428476658, -2.5821795334615976, -2.4827219408330183], 12: [-2.52526437692869, -2.4237757597583585, -2.599437526943279, -2.4590226942732203, -2.355751723965961, -2.4813815192930346, -2.5736847077332996, -2.36708582425743, -2.5836611209175495, -2.4848708557040546], 13: [-2.5266526696261833, -2.426795507374504, -2.5997817260015785, -2.4609176563231743, -2.357767990930329, -2.4833826631206675, -2.5750221215947064, -2.369405354284687, -2.585241927657821, -2.4870019446353373], 14: [-2.5281240069060185, -2.429953114712216, -2.6005113352466793, -2.463260203837693, -2.360353843166974, -2.4852680395983904, -2.57591309020694, -2.3719159523585645, -2.5870176358115144, -2.489237092949075], 15: [-2.52997955775957, -2.432866738966615, -2.601582307702302, -2.4657428046432694, -2.362986165599598, -2.487472836859284, -2.5771798316187327, -2.374645091483177, -2.5888176436416344, -2.4913003959900446], 16: [-2.5317266519943455, -2.436210560067231, -2.602925163455876, -2.468547774020705, -2.3656622972149153, -2.48971179358623, -2.5780049757061967, -2.3773464899373193, -2.5908732480852947, -2.493577197519635], 17: [-2.5335952424448567, -2.43974287919552, -2.6044651682428595, -2.4713461754463513, -2.368584175884028, -2.492217020147793, -2.5792396405893068, -2.3803560901910115, -2.592815422798339, -2.4960494502236177], 18: [-2.535756223323565, -2.4433558060254925, -2.605987038640488, -2.4740796855452087, -2.371736304420351, -2.49477514136419, -2.580901321424618, -2.38342563846638, -2.5950644286305913, -2.498702254046163]} After Calibration: {0: [-2.7459867345222477, -2.406227991125135, -2.765293782003503, -2.45897180923817, -2.370419868864217, -2.4487621171686804, -2.6025072526190853, -2.2516317963660226, -2.5310479231613905, -2.452956576112131], 1: [-2.7257132242916393, -2.3883686557592494, -2.759133536698029, -2.4627759308833848, -2.3427810588751914, -2.4418084372492093, -2.5838289699828345, -2.2472606506441806, -2.4965719939996376, -2.4488818430308457], 2: [-2.7095798532789828, -2.3841468500708265, -2.7333941348394912, -2.451483532962786, -2.34076069295227, -2.4393775517907894, -2.5641332540706867, -2.2188305542153732, -2.498021161481644, -2.41802882351832], 3: [-2.702087127596723, -2.3782336305632636, -2.7273752173634036, -2.431665635978213, -2.325795037244004, -2.423200882334057, -2.573370738523146, -2.209257529263165, -2.5051893127911335, -2.402266433419058], 4: [-2.6959082388876374, -2.3777650212745765, -2.7258605771588145, -2.428926831656819, -2.3106473017910623, -2.4166581785472623, -2.5671835175762974, -2.1998766865465655, -2.503881285470259, -2.3938690001829124], 5: [-2.693612251245854, -2.3764777425347035, -2.718422930429442, -2.422190248334657, -2.299429434589869, -2.425705067558445, -2.5740566770014737, -2.2054192971165207, -2.507557132724676, -2.3931690092564026], 6: [-2.690945655910389, -2.373859640470904, -2.705445773098081, -2.428458415375091, -2.2969420057799668, -2.4280416492276675, -2.5748569829385968, -2.206504413364863, -2.507307178408527, -2.3910715503262776], 7: [-2.67473492530602, -2.370692688865636, -2.703008100318325, -2.432396198287426, -2.2926047382989916, -2.424479632772204, -2.581753396756374, -2.206916800580475, -2.5030019712408205, -2.3922276003847505], 8: [-2.6726779356628825, -2.3693562015776535, -2.70313093194345, -2.4288645507624502, -2.293433717166979, -2.4238125993266553, -2.579172246831726, -2.2085262810657436, -2.501990657556148, -2.3862347197034213], 9: [-2.6692621896849156, -2.3695257815073636, -2.700030517575406, -2.4290592021589053, -2.2953774064035013, -2.422090511470788, -2.580636745025056, -2.209805252898765, -2.504124998153101, -2.38786881145376], 10: [-2.6643600171127195, -2.3703571290580987, -2.698728045085129, -2.4277809860654695, -2.292836336403325, -2.4207908409707892, -2.5817426475543512, -2.21060340908342, -2.5076809038958903, -2.386097823793547], 11: [-2.6519159617004693, -2.3745807717952756, -2.698209913024081, -2.428944802447679, -2.2911638210941567, -2.4173344286732057, -2.582198026982766, -2.2114829483712986, -2.510823066845011, -2.3856078602327777], 12: [-2.6433829770780104, -2.3788407728125467, -2.692041860549571, -2.42998416423448, -2.2877331184170755, -2.4192849586544938, -2.5822187159990007, -2.2142363954115107, -2.5098866999649547, -2.3840233742769534], 13: [-2.638706835750697, -2.380183122547335, -2.6903148788364972, -2.4278664451746055, -2.2882169317218883, -2.416253687904371, -2.586479881897825, -2.216816077530694, -2.51600227173857, -2.3793789280351576], 14: [-2.6368508253200917, -2.3857128347383822, -2.690286516894511, -2.428413560467812, -2.288747065281925, -2.4185194338606943, -2.5920322678573546, -2.2201499054635763, -2.514501678981771, -2.3782837451412076], 15: [-2.634357399473477, -2.388230556689512, -2.6912920147753483, -2.4322193694474015, -2.2903592964273654, -2.417882270535454, -2.591060736459606, -2.2230930315101487, -2.5162365537987417, -2.382535244712329], 16: [-2.6297195869442267, -2.3894685024265416, -2.683855604077014, -2.4339135772300438, -2.2885742208136586, -2.4169923567509835, -2.592733657753326, -2.2251268732540597, -2.516058586533657, -2.3816418210080372], 17: [-2.6272033689758203, -2.3916723782452958, -2.6781643515461866, -2.435928133875886, -2.2886465848520645, -2.414538142321543, -2.5933354400543367, -2.2270453912068997, -2.5185552309929116, -2.383162025675944], 18: [-2.6238862222563673, -2.3927810553482356, -2.6723281742847256, -2.4407633489435994, -2.2906684012755547, -2.4158813960385985, -2.5976816668991454, -2.232840422164712, -2.5221070426880945, -2.3827958251592567]}\n"
     ]
    },
    {
     "name": "stderr",
     "output_type": "stream",
     "text": [
      "\n"
     ]
    }
   ],
   "source": [
    "config_file = \"configs/notebook_configs/config_kmn_full_recalibration.yml\"\n",
    "with open(config_file, \"r\") as f:\n",
    "    config = yaml.safe_load(f)\n",
    "\n",
    "for ds_name in [\"concrete\", \"energy\", \"boston_housing\"]:#[\"bio\", \"meps_19\", \"meps_20\", \"meps_21\", \"blog_data\", \"facebook_1\", \"facebook_2\"]:\n",
    "\n",
    "    ll_before_originals = {idx:[] for idx, w in enumerate(window_sizes)}\n",
    "    ll_befores = {idx:[] for idx, w in enumerate(window_sizes)}\n",
    "    ll_afters = {idx:[] for idx, w in enumerate(window_sizes)}\n",
    "    config[\"data_hyperparameters\"][\"dataset_name\"] = ds_name\n",
    "\n",
    "    for seed in [0, 1, 2, 3, 4, 5, 6, 7, 8, 9]:\n",
    "        config[\"seeds\"] = seed\n",
    "        config[\"data_hyperparameters\"][\"random_state\"] = seed\n",
    "                \n",
    "        dm = load_data_module(**config[\"data_hyperparameters\"])\n",
    "        model = train_single_model_from_config(config)\n",
    "\n",
    "        k = 256\n",
    "        y_grid_size = 2**13\n",
    "        confidence_grid = torch.linspace(1/k, 1 - 1/k, k)\n",
    "        y_space = model.y_space\n",
    "        y_space = torch.linspace(y_space.min().item() - model.std_y.item(), y_space.max().item() + model.std_y.item(), y_grid_size)\n",
    "        scaling_factor = ((y_space.max() - y_space.min())/len(y_space))**-1\n",
    "        print(f\"Scaling factor: {scaling_factor}\")\n",
    "\n",
    "        required_ps = []\n",
    "        with torch.no_grad():\n",
    "            for x, y in tqdm(dm.get_train_dataloader(64)):\n",
    "\n",
    "                x = x.to(\"cuda\")\n",
    "                y = y.to(\"cuda\")\n",
    "\n",
    "                required_p = model.get_required_conformal_p_values(x, y, y_space.cuda())\n",
    "                del x, y\n",
    "                required_ps.append(required_p)\n",
    "        required_ps = torch.cat(required_ps, 0).cpu()\n",
    "        calibrated_confidence_grid = torch.quantile(required_ps.float(), confidence_grid)\n",
    "\n",
    "        model = model.cuda()\n",
    "        scaling_factor = scaling_factor.cpu()\n",
    "\n",
    "        #Big Loop:\n",
    "        ll_before = {idx:[] for idx, w in enumerate(window_sizes)}\n",
    "        ll_after = {idx:[] for idx, w in enumerate(window_sizes)}\n",
    "        ll_before_original = {idx:[] for idx, w in enumerate(window_sizes)}\n",
    "        ll_maxim = {idx:[] for idx, w in enumerate(window_sizes)}\n",
    "        with torch.no_grad():\n",
    "            for x, y in tqdm(dm.get_test_dataloader(64)):\n",
    "\n",
    "\n",
    "                x = x.to(\"cuda\")\n",
    "\n",
    "                hdr_before = model.get_hdr(x, confidence_grid.cuda(), y_space.cuda())\n",
    "                hdr_after = model.get_hdr(x, calibrated_confidence_grid.cuda(), y_space.cuda())\n",
    "                density_grid = model.get_density_grid(x, y_space.cuda())\n",
    "\n",
    "                hdr_before = hdr_before.cpu()\n",
    "                hdr_after = hdr_after.cpu()\n",
    "                density_grid = density_grid.cpu()\n",
    "\n",
    "                if do_plot: fig, axs = plt.subplots(2, 2, figsize=(12, 8))\n",
    "\n",
    "                for sample_no in range(len(hdr_before)):\n",
    "                    before, after = hdr_before[sample_no].clone().detach().numpy(), hdr_after[sample_no].clone().detach().numpy()\n",
    "                    density_grid_before = density_grid[sample_no].clone().detach().numpy()\n",
    "\n",
    "                    before = np.concatenate([before, np.ones_like(before[:1])], 0)\n",
    "                    after = np.concatenate([after, np.ones_like(after[:1])], 0)\n",
    "\n",
    "                    before[1:] =  np.bitwise_xor(before[1:], before[:-1])\n",
    "                    after[1:] =  np.bitwise_xor(after[1:], after[:-1])\n",
    "\n",
    "\n",
    "                    before_grid = np.zeros_like(y_space)\n",
    "                    after_grid = np.zeros_like(y_space)\n",
    "\n",
    "                    #plt.figure(figsize=(8, 6))\n",
    "\n",
    "                    for i in range(before.shape[0]):\n",
    "                        i_sum = np.sum(before[i])\n",
    "                        if i_sum == 0:\n",
    "                            continue\n",
    "                        level = 1 / i_sum\n",
    "\n",
    "                        active_where = y_space[before[i]]\n",
    "                        before_grid[before[i]] = level\n",
    "                        #plt.scatter(active_where, np.ones_like(active_where) * level, color =\"blue\", alpha=1- (i / before.shape[0]))\n",
    "\n",
    "                    #plt.legend()\n",
    "                    #plt.show()\n",
    "\n",
    "                    #plt.figure(figsize=(8, 6))\n",
    "\n",
    "                    for i in range(after.shape[0]):\n",
    "                        i_sum = np.sum(after[i])\n",
    "                        if i_sum == 0:\n",
    "                            continue\n",
    "                        level = 1 / i_sum\n",
    "\n",
    "                        active_where = y_space[after[i]]\n",
    "                        after_grid[after[i]] = level\n",
    "                        #plt.scatter(active_where, np.ones_like(active_where) * level, color =\"blue\",alpha=1- (i / before.shape[0]))\n",
    "                    #plt.legend()\n",
    "                    #plt.show()\n",
    "\n",
    "                    \n",
    "                    for idx, w in enumerate(window_sizes):\n",
    "                        window_size = w * 20#int(y_grid_size // ( w*np.log(len(dm.test_dataset))))\n",
    "\n",
    "                        filter_ = np.ones(window_size) / window_size\n",
    "\n",
    "                        c_before = np.convolve(before_grid, filter_, mode='same')\n",
    "                        c_after = np.convolve(after_grid, filter_, mode='same')\n",
    "                        c_epistemic = np.convolve(np.abs(before_grid - after_grid), filter_, mode='same')\n",
    "\n",
    "                        scaled_before_original = scaling_factor * density_grid_before / np.sum(density_grid_before)\n",
    "                        scaled_before = scaling_factor * c_before / np.sum(c_before)\n",
    "                        scaled_after = scaling_factor * c_after / np.sum(c_after)\n",
    "\n",
    "                        maxim = np.maximum(scaled_before_original, scaled_after)\n",
    "                        scaled_maxim = scaling_factor * maxim / np.sum(maxim.numpy())\n",
    "\n",
    "                        ll_after[idx].append(scaled_after[np.argmin(np.abs(y_space - y[sample_no].numpy()))])\n",
    "                        ll_before[idx].append(scaled_before[np.argmin(np.abs(y_space - y[sample_no].numpy()))])\n",
    "                        ll_before_original[idx].append(scaled_before_original[np.argmin(np.abs(y_space - y[sample_no].numpy()))])\n",
    "                        ll_maxim[idx].append(scaled_maxim[np.argmin(np.abs(y_space - y[sample_no].numpy()))])\n",
    "\n",
    "                    \n",
    "                #     if (ll_after[-1] == 0 or ll_before[-1] == 0 or ll_before_original[-1] == 0 or sample_no < 4) and do_plot:\n",
    "\n",
    "\n",
    "\n",
    "\n",
    "                #         # Your existing code for plotting\n",
    "                        \n",
    "                #         # Calculate the row and column index in the grid\n",
    "                #         row = sample_no // 2\n",
    "                #         col = sample_no % 2\n",
    "                        \n",
    "                #         # Plot the figure in the corresponding subplot\n",
    "                #         axs[row, col].plot(y_space, scaled_after, label='After Calibration', color='red', alpha=0.5)\n",
    "                #         axs[row, col].plot(y_space, scaled_before_original, label='Before Calibration', color='purple', alpha=0.5)\n",
    "                #         axs[row, col].plot(y_space, scaling_factor * c_epistemic/np.sum(c_before), label='Epistemic Uncertainty', color='green')\n",
    "                #         axs[row, col].axvline(y[sample_no], color='black', linestyle='--', label='True Target')\n",
    "                #         axs[row, col].set_xlabel('target-space')\n",
    "                #         axs[row, col].set_ylabel('Density')\n",
    "                #         axs[row, col].legend()\n",
    "\n",
    "                # if do_plot: \n",
    "                #     plt.tight_layout()\n",
    "                #     plt.show()\n",
    "\n",
    "                # do_plot = False\n",
    "\n",
    "        for idx in range(len(window_sizes)):\n",
    "            \n",
    "            ll_before_original_inner = np.log(ll_before_original[idx]).mean()\n",
    "            ll_before_inner = np.log(ll_before[idx]).mean()\n",
    "            ll_after_inner = np.log(ll_after[idx]).mean()\n",
    "            ll_maxim_innner = np.log(ll_maxim[idx]).mean()\n",
    "\n",
    "            ll_before_originals[idx].append(ll_before_original_inner)\n",
    "            ll_befores[idx].append(ll_before_inner)\n",
    "            ll_afters[idx].append(ll_after_inner)\n",
    "\n",
    "    print(ds_name)\n",
    "    print(f\"Before Calibration (original): {ll_before_originals}\", f\"Before Calibration: {ll_befores}\", f\"After Calibration: {ll_afters}\")\n",
    "    #print(\"Means:\")\n",
    "    #print(f\"Before Calibration (original): {np.mean(ll_before_originals)}\", f\"Before Calibration: {np.mean(ll_befores)}\", f\"After Calibration: {np.mean(ll_afters)}\")"
   ]
  },
  {
   "cell_type": "code",
   "execution_count": 10,
   "metadata": {},
   "outputs": [
    {
     "data": {
      "text/plain": [
       "[-2.503380585118059,\n",
       " -2.48971243014142,\n",
       " -2.475775640918117,\n",
       " -2.467844154507617,\n",
       " -2.462057663909221,\n",
       " -2.4616039790792046,\n",
       " -2.4603433264900363,\n",
       " -2.4581816052811023,\n",
       " -2.456719984159711,\n",
       " -2.4567781416331567,\n",
       " -2.456097813902274,\n",
       " -2.455226160116672,\n",
       " -2.45416330373986,\n",
       " -2.454021906113764,\n",
       " -2.4553497834007323,\n",
       " -2.4567266473829386,\n",
       " -2.455808478679155,\n",
       " -2.455825104774689,\n",
       " -2.4571733555058293]"
      ]
     },
     "execution_count": 10,
     "metadata": {},
     "output_type": "execute_result"
    }
   ],
   "source": [
    "[np.mean(item) for item in ll_afters.values()]"
   ]
  },
  {
   "cell_type": "code",
   "execution_count": 15,
   "metadata": {},
   "outputs": [
    {
     "data": {
      "text/plain": [
       "[-2.4715667,\n",
       " -2.4715667,\n",
       " -2.4715667,\n",
       " -2.4715667,\n",
       " -2.4715667,\n",
       " -2.4715667,\n",
       " -2.4715667,\n",
       " -2.4715667,\n",
       " -2.4715667,\n",
       " -2.4715667,\n",
       " -2.4715667,\n",
       " -2.4715667,\n",
       " -2.4715667,\n",
       " -2.4715667,\n",
       " -2.4715667,\n",
       " -2.4715667,\n",
       " -2.4715667,\n",
       " -2.4715667,\n",
       " -2.4715667]"
      ]
     },
     "execution_count": 15,
     "metadata": {},
     "output_type": "execute_result"
    }
   ],
   "source": [
    "[np.mean(item) for item in ll_before_originals.values()]"
   ]
  },
  {
   "cell_type": "code",
   "execution_count": 12,
   "metadata": {},
   "outputs": [
    {
     "data": {
      "text/plain": [
       "{0: [tensor(0.1035),\n",
       "  tensor(0.0877),\n",
       "  tensor(0.0680),\n",
       "  tensor(0.1289),\n",
       "  tensor(0.1019),\n",
       "  tensor(0.1081),\n",
       "  tensor(0.1071),\n",
       "  tensor(0.1234),\n",
       "  tensor(0.0860),\n",
       "  tensor(0.0855),\n",
       "  tensor(0.1067),\n",
       "  tensor(0.0730),\n",
       "  tensor(0.1015),\n",
       "  tensor(0.0623),\n",
       "  tensor(0.0665),\n",
       "  tensor(0.1093),\n",
       "  tensor(0.0994),\n",
       "  tensor(0.1463),\n",
       "  tensor(0.1370),\n",
       "  tensor(0.0977),\n",
       "  tensor(0.1206),\n",
       "  tensor(0.1406),\n",
       "  tensor(0.1269),\n",
       "  tensor(0.1043),\n",
       "  tensor(0.1256),\n",
       "  tensor(0.0955),\n",
       "  tensor(0.0934),\n",
       "  tensor(0.0667),\n",
       "  tensor(0.0878),\n",
       "  tensor(0.1144),\n",
       "  tensor(0.0159),\n",
       "  tensor(0.0102),\n",
       "  tensor(0.1284),\n",
       "  tensor(0.0752),\n",
       "  tensor(0.0710),\n",
       "  tensor(0.1298),\n",
       "  tensor(0.1041),\n",
       "  tensor(0.1025),\n",
       "  tensor(0.1396),\n",
       "  tensor(0.0866),\n",
       "  tensor(0.1450),\n",
       "  tensor(0.1074),\n",
       "  tensor(0.1141),\n",
       "  tensor(0.0844),\n",
       "  tensor(0.1065),\n",
       "  tensor(0.0690),\n",
       "  tensor(0.1083),\n",
       "  tensor(0.0971),\n",
       "  tensor(0.1289),\n",
       "  tensor(0.0907),\n",
       "  tensor(0.1136),\n",
       "  tensor(0.0854),\n",
       "  tensor(0.1338),\n",
       "  tensor(0.0999),\n",
       "  tensor(0.0803),\n",
       "  tensor(0.0311),\n",
       "  tensor(0.0300),\n",
       "  tensor(0.0474),\n",
       "  tensor(0.1190),\n",
       "  tensor(0.0728),\n",
       "  tensor(0.1084),\n",
       "  tensor(0.1405),\n",
       "  tensor(0.0897),\n",
       "  tensor(0.0083),\n",
       "  tensor(0.1281),\n",
       "  tensor(0.0588),\n",
       "  tensor(0.0984),\n",
       "  tensor(0.0952),\n",
       "  tensor(0.1004),\n",
       "  tensor(0.0503),\n",
       "  tensor(0.1254),\n",
       "  tensor(0.1343),\n",
       "  tensor(0.0776),\n",
       "  tensor(0.0815),\n",
       "  tensor(0.0875),\n",
       "  tensor(0.0921),\n",
       "  tensor(0.0960),\n",
       "  tensor(0.1521),\n",
       "  tensor(0.1293),\n",
       "  tensor(0.1284),\n",
       "  tensor(0.0612),\n",
       "  tensor(0.1309),\n",
       "  tensor(0.0958),\n",
       "  tensor(0.1010),\n",
       "  tensor(0.0950),\n",
       "  tensor(0.0948),\n",
       "  tensor(0.0908),\n",
       "  tensor(0.1095),\n",
       "  tensor(0.0009),\n",
       "  tensor(0.1450),\n",
       "  tensor(0.0652),\n",
       "  tensor(0.1239),\n",
       "  tensor(0.0554),\n",
       "  tensor(0.1413),\n",
       "  tensor(0.0245),\n",
       "  tensor(0.0762),\n",
       "  tensor(0.1392),\n",
       "  tensor(0.1189),\n",
       "  tensor(0.1264),\n",
       "  tensor(0.0389),\n",
       "  tensor(0.0473)],\n",
       " 1: [tensor(0.1035),\n",
       "  tensor(0.0877),\n",
       "  tensor(0.0680),\n",
       "  tensor(0.1289),\n",
       "  tensor(0.1019),\n",
       "  tensor(0.1081),\n",
       "  tensor(0.1071),\n",
       "  tensor(0.1234),\n",
       "  tensor(0.0860),\n",
       "  tensor(0.0855),\n",
       "  tensor(0.1067),\n",
       "  tensor(0.0730),\n",
       "  tensor(0.1015),\n",
       "  tensor(0.0623),\n",
       "  tensor(0.0665),\n",
       "  tensor(0.1093),\n",
       "  tensor(0.0994),\n",
       "  tensor(0.1463),\n",
       "  tensor(0.1370),\n",
       "  tensor(0.0977),\n",
       "  tensor(0.1206),\n",
       "  tensor(0.1406),\n",
       "  tensor(0.1269),\n",
       "  tensor(0.1043),\n",
       "  tensor(0.1256),\n",
       "  tensor(0.0955),\n",
       "  tensor(0.0934),\n",
       "  tensor(0.0667),\n",
       "  tensor(0.0878),\n",
       "  tensor(0.1144),\n",
       "  tensor(0.0159),\n",
       "  tensor(0.0102),\n",
       "  tensor(0.1284),\n",
       "  tensor(0.0752),\n",
       "  tensor(0.0710),\n",
       "  tensor(0.1298),\n",
       "  tensor(0.1041),\n",
       "  tensor(0.1025),\n",
       "  tensor(0.1396),\n",
       "  tensor(0.0866),\n",
       "  tensor(0.1450),\n",
       "  tensor(0.1074),\n",
       "  tensor(0.1141),\n",
       "  tensor(0.0844),\n",
       "  tensor(0.1065),\n",
       "  tensor(0.0690),\n",
       "  tensor(0.1083),\n",
       "  tensor(0.0971),\n",
       "  tensor(0.1289),\n",
       "  tensor(0.0907),\n",
       "  tensor(0.1136),\n",
       "  tensor(0.0854),\n",
       "  tensor(0.1338),\n",
       "  tensor(0.0999),\n",
       "  tensor(0.0803),\n",
       "  tensor(0.0311),\n",
       "  tensor(0.0300),\n",
       "  tensor(0.0474),\n",
       "  tensor(0.1190),\n",
       "  tensor(0.0728),\n",
       "  tensor(0.1084),\n",
       "  tensor(0.1405),\n",
       "  tensor(0.0897),\n",
       "  tensor(0.0083),\n",
       "  tensor(0.1281),\n",
       "  tensor(0.0588),\n",
       "  tensor(0.0984),\n",
       "  tensor(0.0952),\n",
       "  tensor(0.1004),\n",
       "  tensor(0.0503),\n",
       "  tensor(0.1254),\n",
       "  tensor(0.1343),\n",
       "  tensor(0.0776),\n",
       "  tensor(0.0815),\n",
       "  tensor(0.0875),\n",
       "  tensor(0.0921),\n",
       "  tensor(0.0960),\n",
       "  tensor(0.1521),\n",
       "  tensor(0.1293),\n",
       "  tensor(0.1284),\n",
       "  tensor(0.0612),\n",
       "  tensor(0.1309),\n",
       "  tensor(0.0958),\n",
       "  tensor(0.1010),\n",
       "  tensor(0.0950),\n",
       "  tensor(0.0948),\n",
       "  tensor(0.0908),\n",
       "  tensor(0.1095),\n",
       "  tensor(0.0009),\n",
       "  tensor(0.1450),\n",
       "  tensor(0.0652),\n",
       "  tensor(0.1239),\n",
       "  tensor(0.0554),\n",
       "  tensor(0.1413),\n",
       "  tensor(0.0245),\n",
       "  tensor(0.0762),\n",
       "  tensor(0.1392),\n",
       "  tensor(0.1189),\n",
       "  tensor(0.1264),\n",
       "  tensor(0.0389),\n",
       "  tensor(0.0473)],\n",
       " 2: [tensor(0.1035),\n",
       "  tensor(0.0877),\n",
       "  tensor(0.0680),\n",
       "  tensor(0.1289),\n",
       "  tensor(0.1019),\n",
       "  tensor(0.1081),\n",
       "  tensor(0.1071),\n",
       "  tensor(0.1234),\n",
       "  tensor(0.0860),\n",
       "  tensor(0.0855),\n",
       "  tensor(0.1067),\n",
       "  tensor(0.0730),\n",
       "  tensor(0.1015),\n",
       "  tensor(0.0623),\n",
       "  tensor(0.0665),\n",
       "  tensor(0.1093),\n",
       "  tensor(0.0994),\n",
       "  tensor(0.1463),\n",
       "  tensor(0.1370),\n",
       "  tensor(0.0977),\n",
       "  tensor(0.1206),\n",
       "  tensor(0.1406),\n",
       "  tensor(0.1269),\n",
       "  tensor(0.1043),\n",
       "  tensor(0.1256),\n",
       "  tensor(0.0955),\n",
       "  tensor(0.0934),\n",
       "  tensor(0.0667),\n",
       "  tensor(0.0878),\n",
       "  tensor(0.1144),\n",
       "  tensor(0.0159),\n",
       "  tensor(0.0102),\n",
       "  tensor(0.1284),\n",
       "  tensor(0.0752),\n",
       "  tensor(0.0710),\n",
       "  tensor(0.1298),\n",
       "  tensor(0.1041),\n",
       "  tensor(0.1025),\n",
       "  tensor(0.1396),\n",
       "  tensor(0.0866),\n",
       "  tensor(0.1450),\n",
       "  tensor(0.1074),\n",
       "  tensor(0.1141),\n",
       "  tensor(0.0844),\n",
       "  tensor(0.1065),\n",
       "  tensor(0.0690),\n",
       "  tensor(0.1083),\n",
       "  tensor(0.0971),\n",
       "  tensor(0.1289),\n",
       "  tensor(0.0907),\n",
       "  tensor(0.1136),\n",
       "  tensor(0.0854),\n",
       "  tensor(0.1338),\n",
       "  tensor(0.0999),\n",
       "  tensor(0.0803),\n",
       "  tensor(0.0311),\n",
       "  tensor(0.0300),\n",
       "  tensor(0.0474),\n",
       "  tensor(0.1190),\n",
       "  tensor(0.0728),\n",
       "  tensor(0.1084),\n",
       "  tensor(0.1405),\n",
       "  tensor(0.0897),\n",
       "  tensor(0.0083),\n",
       "  tensor(0.1281),\n",
       "  tensor(0.0588),\n",
       "  tensor(0.0984),\n",
       "  tensor(0.0952),\n",
       "  tensor(0.1004),\n",
       "  tensor(0.0503),\n",
       "  tensor(0.1254),\n",
       "  tensor(0.1343),\n",
       "  tensor(0.0776),\n",
       "  tensor(0.0815),\n",
       "  tensor(0.0875),\n",
       "  tensor(0.0921),\n",
       "  tensor(0.0960),\n",
       "  tensor(0.1521),\n",
       "  tensor(0.1293),\n",
       "  tensor(0.1284),\n",
       "  tensor(0.0612),\n",
       "  tensor(0.1309),\n",
       "  tensor(0.0958),\n",
       "  tensor(0.1010),\n",
       "  tensor(0.0950),\n",
       "  tensor(0.0948),\n",
       "  tensor(0.0908),\n",
       "  tensor(0.1095),\n",
       "  tensor(0.0009),\n",
       "  tensor(0.1450),\n",
       "  tensor(0.0652),\n",
       "  tensor(0.1239),\n",
       "  tensor(0.0554),\n",
       "  tensor(0.1413),\n",
       "  tensor(0.0245),\n",
       "  tensor(0.0762),\n",
       "  tensor(0.1392),\n",
       "  tensor(0.1189),\n",
       "  tensor(0.1264),\n",
       "  tensor(0.0389),\n",
       "  tensor(0.0473)],\n",
       " 3: [tensor(0.1035),\n",
       "  tensor(0.0877),\n",
       "  tensor(0.0680),\n",
       "  tensor(0.1289),\n",
       "  tensor(0.1019),\n",
       "  tensor(0.1081),\n",
       "  tensor(0.1071),\n",
       "  tensor(0.1234),\n",
       "  tensor(0.0860),\n",
       "  tensor(0.0855),\n",
       "  tensor(0.1067),\n",
       "  tensor(0.0730),\n",
       "  tensor(0.1015),\n",
       "  tensor(0.0623),\n",
       "  tensor(0.0665),\n",
       "  tensor(0.1093),\n",
       "  tensor(0.0994),\n",
       "  tensor(0.1463),\n",
       "  tensor(0.1370),\n",
       "  tensor(0.0977),\n",
       "  tensor(0.1206),\n",
       "  tensor(0.1406),\n",
       "  tensor(0.1269),\n",
       "  tensor(0.1043),\n",
       "  tensor(0.1256),\n",
       "  tensor(0.0955),\n",
       "  tensor(0.0934),\n",
       "  tensor(0.0667),\n",
       "  tensor(0.0878),\n",
       "  tensor(0.1144),\n",
       "  tensor(0.0159),\n",
       "  tensor(0.0102),\n",
       "  tensor(0.1284),\n",
       "  tensor(0.0752),\n",
       "  tensor(0.0710),\n",
       "  tensor(0.1298),\n",
       "  tensor(0.1041),\n",
       "  tensor(0.1025),\n",
       "  tensor(0.1396),\n",
       "  tensor(0.0866),\n",
       "  tensor(0.1450),\n",
       "  tensor(0.1074),\n",
       "  tensor(0.1141),\n",
       "  tensor(0.0844),\n",
       "  tensor(0.1065),\n",
       "  tensor(0.0690),\n",
       "  tensor(0.1083),\n",
       "  tensor(0.0971),\n",
       "  tensor(0.1289),\n",
       "  tensor(0.0907),\n",
       "  tensor(0.1136),\n",
       "  tensor(0.0854),\n",
       "  tensor(0.1338),\n",
       "  tensor(0.0999),\n",
       "  tensor(0.0803),\n",
       "  tensor(0.0311),\n",
       "  tensor(0.0300),\n",
       "  tensor(0.0474),\n",
       "  tensor(0.1190),\n",
       "  tensor(0.0728),\n",
       "  tensor(0.1084),\n",
       "  tensor(0.1405),\n",
       "  tensor(0.0897),\n",
       "  tensor(0.0083),\n",
       "  tensor(0.1281),\n",
       "  tensor(0.0588),\n",
       "  tensor(0.0984),\n",
       "  tensor(0.0952),\n",
       "  tensor(0.1004),\n",
       "  tensor(0.0503),\n",
       "  tensor(0.1254),\n",
       "  tensor(0.1343),\n",
       "  tensor(0.0776),\n",
       "  tensor(0.0815),\n",
       "  tensor(0.0875),\n",
       "  tensor(0.0921),\n",
       "  tensor(0.0960),\n",
       "  tensor(0.1521),\n",
       "  tensor(0.1293),\n",
       "  tensor(0.1284),\n",
       "  tensor(0.0612),\n",
       "  tensor(0.1309),\n",
       "  tensor(0.0958),\n",
       "  tensor(0.1010),\n",
       "  tensor(0.0950),\n",
       "  tensor(0.0948),\n",
       "  tensor(0.0908),\n",
       "  tensor(0.1095),\n",
       "  tensor(0.0009),\n",
       "  tensor(0.1450),\n",
       "  tensor(0.0652),\n",
       "  tensor(0.1239),\n",
       "  tensor(0.0554),\n",
       "  tensor(0.1413),\n",
       "  tensor(0.0245),\n",
       "  tensor(0.0762),\n",
       "  tensor(0.1392),\n",
       "  tensor(0.1189),\n",
       "  tensor(0.1264),\n",
       "  tensor(0.0389),\n",
       "  tensor(0.0473)],\n",
       " 4: [tensor(0.1035),\n",
       "  tensor(0.0877),\n",
       "  tensor(0.0680),\n",
       "  tensor(0.1289),\n",
       "  tensor(0.1019),\n",
       "  tensor(0.1081),\n",
       "  tensor(0.1071),\n",
       "  tensor(0.1234),\n",
       "  tensor(0.0860),\n",
       "  tensor(0.0855),\n",
       "  tensor(0.1067),\n",
       "  tensor(0.0730),\n",
       "  tensor(0.1015),\n",
       "  tensor(0.0623),\n",
       "  tensor(0.0665),\n",
       "  tensor(0.1093),\n",
       "  tensor(0.0994),\n",
       "  tensor(0.1463),\n",
       "  tensor(0.1370),\n",
       "  tensor(0.0977),\n",
       "  tensor(0.1206),\n",
       "  tensor(0.1406),\n",
       "  tensor(0.1269),\n",
       "  tensor(0.1043),\n",
       "  tensor(0.1256),\n",
       "  tensor(0.0955),\n",
       "  tensor(0.0934),\n",
       "  tensor(0.0667),\n",
       "  tensor(0.0878),\n",
       "  tensor(0.1144),\n",
       "  tensor(0.0159),\n",
       "  tensor(0.0102),\n",
       "  tensor(0.1284),\n",
       "  tensor(0.0752),\n",
       "  tensor(0.0710),\n",
       "  tensor(0.1298),\n",
       "  tensor(0.1041),\n",
       "  tensor(0.1025),\n",
       "  tensor(0.1396),\n",
       "  tensor(0.0866),\n",
       "  tensor(0.1450),\n",
       "  tensor(0.1074),\n",
       "  tensor(0.1141),\n",
       "  tensor(0.0844),\n",
       "  tensor(0.1065),\n",
       "  tensor(0.0690),\n",
       "  tensor(0.1083),\n",
       "  tensor(0.0971),\n",
       "  tensor(0.1289),\n",
       "  tensor(0.0907),\n",
       "  tensor(0.1136),\n",
       "  tensor(0.0854),\n",
       "  tensor(0.1338),\n",
       "  tensor(0.0999),\n",
       "  tensor(0.0803),\n",
       "  tensor(0.0311),\n",
       "  tensor(0.0300),\n",
       "  tensor(0.0474),\n",
       "  tensor(0.1190),\n",
       "  tensor(0.0728),\n",
       "  tensor(0.1084),\n",
       "  tensor(0.1405),\n",
       "  tensor(0.0897),\n",
       "  tensor(0.0083),\n",
       "  tensor(0.1281),\n",
       "  tensor(0.0588),\n",
       "  tensor(0.0984),\n",
       "  tensor(0.0952),\n",
       "  tensor(0.1004),\n",
       "  tensor(0.0503),\n",
       "  tensor(0.1254),\n",
       "  tensor(0.1343),\n",
       "  tensor(0.0776),\n",
       "  tensor(0.0815),\n",
       "  tensor(0.0875),\n",
       "  tensor(0.0921),\n",
       "  tensor(0.0960),\n",
       "  tensor(0.1521),\n",
       "  tensor(0.1293),\n",
       "  tensor(0.1284),\n",
       "  tensor(0.0612),\n",
       "  tensor(0.1309),\n",
       "  tensor(0.0958),\n",
       "  tensor(0.1010),\n",
       "  tensor(0.0950),\n",
       "  tensor(0.0948),\n",
       "  tensor(0.0908),\n",
       "  tensor(0.1095),\n",
       "  tensor(0.0009),\n",
       "  tensor(0.1450),\n",
       "  tensor(0.0652),\n",
       "  tensor(0.1239),\n",
       "  tensor(0.0554),\n",
       "  tensor(0.1413),\n",
       "  tensor(0.0245),\n",
       "  tensor(0.0762),\n",
       "  tensor(0.1392),\n",
       "  tensor(0.1189),\n",
       "  tensor(0.1264),\n",
       "  tensor(0.0389),\n",
       "  tensor(0.0473)],\n",
       " 5: [tensor(0.1035),\n",
       "  tensor(0.0877),\n",
       "  tensor(0.0680),\n",
       "  tensor(0.1289),\n",
       "  tensor(0.1019),\n",
       "  tensor(0.1081),\n",
       "  tensor(0.1071),\n",
       "  tensor(0.1234),\n",
       "  tensor(0.0860),\n",
       "  tensor(0.0855),\n",
       "  tensor(0.1067),\n",
       "  tensor(0.0730),\n",
       "  tensor(0.1015),\n",
       "  tensor(0.0623),\n",
       "  tensor(0.0665),\n",
       "  tensor(0.1093),\n",
       "  tensor(0.0994),\n",
       "  tensor(0.1463),\n",
       "  tensor(0.1370),\n",
       "  tensor(0.0977),\n",
       "  tensor(0.1206),\n",
       "  tensor(0.1406),\n",
       "  tensor(0.1269),\n",
       "  tensor(0.1043),\n",
       "  tensor(0.1256),\n",
       "  tensor(0.0955),\n",
       "  tensor(0.0934),\n",
       "  tensor(0.0667),\n",
       "  tensor(0.0878),\n",
       "  tensor(0.1144),\n",
       "  tensor(0.0159),\n",
       "  tensor(0.0102),\n",
       "  tensor(0.1284),\n",
       "  tensor(0.0752),\n",
       "  tensor(0.0710),\n",
       "  tensor(0.1298),\n",
       "  tensor(0.1041),\n",
       "  tensor(0.1025),\n",
       "  tensor(0.1396),\n",
       "  tensor(0.0866),\n",
       "  tensor(0.1450),\n",
       "  tensor(0.1074),\n",
       "  tensor(0.1141),\n",
       "  tensor(0.0844),\n",
       "  tensor(0.1065),\n",
       "  tensor(0.0690),\n",
       "  tensor(0.1083),\n",
       "  tensor(0.0971),\n",
       "  tensor(0.1289),\n",
       "  tensor(0.0907),\n",
       "  tensor(0.1136),\n",
       "  tensor(0.0854),\n",
       "  tensor(0.1338),\n",
       "  tensor(0.0999),\n",
       "  tensor(0.0803),\n",
       "  tensor(0.0311),\n",
       "  tensor(0.0300),\n",
       "  tensor(0.0474),\n",
       "  tensor(0.1190),\n",
       "  tensor(0.0728),\n",
       "  tensor(0.1084),\n",
       "  tensor(0.1405),\n",
       "  tensor(0.0897),\n",
       "  tensor(0.0083),\n",
       "  tensor(0.1281),\n",
       "  tensor(0.0588),\n",
       "  tensor(0.0984),\n",
       "  tensor(0.0952),\n",
       "  tensor(0.1004),\n",
       "  tensor(0.0503),\n",
       "  tensor(0.1254),\n",
       "  tensor(0.1343),\n",
       "  tensor(0.0776),\n",
       "  tensor(0.0815),\n",
       "  tensor(0.0875),\n",
       "  tensor(0.0921),\n",
       "  tensor(0.0960),\n",
       "  tensor(0.1521),\n",
       "  tensor(0.1293),\n",
       "  tensor(0.1284),\n",
       "  tensor(0.0612),\n",
       "  tensor(0.1309),\n",
       "  tensor(0.0958),\n",
       "  tensor(0.1010),\n",
       "  tensor(0.0950),\n",
       "  tensor(0.0948),\n",
       "  tensor(0.0908),\n",
       "  tensor(0.1095),\n",
       "  tensor(0.0009),\n",
       "  tensor(0.1450),\n",
       "  tensor(0.0652),\n",
       "  tensor(0.1239),\n",
       "  tensor(0.0554),\n",
       "  tensor(0.1413),\n",
       "  tensor(0.0245),\n",
       "  tensor(0.0762),\n",
       "  tensor(0.1392),\n",
       "  tensor(0.1189),\n",
       "  tensor(0.1264),\n",
       "  tensor(0.0389),\n",
       "  tensor(0.0473)],\n",
       " 6: [tensor(0.1035),\n",
       "  tensor(0.0877),\n",
       "  tensor(0.0680),\n",
       "  tensor(0.1289),\n",
       "  tensor(0.1019),\n",
       "  tensor(0.1081),\n",
       "  tensor(0.1071),\n",
       "  tensor(0.1234),\n",
       "  tensor(0.0860),\n",
       "  tensor(0.0855),\n",
       "  tensor(0.1067),\n",
       "  tensor(0.0730),\n",
       "  tensor(0.1015),\n",
       "  tensor(0.0623),\n",
       "  tensor(0.0665),\n",
       "  tensor(0.1093),\n",
       "  tensor(0.0994),\n",
       "  tensor(0.1463),\n",
       "  tensor(0.1370),\n",
       "  tensor(0.0977),\n",
       "  tensor(0.1206),\n",
       "  tensor(0.1406),\n",
       "  tensor(0.1269),\n",
       "  tensor(0.1043),\n",
       "  tensor(0.1256),\n",
       "  tensor(0.0955),\n",
       "  tensor(0.0934),\n",
       "  tensor(0.0667),\n",
       "  tensor(0.0878),\n",
       "  tensor(0.1144),\n",
       "  tensor(0.0159),\n",
       "  tensor(0.0102),\n",
       "  tensor(0.1284),\n",
       "  tensor(0.0752),\n",
       "  tensor(0.0710),\n",
       "  tensor(0.1298),\n",
       "  tensor(0.1041),\n",
       "  tensor(0.1025),\n",
       "  tensor(0.1396),\n",
       "  tensor(0.0866),\n",
       "  tensor(0.1450),\n",
       "  tensor(0.1074),\n",
       "  tensor(0.1141),\n",
       "  tensor(0.0844),\n",
       "  tensor(0.1065),\n",
       "  tensor(0.0690),\n",
       "  tensor(0.1083),\n",
       "  tensor(0.0971),\n",
       "  tensor(0.1289),\n",
       "  tensor(0.0907),\n",
       "  tensor(0.1136),\n",
       "  tensor(0.0854),\n",
       "  tensor(0.1338),\n",
       "  tensor(0.0999),\n",
       "  tensor(0.0803),\n",
       "  tensor(0.0311),\n",
       "  tensor(0.0300),\n",
       "  tensor(0.0474),\n",
       "  tensor(0.1190),\n",
       "  tensor(0.0728),\n",
       "  tensor(0.1084),\n",
       "  tensor(0.1405),\n",
       "  tensor(0.0897),\n",
       "  tensor(0.0083),\n",
       "  tensor(0.1281),\n",
       "  tensor(0.0588),\n",
       "  tensor(0.0984),\n",
       "  tensor(0.0952),\n",
       "  tensor(0.1004),\n",
       "  tensor(0.0503),\n",
       "  tensor(0.1254),\n",
       "  tensor(0.1343),\n",
       "  tensor(0.0776),\n",
       "  tensor(0.0815),\n",
       "  tensor(0.0875),\n",
       "  tensor(0.0921),\n",
       "  tensor(0.0960),\n",
       "  tensor(0.1521),\n",
       "  tensor(0.1293),\n",
       "  tensor(0.1284),\n",
       "  tensor(0.0612),\n",
       "  tensor(0.1309),\n",
       "  tensor(0.0958),\n",
       "  tensor(0.1010),\n",
       "  tensor(0.0950),\n",
       "  tensor(0.0948),\n",
       "  tensor(0.0908),\n",
       "  tensor(0.1095),\n",
       "  tensor(0.0009),\n",
       "  tensor(0.1450),\n",
       "  tensor(0.0652),\n",
       "  tensor(0.1239),\n",
       "  tensor(0.0554),\n",
       "  tensor(0.1413),\n",
       "  tensor(0.0245),\n",
       "  tensor(0.0762),\n",
       "  tensor(0.1392),\n",
       "  tensor(0.1189),\n",
       "  tensor(0.1264),\n",
       "  tensor(0.0389),\n",
       "  tensor(0.0473)],\n",
       " 7: [tensor(0.1035),\n",
       "  tensor(0.0877),\n",
       "  tensor(0.0680),\n",
       "  tensor(0.1289),\n",
       "  tensor(0.1019),\n",
       "  tensor(0.1081),\n",
       "  tensor(0.1071),\n",
       "  tensor(0.1234),\n",
       "  tensor(0.0860),\n",
       "  tensor(0.0855),\n",
       "  tensor(0.1067),\n",
       "  tensor(0.0730),\n",
       "  tensor(0.1015),\n",
       "  tensor(0.0623),\n",
       "  tensor(0.0665),\n",
       "  tensor(0.1093),\n",
       "  tensor(0.0994),\n",
       "  tensor(0.1463),\n",
       "  tensor(0.1370),\n",
       "  tensor(0.0977),\n",
       "  tensor(0.1206),\n",
       "  tensor(0.1406),\n",
       "  tensor(0.1269),\n",
       "  tensor(0.1043),\n",
       "  tensor(0.1256),\n",
       "  tensor(0.0955),\n",
       "  tensor(0.0934),\n",
       "  tensor(0.0667),\n",
       "  tensor(0.0878),\n",
       "  tensor(0.1144),\n",
       "  tensor(0.0159),\n",
       "  tensor(0.0102),\n",
       "  tensor(0.1284),\n",
       "  tensor(0.0752),\n",
       "  tensor(0.0710),\n",
       "  tensor(0.1298),\n",
       "  tensor(0.1041),\n",
       "  tensor(0.1025),\n",
       "  tensor(0.1396),\n",
       "  tensor(0.0866),\n",
       "  tensor(0.1450),\n",
       "  tensor(0.1074),\n",
       "  tensor(0.1141),\n",
       "  tensor(0.0844),\n",
       "  tensor(0.1065),\n",
       "  tensor(0.0690),\n",
       "  tensor(0.1083),\n",
       "  tensor(0.0971),\n",
       "  tensor(0.1289),\n",
       "  tensor(0.0907),\n",
       "  tensor(0.1136),\n",
       "  tensor(0.0854),\n",
       "  tensor(0.1338),\n",
       "  tensor(0.0999),\n",
       "  tensor(0.0803),\n",
       "  tensor(0.0311),\n",
       "  tensor(0.0300),\n",
       "  tensor(0.0474),\n",
       "  tensor(0.1190),\n",
       "  tensor(0.0728),\n",
       "  tensor(0.1084),\n",
       "  tensor(0.1405),\n",
       "  tensor(0.0897),\n",
       "  tensor(0.0083),\n",
       "  tensor(0.1281),\n",
       "  tensor(0.0588),\n",
       "  tensor(0.0984),\n",
       "  tensor(0.0952),\n",
       "  tensor(0.1004),\n",
       "  tensor(0.0503),\n",
       "  tensor(0.1254),\n",
       "  tensor(0.1343),\n",
       "  tensor(0.0776),\n",
       "  tensor(0.0815),\n",
       "  tensor(0.0875),\n",
       "  tensor(0.0921),\n",
       "  tensor(0.0960),\n",
       "  tensor(0.1521),\n",
       "  tensor(0.1293),\n",
       "  tensor(0.1284),\n",
       "  tensor(0.0612),\n",
       "  tensor(0.1309),\n",
       "  tensor(0.0958),\n",
       "  tensor(0.1010),\n",
       "  tensor(0.0950),\n",
       "  tensor(0.0948),\n",
       "  tensor(0.0908),\n",
       "  tensor(0.1095),\n",
       "  tensor(0.0009),\n",
       "  tensor(0.1450),\n",
       "  tensor(0.0652),\n",
       "  tensor(0.1239),\n",
       "  tensor(0.0554),\n",
       "  tensor(0.1413),\n",
       "  tensor(0.0245),\n",
       "  tensor(0.0762),\n",
       "  tensor(0.1392),\n",
       "  tensor(0.1189),\n",
       "  tensor(0.1264),\n",
       "  tensor(0.0389),\n",
       "  tensor(0.0473)],\n",
       " 8: [tensor(0.1035),\n",
       "  tensor(0.0877),\n",
       "  tensor(0.0680),\n",
       "  tensor(0.1289),\n",
       "  tensor(0.1019),\n",
       "  tensor(0.1081),\n",
       "  tensor(0.1071),\n",
       "  tensor(0.1234),\n",
       "  tensor(0.0860),\n",
       "  tensor(0.0855),\n",
       "  tensor(0.1067),\n",
       "  tensor(0.0730),\n",
       "  tensor(0.1015),\n",
       "  tensor(0.0623),\n",
       "  tensor(0.0665),\n",
       "  tensor(0.1093),\n",
       "  tensor(0.0994),\n",
       "  tensor(0.1463),\n",
       "  tensor(0.1370),\n",
       "  tensor(0.0977),\n",
       "  tensor(0.1206),\n",
       "  tensor(0.1406),\n",
       "  tensor(0.1269),\n",
       "  tensor(0.1043),\n",
       "  tensor(0.1256),\n",
       "  tensor(0.0955),\n",
       "  tensor(0.0934),\n",
       "  tensor(0.0667),\n",
       "  tensor(0.0878),\n",
       "  tensor(0.1144),\n",
       "  tensor(0.0159),\n",
       "  tensor(0.0102),\n",
       "  tensor(0.1284),\n",
       "  tensor(0.0752),\n",
       "  tensor(0.0710),\n",
       "  tensor(0.1298),\n",
       "  tensor(0.1041),\n",
       "  tensor(0.1025),\n",
       "  tensor(0.1396),\n",
       "  tensor(0.0866),\n",
       "  tensor(0.1450),\n",
       "  tensor(0.1074),\n",
       "  tensor(0.1141),\n",
       "  tensor(0.0844),\n",
       "  tensor(0.1065),\n",
       "  tensor(0.0690),\n",
       "  tensor(0.1083),\n",
       "  tensor(0.0971),\n",
       "  tensor(0.1289),\n",
       "  tensor(0.0907),\n",
       "  tensor(0.1136),\n",
       "  tensor(0.0854),\n",
       "  tensor(0.1338),\n",
       "  tensor(0.0999),\n",
       "  tensor(0.0803),\n",
       "  tensor(0.0311),\n",
       "  tensor(0.0300),\n",
       "  tensor(0.0474),\n",
       "  tensor(0.1190),\n",
       "  tensor(0.0728),\n",
       "  tensor(0.1084),\n",
       "  tensor(0.1405),\n",
       "  tensor(0.0897),\n",
       "  tensor(0.0083),\n",
       "  tensor(0.1281),\n",
       "  tensor(0.0588),\n",
       "  tensor(0.0984),\n",
       "  tensor(0.0952),\n",
       "  tensor(0.1004),\n",
       "  tensor(0.0503),\n",
       "  tensor(0.1254),\n",
       "  tensor(0.1343),\n",
       "  tensor(0.0776),\n",
       "  tensor(0.0815),\n",
       "  tensor(0.0875),\n",
       "  tensor(0.0921),\n",
       "  tensor(0.0960),\n",
       "  tensor(0.1521),\n",
       "  tensor(0.1293),\n",
       "  tensor(0.1284),\n",
       "  tensor(0.0612),\n",
       "  tensor(0.1309),\n",
       "  tensor(0.0958),\n",
       "  tensor(0.1010),\n",
       "  tensor(0.0950),\n",
       "  tensor(0.0948),\n",
       "  tensor(0.0908),\n",
       "  tensor(0.1095),\n",
       "  tensor(0.0009),\n",
       "  tensor(0.1450),\n",
       "  tensor(0.0652),\n",
       "  tensor(0.1239),\n",
       "  tensor(0.0554),\n",
       "  tensor(0.1413),\n",
       "  tensor(0.0245),\n",
       "  tensor(0.0762),\n",
       "  tensor(0.1392),\n",
       "  tensor(0.1189),\n",
       "  tensor(0.1264),\n",
       "  tensor(0.0389),\n",
       "  tensor(0.0473)],\n",
       " 9: [tensor(0.1035),\n",
       "  tensor(0.0877),\n",
       "  tensor(0.0680),\n",
       "  tensor(0.1289),\n",
       "  tensor(0.1019),\n",
       "  tensor(0.1081),\n",
       "  tensor(0.1071),\n",
       "  tensor(0.1234),\n",
       "  tensor(0.0860),\n",
       "  tensor(0.0855),\n",
       "  tensor(0.1067),\n",
       "  tensor(0.0730),\n",
       "  tensor(0.1015),\n",
       "  tensor(0.0623),\n",
       "  tensor(0.0665),\n",
       "  tensor(0.1093),\n",
       "  tensor(0.0994),\n",
       "  tensor(0.1463),\n",
       "  tensor(0.1370),\n",
       "  tensor(0.0977),\n",
       "  tensor(0.1206),\n",
       "  tensor(0.1406),\n",
       "  tensor(0.1269),\n",
       "  tensor(0.1043),\n",
       "  tensor(0.1256),\n",
       "  tensor(0.0955),\n",
       "  tensor(0.0934),\n",
       "  tensor(0.0667),\n",
       "  tensor(0.0878),\n",
       "  tensor(0.1144),\n",
       "  tensor(0.0159),\n",
       "  tensor(0.0102),\n",
       "  tensor(0.1284),\n",
       "  tensor(0.0752),\n",
       "  tensor(0.0710),\n",
       "  tensor(0.1298),\n",
       "  tensor(0.1041),\n",
       "  tensor(0.1025),\n",
       "  tensor(0.1396),\n",
       "  tensor(0.0866),\n",
       "  tensor(0.1450),\n",
       "  tensor(0.1074),\n",
       "  tensor(0.1141),\n",
       "  tensor(0.0844),\n",
       "  tensor(0.1065),\n",
       "  tensor(0.0690),\n",
       "  tensor(0.1083),\n",
       "  tensor(0.0971),\n",
       "  tensor(0.1289),\n",
       "  tensor(0.0907),\n",
       "  tensor(0.1136),\n",
       "  tensor(0.0854),\n",
       "  tensor(0.1338),\n",
       "  tensor(0.0999),\n",
       "  tensor(0.0803),\n",
       "  tensor(0.0311),\n",
       "  tensor(0.0300),\n",
       "  tensor(0.0474),\n",
       "  tensor(0.1190),\n",
       "  tensor(0.0728),\n",
       "  tensor(0.1084),\n",
       "  tensor(0.1405),\n",
       "  tensor(0.0897),\n",
       "  tensor(0.0083),\n",
       "  tensor(0.1281),\n",
       "  tensor(0.0588),\n",
       "  tensor(0.0984),\n",
       "  tensor(0.0952),\n",
       "  tensor(0.1004),\n",
       "  tensor(0.0503),\n",
       "  tensor(0.1254),\n",
       "  tensor(0.1343),\n",
       "  tensor(0.0776),\n",
       "  tensor(0.0815),\n",
       "  tensor(0.0875),\n",
       "  tensor(0.0921),\n",
       "  tensor(0.0960),\n",
       "  tensor(0.1521),\n",
       "  tensor(0.1293),\n",
       "  tensor(0.1284),\n",
       "  tensor(0.0612),\n",
       "  tensor(0.1309),\n",
       "  tensor(0.0958),\n",
       "  tensor(0.1010),\n",
       "  tensor(0.0950),\n",
       "  tensor(0.0948),\n",
       "  tensor(0.0908),\n",
       "  tensor(0.1095),\n",
       "  tensor(0.0009),\n",
       "  tensor(0.1450),\n",
       "  tensor(0.0652),\n",
       "  tensor(0.1239),\n",
       "  tensor(0.0554),\n",
       "  tensor(0.1413),\n",
       "  tensor(0.0245),\n",
       "  tensor(0.0762),\n",
       "  tensor(0.1392),\n",
       "  tensor(0.1189),\n",
       "  tensor(0.1264),\n",
       "  tensor(0.0389),\n",
       "  tensor(0.0473)],\n",
       " 10: [tensor(0.1035),\n",
       "  tensor(0.0877),\n",
       "  tensor(0.0680),\n",
       "  tensor(0.1289),\n",
       "  tensor(0.1019),\n",
       "  tensor(0.1081),\n",
       "  tensor(0.1071),\n",
       "  tensor(0.1234),\n",
       "  tensor(0.0860),\n",
       "  tensor(0.0855),\n",
       "  tensor(0.1067),\n",
       "  tensor(0.0730),\n",
       "  tensor(0.1015),\n",
       "  tensor(0.0623),\n",
       "  tensor(0.0665),\n",
       "  tensor(0.1093),\n",
       "  tensor(0.0994),\n",
       "  tensor(0.1463),\n",
       "  tensor(0.1370),\n",
       "  tensor(0.0977),\n",
       "  tensor(0.1206),\n",
       "  tensor(0.1406),\n",
       "  tensor(0.1269),\n",
       "  tensor(0.1043),\n",
       "  tensor(0.1256),\n",
       "  tensor(0.0955),\n",
       "  tensor(0.0934),\n",
       "  tensor(0.0667),\n",
       "  tensor(0.0878),\n",
       "  tensor(0.1144),\n",
       "  tensor(0.0159),\n",
       "  tensor(0.0102),\n",
       "  tensor(0.1284),\n",
       "  tensor(0.0752),\n",
       "  tensor(0.0710),\n",
       "  tensor(0.1298),\n",
       "  tensor(0.1041),\n",
       "  tensor(0.1025),\n",
       "  tensor(0.1396),\n",
       "  tensor(0.0866),\n",
       "  tensor(0.1450),\n",
       "  tensor(0.1074),\n",
       "  tensor(0.1141),\n",
       "  tensor(0.0844),\n",
       "  tensor(0.1065),\n",
       "  tensor(0.0690),\n",
       "  tensor(0.1083),\n",
       "  tensor(0.0971),\n",
       "  tensor(0.1289),\n",
       "  tensor(0.0907),\n",
       "  tensor(0.1136),\n",
       "  tensor(0.0854),\n",
       "  tensor(0.1338),\n",
       "  tensor(0.0999),\n",
       "  tensor(0.0803),\n",
       "  tensor(0.0311),\n",
       "  tensor(0.0300),\n",
       "  tensor(0.0474),\n",
       "  tensor(0.1190),\n",
       "  tensor(0.0728),\n",
       "  tensor(0.1084),\n",
       "  tensor(0.1405),\n",
       "  tensor(0.0897),\n",
       "  tensor(0.0083),\n",
       "  tensor(0.1281),\n",
       "  tensor(0.0588),\n",
       "  tensor(0.0984),\n",
       "  tensor(0.0952),\n",
       "  tensor(0.1004),\n",
       "  tensor(0.0503),\n",
       "  tensor(0.1254),\n",
       "  tensor(0.1343),\n",
       "  tensor(0.0776),\n",
       "  tensor(0.0815),\n",
       "  tensor(0.0875),\n",
       "  tensor(0.0921),\n",
       "  tensor(0.0960),\n",
       "  tensor(0.1521),\n",
       "  tensor(0.1293),\n",
       "  tensor(0.1284),\n",
       "  tensor(0.0612),\n",
       "  tensor(0.1309),\n",
       "  tensor(0.0958),\n",
       "  tensor(0.1010),\n",
       "  tensor(0.0950),\n",
       "  tensor(0.0948),\n",
       "  tensor(0.0908),\n",
       "  tensor(0.1095),\n",
       "  tensor(0.0009),\n",
       "  tensor(0.1450),\n",
       "  tensor(0.0652),\n",
       "  tensor(0.1239),\n",
       "  tensor(0.0554),\n",
       "  tensor(0.1413),\n",
       "  tensor(0.0245),\n",
       "  tensor(0.0762),\n",
       "  tensor(0.1392),\n",
       "  tensor(0.1189),\n",
       "  tensor(0.1264),\n",
       "  tensor(0.0389),\n",
       "  tensor(0.0473)],\n",
       " 11: [tensor(0.1035),\n",
       "  tensor(0.0877),\n",
       "  tensor(0.0680),\n",
       "  tensor(0.1289),\n",
       "  tensor(0.1019),\n",
       "  tensor(0.1081),\n",
       "  tensor(0.1071),\n",
       "  tensor(0.1234),\n",
       "  tensor(0.0860),\n",
       "  tensor(0.0855),\n",
       "  tensor(0.1067),\n",
       "  tensor(0.0730),\n",
       "  tensor(0.1015),\n",
       "  tensor(0.0623),\n",
       "  tensor(0.0665),\n",
       "  tensor(0.1093),\n",
       "  tensor(0.0994),\n",
       "  tensor(0.1463),\n",
       "  tensor(0.1370),\n",
       "  tensor(0.0977),\n",
       "  tensor(0.1206),\n",
       "  tensor(0.1406),\n",
       "  tensor(0.1269),\n",
       "  tensor(0.1043),\n",
       "  tensor(0.1256),\n",
       "  tensor(0.0955),\n",
       "  tensor(0.0934),\n",
       "  tensor(0.0667),\n",
       "  tensor(0.0878),\n",
       "  tensor(0.1144),\n",
       "  tensor(0.0159),\n",
       "  tensor(0.0102),\n",
       "  tensor(0.1284),\n",
       "  tensor(0.0752),\n",
       "  tensor(0.0710),\n",
       "  tensor(0.1298),\n",
       "  tensor(0.1041),\n",
       "  tensor(0.1025),\n",
       "  tensor(0.1396),\n",
       "  tensor(0.0866),\n",
       "  tensor(0.1450),\n",
       "  tensor(0.1074),\n",
       "  tensor(0.1141),\n",
       "  tensor(0.0844),\n",
       "  tensor(0.1065),\n",
       "  tensor(0.0690),\n",
       "  tensor(0.1083),\n",
       "  tensor(0.0971),\n",
       "  tensor(0.1289),\n",
       "  tensor(0.0907),\n",
       "  tensor(0.1136),\n",
       "  tensor(0.0854),\n",
       "  tensor(0.1338),\n",
       "  tensor(0.0999),\n",
       "  tensor(0.0803),\n",
       "  tensor(0.0311),\n",
       "  tensor(0.0300),\n",
       "  tensor(0.0474),\n",
       "  tensor(0.1190),\n",
       "  tensor(0.0728),\n",
       "  tensor(0.1084),\n",
       "  tensor(0.1405),\n",
       "  tensor(0.0897),\n",
       "  tensor(0.0083),\n",
       "  tensor(0.1281),\n",
       "  tensor(0.0588),\n",
       "  tensor(0.0984),\n",
       "  tensor(0.0952),\n",
       "  tensor(0.1004),\n",
       "  tensor(0.0503),\n",
       "  tensor(0.1254),\n",
       "  tensor(0.1343),\n",
       "  tensor(0.0776),\n",
       "  tensor(0.0815),\n",
       "  tensor(0.0875),\n",
       "  tensor(0.0921),\n",
       "  tensor(0.0960),\n",
       "  tensor(0.1521),\n",
       "  tensor(0.1293),\n",
       "  tensor(0.1284),\n",
       "  tensor(0.0612),\n",
       "  tensor(0.1309),\n",
       "  tensor(0.0958),\n",
       "  tensor(0.1010),\n",
       "  tensor(0.0950),\n",
       "  tensor(0.0948),\n",
       "  tensor(0.0908),\n",
       "  tensor(0.1095),\n",
       "  tensor(0.0009),\n",
       "  tensor(0.1450),\n",
       "  tensor(0.0652),\n",
       "  tensor(0.1239),\n",
       "  tensor(0.0554),\n",
       "  tensor(0.1413),\n",
       "  tensor(0.0245),\n",
       "  tensor(0.0762),\n",
       "  tensor(0.1392),\n",
       "  tensor(0.1189),\n",
       "  tensor(0.1264),\n",
       "  tensor(0.0389),\n",
       "  tensor(0.0473)],\n",
       " 12: [tensor(0.1035),\n",
       "  tensor(0.0877),\n",
       "  tensor(0.0680),\n",
       "  tensor(0.1289),\n",
       "  tensor(0.1019),\n",
       "  tensor(0.1081),\n",
       "  tensor(0.1071),\n",
       "  tensor(0.1234),\n",
       "  tensor(0.0860),\n",
       "  tensor(0.0855),\n",
       "  tensor(0.1067),\n",
       "  tensor(0.0730),\n",
       "  tensor(0.1015),\n",
       "  tensor(0.0623),\n",
       "  tensor(0.0665),\n",
       "  tensor(0.1093),\n",
       "  tensor(0.0994),\n",
       "  tensor(0.1463),\n",
       "  tensor(0.1370),\n",
       "  tensor(0.0977),\n",
       "  tensor(0.1206),\n",
       "  tensor(0.1406),\n",
       "  tensor(0.1269),\n",
       "  tensor(0.1043),\n",
       "  tensor(0.1256),\n",
       "  tensor(0.0955),\n",
       "  tensor(0.0934),\n",
       "  tensor(0.0667),\n",
       "  tensor(0.0878),\n",
       "  tensor(0.1144),\n",
       "  tensor(0.0159),\n",
       "  tensor(0.0102),\n",
       "  tensor(0.1284),\n",
       "  tensor(0.0752),\n",
       "  tensor(0.0710),\n",
       "  tensor(0.1298),\n",
       "  tensor(0.1041),\n",
       "  tensor(0.1025),\n",
       "  tensor(0.1396),\n",
       "  tensor(0.0866),\n",
       "  tensor(0.1450),\n",
       "  tensor(0.1074),\n",
       "  tensor(0.1141),\n",
       "  tensor(0.0844),\n",
       "  tensor(0.1065),\n",
       "  tensor(0.0690),\n",
       "  tensor(0.1083),\n",
       "  tensor(0.0971),\n",
       "  tensor(0.1289),\n",
       "  tensor(0.0907),\n",
       "  tensor(0.1136),\n",
       "  tensor(0.0854),\n",
       "  tensor(0.1338),\n",
       "  tensor(0.0999),\n",
       "  tensor(0.0803),\n",
       "  tensor(0.0311),\n",
       "  tensor(0.0300),\n",
       "  tensor(0.0474),\n",
       "  tensor(0.1190),\n",
       "  tensor(0.0728),\n",
       "  tensor(0.1084),\n",
       "  tensor(0.1405),\n",
       "  tensor(0.0897),\n",
       "  tensor(0.0083),\n",
       "  tensor(0.1281),\n",
       "  tensor(0.0588),\n",
       "  tensor(0.0984),\n",
       "  tensor(0.0952),\n",
       "  tensor(0.1004),\n",
       "  tensor(0.0503),\n",
       "  tensor(0.1254),\n",
       "  tensor(0.1343),\n",
       "  tensor(0.0776),\n",
       "  tensor(0.0815),\n",
       "  tensor(0.0875),\n",
       "  tensor(0.0921),\n",
       "  tensor(0.0960),\n",
       "  tensor(0.1521),\n",
       "  tensor(0.1293),\n",
       "  tensor(0.1284),\n",
       "  tensor(0.0612),\n",
       "  tensor(0.1309),\n",
       "  tensor(0.0958),\n",
       "  tensor(0.1010),\n",
       "  tensor(0.0950),\n",
       "  tensor(0.0948),\n",
       "  tensor(0.0908),\n",
       "  tensor(0.1095),\n",
       "  tensor(0.0009),\n",
       "  tensor(0.1450),\n",
       "  tensor(0.0652),\n",
       "  tensor(0.1239),\n",
       "  tensor(0.0554),\n",
       "  tensor(0.1413),\n",
       "  tensor(0.0245),\n",
       "  tensor(0.0762),\n",
       "  tensor(0.1392),\n",
       "  tensor(0.1189),\n",
       "  tensor(0.1264),\n",
       "  tensor(0.0389),\n",
       "  tensor(0.0473)],\n",
       " 13: [tensor(0.1035),\n",
       "  tensor(0.0877),\n",
       "  tensor(0.0680),\n",
       "  tensor(0.1289),\n",
       "  tensor(0.1019),\n",
       "  tensor(0.1081),\n",
       "  tensor(0.1071),\n",
       "  tensor(0.1234),\n",
       "  tensor(0.0860),\n",
       "  tensor(0.0855),\n",
       "  tensor(0.1067),\n",
       "  tensor(0.0730),\n",
       "  tensor(0.1015),\n",
       "  tensor(0.0623),\n",
       "  tensor(0.0665),\n",
       "  tensor(0.1093),\n",
       "  tensor(0.0994),\n",
       "  tensor(0.1463),\n",
       "  tensor(0.1370),\n",
       "  tensor(0.0977),\n",
       "  tensor(0.1206),\n",
       "  tensor(0.1406),\n",
       "  tensor(0.1269),\n",
       "  tensor(0.1043),\n",
       "  tensor(0.1256),\n",
       "  tensor(0.0955),\n",
       "  tensor(0.0934),\n",
       "  tensor(0.0667),\n",
       "  tensor(0.0878),\n",
       "  tensor(0.1144),\n",
       "  tensor(0.0159),\n",
       "  tensor(0.0102),\n",
       "  tensor(0.1284),\n",
       "  tensor(0.0752),\n",
       "  tensor(0.0710),\n",
       "  tensor(0.1298),\n",
       "  tensor(0.1041),\n",
       "  tensor(0.1025),\n",
       "  tensor(0.1396),\n",
       "  tensor(0.0866),\n",
       "  tensor(0.1450),\n",
       "  tensor(0.1074),\n",
       "  tensor(0.1141),\n",
       "  tensor(0.0844),\n",
       "  tensor(0.1065),\n",
       "  tensor(0.0690),\n",
       "  tensor(0.1083),\n",
       "  tensor(0.0971),\n",
       "  tensor(0.1289),\n",
       "  tensor(0.0907),\n",
       "  tensor(0.1136),\n",
       "  tensor(0.0854),\n",
       "  tensor(0.1338),\n",
       "  tensor(0.0999),\n",
       "  tensor(0.0803),\n",
       "  tensor(0.0311),\n",
       "  tensor(0.0300),\n",
       "  tensor(0.0474),\n",
       "  tensor(0.1190),\n",
       "  tensor(0.0728),\n",
       "  tensor(0.1084),\n",
       "  tensor(0.1405),\n",
       "  tensor(0.0897),\n",
       "  tensor(0.0083),\n",
       "  tensor(0.1281),\n",
       "  tensor(0.0588),\n",
       "  tensor(0.0984),\n",
       "  tensor(0.0952),\n",
       "  tensor(0.1004),\n",
       "  tensor(0.0503),\n",
       "  tensor(0.1254),\n",
       "  tensor(0.1343),\n",
       "  tensor(0.0776),\n",
       "  tensor(0.0815),\n",
       "  tensor(0.0875),\n",
       "  tensor(0.0921),\n",
       "  tensor(0.0960),\n",
       "  tensor(0.1521),\n",
       "  tensor(0.1293),\n",
       "  tensor(0.1284),\n",
       "  tensor(0.0612),\n",
       "  tensor(0.1309),\n",
       "  tensor(0.0958),\n",
       "  tensor(0.1010),\n",
       "  tensor(0.0950),\n",
       "  tensor(0.0948),\n",
       "  tensor(0.0908),\n",
       "  tensor(0.1095),\n",
       "  tensor(0.0009),\n",
       "  tensor(0.1450),\n",
       "  tensor(0.0652),\n",
       "  tensor(0.1239),\n",
       "  tensor(0.0554),\n",
       "  tensor(0.1413),\n",
       "  tensor(0.0245),\n",
       "  tensor(0.0762),\n",
       "  tensor(0.1392),\n",
       "  tensor(0.1189),\n",
       "  tensor(0.1264),\n",
       "  tensor(0.0389),\n",
       "  tensor(0.0473)],\n",
       " 14: [tensor(0.1035),\n",
       "  tensor(0.0877),\n",
       "  tensor(0.0680),\n",
       "  tensor(0.1289),\n",
       "  tensor(0.1019),\n",
       "  tensor(0.1081),\n",
       "  tensor(0.1071),\n",
       "  tensor(0.1234),\n",
       "  tensor(0.0860),\n",
       "  tensor(0.0855),\n",
       "  tensor(0.1067),\n",
       "  tensor(0.0730),\n",
       "  tensor(0.1015),\n",
       "  tensor(0.0623),\n",
       "  tensor(0.0665),\n",
       "  tensor(0.1093),\n",
       "  tensor(0.0994),\n",
       "  tensor(0.1463),\n",
       "  tensor(0.1370),\n",
       "  tensor(0.0977),\n",
       "  tensor(0.1206),\n",
       "  tensor(0.1406),\n",
       "  tensor(0.1269),\n",
       "  tensor(0.1043),\n",
       "  tensor(0.1256),\n",
       "  tensor(0.0955),\n",
       "  tensor(0.0934),\n",
       "  tensor(0.0667),\n",
       "  tensor(0.0878),\n",
       "  tensor(0.1144),\n",
       "  tensor(0.0159),\n",
       "  tensor(0.0102),\n",
       "  tensor(0.1284),\n",
       "  tensor(0.0752),\n",
       "  tensor(0.0710),\n",
       "  tensor(0.1298),\n",
       "  tensor(0.1041),\n",
       "  tensor(0.1025),\n",
       "  tensor(0.1396),\n",
       "  tensor(0.0866),\n",
       "  tensor(0.1450),\n",
       "  tensor(0.1074),\n",
       "  tensor(0.1141),\n",
       "  tensor(0.0844),\n",
       "  tensor(0.1065),\n",
       "  tensor(0.0690),\n",
       "  tensor(0.1083),\n",
       "  tensor(0.0971),\n",
       "  tensor(0.1289),\n",
       "  tensor(0.0907),\n",
       "  tensor(0.1136),\n",
       "  tensor(0.0854),\n",
       "  tensor(0.1338),\n",
       "  tensor(0.0999),\n",
       "  tensor(0.0803),\n",
       "  tensor(0.0311),\n",
       "  tensor(0.0300),\n",
       "  tensor(0.0474),\n",
       "  tensor(0.1190),\n",
       "  tensor(0.0728),\n",
       "  tensor(0.1084),\n",
       "  tensor(0.1405),\n",
       "  tensor(0.0897),\n",
       "  tensor(0.0083),\n",
       "  tensor(0.1281),\n",
       "  tensor(0.0588),\n",
       "  tensor(0.0984),\n",
       "  tensor(0.0952),\n",
       "  tensor(0.1004),\n",
       "  tensor(0.0503),\n",
       "  tensor(0.1254),\n",
       "  tensor(0.1343),\n",
       "  tensor(0.0776),\n",
       "  tensor(0.0815),\n",
       "  tensor(0.0875),\n",
       "  tensor(0.0921),\n",
       "  tensor(0.0960),\n",
       "  tensor(0.1521),\n",
       "  tensor(0.1293),\n",
       "  tensor(0.1284),\n",
       "  tensor(0.0612),\n",
       "  tensor(0.1309),\n",
       "  tensor(0.0958),\n",
       "  tensor(0.1010),\n",
       "  tensor(0.0950),\n",
       "  tensor(0.0948),\n",
       "  tensor(0.0908),\n",
       "  tensor(0.1095),\n",
       "  tensor(0.0009),\n",
       "  tensor(0.1450),\n",
       "  tensor(0.0652),\n",
       "  tensor(0.1239),\n",
       "  tensor(0.0554),\n",
       "  tensor(0.1413),\n",
       "  tensor(0.0245),\n",
       "  tensor(0.0762),\n",
       "  tensor(0.1392),\n",
       "  tensor(0.1189),\n",
       "  tensor(0.1264),\n",
       "  tensor(0.0389),\n",
       "  tensor(0.0473)],\n",
       " 15: [tensor(0.1035),\n",
       "  tensor(0.0877),\n",
       "  tensor(0.0680),\n",
       "  tensor(0.1289),\n",
       "  tensor(0.1019),\n",
       "  tensor(0.1081),\n",
       "  tensor(0.1071),\n",
       "  tensor(0.1234),\n",
       "  tensor(0.0860),\n",
       "  tensor(0.0855),\n",
       "  tensor(0.1067),\n",
       "  tensor(0.0730),\n",
       "  tensor(0.1015),\n",
       "  tensor(0.0623),\n",
       "  tensor(0.0665),\n",
       "  tensor(0.1093),\n",
       "  tensor(0.0994),\n",
       "  tensor(0.1463),\n",
       "  tensor(0.1370),\n",
       "  tensor(0.0977),\n",
       "  tensor(0.1206),\n",
       "  tensor(0.1406),\n",
       "  tensor(0.1269),\n",
       "  tensor(0.1043),\n",
       "  tensor(0.1256),\n",
       "  tensor(0.0955),\n",
       "  tensor(0.0934),\n",
       "  tensor(0.0667),\n",
       "  tensor(0.0878),\n",
       "  tensor(0.1144),\n",
       "  tensor(0.0159),\n",
       "  tensor(0.0102),\n",
       "  tensor(0.1284),\n",
       "  tensor(0.0752),\n",
       "  tensor(0.0710),\n",
       "  tensor(0.1298),\n",
       "  tensor(0.1041),\n",
       "  tensor(0.1025),\n",
       "  tensor(0.1396),\n",
       "  tensor(0.0866),\n",
       "  tensor(0.1450),\n",
       "  tensor(0.1074),\n",
       "  tensor(0.1141),\n",
       "  tensor(0.0844),\n",
       "  tensor(0.1065),\n",
       "  tensor(0.0690),\n",
       "  tensor(0.1083),\n",
       "  tensor(0.0971),\n",
       "  tensor(0.1289),\n",
       "  tensor(0.0907),\n",
       "  tensor(0.1136),\n",
       "  tensor(0.0854),\n",
       "  tensor(0.1338),\n",
       "  tensor(0.0999),\n",
       "  tensor(0.0803),\n",
       "  tensor(0.0311),\n",
       "  tensor(0.0300),\n",
       "  tensor(0.0474),\n",
       "  tensor(0.1190),\n",
       "  tensor(0.0728),\n",
       "  tensor(0.1084),\n",
       "  tensor(0.1405),\n",
       "  tensor(0.0897),\n",
       "  tensor(0.0083),\n",
       "  tensor(0.1281),\n",
       "  tensor(0.0588),\n",
       "  tensor(0.0984),\n",
       "  tensor(0.0952),\n",
       "  tensor(0.1004),\n",
       "  tensor(0.0503),\n",
       "  tensor(0.1254),\n",
       "  tensor(0.1343),\n",
       "  tensor(0.0776),\n",
       "  tensor(0.0815),\n",
       "  tensor(0.0875),\n",
       "  tensor(0.0921),\n",
       "  tensor(0.0960),\n",
       "  tensor(0.1521),\n",
       "  tensor(0.1293),\n",
       "  tensor(0.1284),\n",
       "  tensor(0.0612),\n",
       "  tensor(0.1309),\n",
       "  tensor(0.0958),\n",
       "  tensor(0.1010),\n",
       "  tensor(0.0950),\n",
       "  tensor(0.0948),\n",
       "  tensor(0.0908),\n",
       "  tensor(0.1095),\n",
       "  tensor(0.0009),\n",
       "  tensor(0.1450),\n",
       "  tensor(0.0652),\n",
       "  tensor(0.1239),\n",
       "  tensor(0.0554),\n",
       "  tensor(0.1413),\n",
       "  tensor(0.0245),\n",
       "  tensor(0.0762),\n",
       "  tensor(0.1392),\n",
       "  tensor(0.1189),\n",
       "  tensor(0.1264),\n",
       "  tensor(0.0389),\n",
       "  tensor(0.0473)],\n",
       " 16: [tensor(0.1035),\n",
       "  tensor(0.0877),\n",
       "  tensor(0.0680),\n",
       "  tensor(0.1289),\n",
       "  tensor(0.1019),\n",
       "  tensor(0.1081),\n",
       "  tensor(0.1071),\n",
       "  tensor(0.1234),\n",
       "  tensor(0.0860),\n",
       "  tensor(0.0855),\n",
       "  tensor(0.1067),\n",
       "  tensor(0.0730),\n",
       "  tensor(0.1015),\n",
       "  tensor(0.0623),\n",
       "  tensor(0.0665),\n",
       "  tensor(0.1093),\n",
       "  tensor(0.0994),\n",
       "  tensor(0.1463),\n",
       "  tensor(0.1370),\n",
       "  tensor(0.0977),\n",
       "  tensor(0.1206),\n",
       "  tensor(0.1406),\n",
       "  tensor(0.1269),\n",
       "  tensor(0.1043),\n",
       "  tensor(0.1256),\n",
       "  tensor(0.0955),\n",
       "  tensor(0.0934),\n",
       "  tensor(0.0667),\n",
       "  tensor(0.0878),\n",
       "  tensor(0.1144),\n",
       "  tensor(0.0159),\n",
       "  tensor(0.0102),\n",
       "  tensor(0.1284),\n",
       "  tensor(0.0752),\n",
       "  tensor(0.0710),\n",
       "  tensor(0.1298),\n",
       "  tensor(0.1041),\n",
       "  tensor(0.1025),\n",
       "  tensor(0.1396),\n",
       "  tensor(0.0866),\n",
       "  tensor(0.1450),\n",
       "  tensor(0.1074),\n",
       "  tensor(0.1141),\n",
       "  tensor(0.0844),\n",
       "  tensor(0.1065),\n",
       "  tensor(0.0690),\n",
       "  tensor(0.1083),\n",
       "  tensor(0.0971),\n",
       "  tensor(0.1289),\n",
       "  tensor(0.0907),\n",
       "  tensor(0.1136),\n",
       "  tensor(0.0854),\n",
       "  tensor(0.1338),\n",
       "  tensor(0.0999),\n",
       "  tensor(0.0803),\n",
       "  tensor(0.0311),\n",
       "  tensor(0.0300),\n",
       "  tensor(0.0474),\n",
       "  tensor(0.1190),\n",
       "  tensor(0.0728),\n",
       "  tensor(0.1084),\n",
       "  tensor(0.1405),\n",
       "  tensor(0.0897),\n",
       "  tensor(0.0083),\n",
       "  tensor(0.1281),\n",
       "  tensor(0.0588),\n",
       "  tensor(0.0984),\n",
       "  tensor(0.0952),\n",
       "  tensor(0.1004),\n",
       "  tensor(0.0503),\n",
       "  tensor(0.1254),\n",
       "  tensor(0.1343),\n",
       "  tensor(0.0776),\n",
       "  tensor(0.0815),\n",
       "  tensor(0.0875),\n",
       "  tensor(0.0921),\n",
       "  tensor(0.0960),\n",
       "  tensor(0.1521),\n",
       "  tensor(0.1293),\n",
       "  tensor(0.1284),\n",
       "  tensor(0.0612),\n",
       "  tensor(0.1309),\n",
       "  tensor(0.0958),\n",
       "  tensor(0.1010),\n",
       "  tensor(0.0950),\n",
       "  tensor(0.0948),\n",
       "  tensor(0.0908),\n",
       "  tensor(0.1095),\n",
       "  tensor(0.0009),\n",
       "  tensor(0.1450),\n",
       "  tensor(0.0652),\n",
       "  tensor(0.1239),\n",
       "  tensor(0.0554),\n",
       "  tensor(0.1413),\n",
       "  tensor(0.0245),\n",
       "  tensor(0.0762),\n",
       "  tensor(0.1392),\n",
       "  tensor(0.1189),\n",
       "  tensor(0.1264),\n",
       "  tensor(0.0389),\n",
       "  tensor(0.0473)],\n",
       " 17: [tensor(0.1035),\n",
       "  tensor(0.0877),\n",
       "  tensor(0.0680),\n",
       "  tensor(0.1289),\n",
       "  tensor(0.1019),\n",
       "  tensor(0.1081),\n",
       "  tensor(0.1071),\n",
       "  tensor(0.1234),\n",
       "  tensor(0.0860),\n",
       "  tensor(0.0855),\n",
       "  tensor(0.1067),\n",
       "  tensor(0.0730),\n",
       "  tensor(0.1015),\n",
       "  tensor(0.0623),\n",
       "  tensor(0.0665),\n",
       "  tensor(0.1093),\n",
       "  tensor(0.0994),\n",
       "  tensor(0.1463),\n",
       "  tensor(0.1370),\n",
       "  tensor(0.0977),\n",
       "  tensor(0.1206),\n",
       "  tensor(0.1406),\n",
       "  tensor(0.1269),\n",
       "  tensor(0.1043),\n",
       "  tensor(0.1256),\n",
       "  tensor(0.0955),\n",
       "  tensor(0.0934),\n",
       "  tensor(0.0667),\n",
       "  tensor(0.0878),\n",
       "  tensor(0.1144),\n",
       "  tensor(0.0159),\n",
       "  tensor(0.0102),\n",
       "  tensor(0.1284),\n",
       "  tensor(0.0752),\n",
       "  tensor(0.0710),\n",
       "  tensor(0.1298),\n",
       "  tensor(0.1041),\n",
       "  tensor(0.1025),\n",
       "  tensor(0.1396),\n",
       "  tensor(0.0866),\n",
       "  tensor(0.1450),\n",
       "  tensor(0.1074),\n",
       "  tensor(0.1141),\n",
       "  tensor(0.0844),\n",
       "  tensor(0.1065),\n",
       "  tensor(0.0690),\n",
       "  tensor(0.1083),\n",
       "  tensor(0.0971),\n",
       "  tensor(0.1289),\n",
       "  tensor(0.0907),\n",
       "  tensor(0.1136),\n",
       "  tensor(0.0854),\n",
       "  tensor(0.1338),\n",
       "  tensor(0.0999),\n",
       "  tensor(0.0803),\n",
       "  tensor(0.0311),\n",
       "  tensor(0.0300),\n",
       "  tensor(0.0474),\n",
       "  tensor(0.1190),\n",
       "  tensor(0.0728),\n",
       "  tensor(0.1084),\n",
       "  tensor(0.1405),\n",
       "  tensor(0.0897),\n",
       "  tensor(0.0083),\n",
       "  tensor(0.1281),\n",
       "  tensor(0.0588),\n",
       "  tensor(0.0984),\n",
       "  tensor(0.0952),\n",
       "  tensor(0.1004),\n",
       "  tensor(0.0503),\n",
       "  tensor(0.1254),\n",
       "  tensor(0.1343),\n",
       "  tensor(0.0776),\n",
       "  tensor(0.0815),\n",
       "  tensor(0.0875),\n",
       "  tensor(0.0921),\n",
       "  tensor(0.0960),\n",
       "  tensor(0.1521),\n",
       "  tensor(0.1293),\n",
       "  tensor(0.1284),\n",
       "  tensor(0.0612),\n",
       "  tensor(0.1309),\n",
       "  tensor(0.0958),\n",
       "  tensor(0.1010),\n",
       "  tensor(0.0950),\n",
       "  tensor(0.0948),\n",
       "  tensor(0.0908),\n",
       "  tensor(0.1095),\n",
       "  tensor(0.0009),\n",
       "  tensor(0.1450),\n",
       "  tensor(0.0652),\n",
       "  tensor(0.1239),\n",
       "  tensor(0.0554),\n",
       "  tensor(0.1413),\n",
       "  tensor(0.0245),\n",
       "  tensor(0.0762),\n",
       "  tensor(0.1392),\n",
       "  tensor(0.1189),\n",
       "  tensor(0.1264),\n",
       "  tensor(0.0389),\n",
       "  tensor(0.0473)],\n",
       " 18: [tensor(0.1035),\n",
       "  tensor(0.0877),\n",
       "  tensor(0.0680),\n",
       "  tensor(0.1289),\n",
       "  tensor(0.1019),\n",
       "  tensor(0.1081),\n",
       "  tensor(0.1071),\n",
       "  tensor(0.1234),\n",
       "  tensor(0.0860),\n",
       "  tensor(0.0855),\n",
       "  tensor(0.1067),\n",
       "  tensor(0.0730),\n",
       "  tensor(0.1015),\n",
       "  tensor(0.0623),\n",
       "  tensor(0.0665),\n",
       "  tensor(0.1093),\n",
       "  tensor(0.0994),\n",
       "  tensor(0.1463),\n",
       "  tensor(0.1370),\n",
       "  tensor(0.0977),\n",
       "  tensor(0.1206),\n",
       "  tensor(0.1406),\n",
       "  tensor(0.1269),\n",
       "  tensor(0.1043),\n",
       "  tensor(0.1256),\n",
       "  tensor(0.0955),\n",
       "  tensor(0.0934),\n",
       "  tensor(0.0667),\n",
       "  tensor(0.0878),\n",
       "  tensor(0.1144),\n",
       "  tensor(0.0159),\n",
       "  tensor(0.0102),\n",
       "  tensor(0.1284),\n",
       "  tensor(0.0752),\n",
       "  tensor(0.0710),\n",
       "  tensor(0.1298),\n",
       "  tensor(0.1041),\n",
       "  tensor(0.1025),\n",
       "  tensor(0.1396),\n",
       "  tensor(0.0866),\n",
       "  tensor(0.1450),\n",
       "  tensor(0.1074),\n",
       "  tensor(0.1141),\n",
       "  tensor(0.0844),\n",
       "  tensor(0.1065),\n",
       "  tensor(0.0690),\n",
       "  tensor(0.1083),\n",
       "  tensor(0.0971),\n",
       "  tensor(0.1289),\n",
       "  tensor(0.0907),\n",
       "  tensor(0.1136),\n",
       "  tensor(0.0854),\n",
       "  tensor(0.1338),\n",
       "  tensor(0.0999),\n",
       "  tensor(0.0803),\n",
       "  tensor(0.0311),\n",
       "  tensor(0.0300),\n",
       "  tensor(0.0474),\n",
       "  tensor(0.1190),\n",
       "  tensor(0.0728),\n",
       "  tensor(0.1084),\n",
       "  tensor(0.1405),\n",
       "  tensor(0.0897),\n",
       "  tensor(0.0083),\n",
       "  tensor(0.1281),\n",
       "  tensor(0.0588),\n",
       "  tensor(0.0984),\n",
       "  tensor(0.0952),\n",
       "  tensor(0.1004),\n",
       "  tensor(0.0503),\n",
       "  tensor(0.1254),\n",
       "  tensor(0.1343),\n",
       "  tensor(0.0776),\n",
       "  tensor(0.0815),\n",
       "  tensor(0.0875),\n",
       "  tensor(0.0921),\n",
       "  tensor(0.0960),\n",
       "  tensor(0.1521),\n",
       "  tensor(0.1293),\n",
       "  tensor(0.1284),\n",
       "  tensor(0.0612),\n",
       "  tensor(0.1309),\n",
       "  tensor(0.0958),\n",
       "  tensor(0.1010),\n",
       "  tensor(0.0950),\n",
       "  tensor(0.0948),\n",
       "  tensor(0.0908),\n",
       "  tensor(0.1095),\n",
       "  tensor(0.0009),\n",
       "  tensor(0.1450),\n",
       "  tensor(0.0652),\n",
       "  tensor(0.1239),\n",
       "  tensor(0.0554),\n",
       "  tensor(0.1413),\n",
       "  tensor(0.0245),\n",
       "  tensor(0.0762),\n",
       "  tensor(0.1392),\n",
       "  tensor(0.1189),\n",
       "  tensor(0.1264),\n",
       "  tensor(0.0389),\n",
       "  tensor(0.0473)]}"
      ]
     },
     "execution_count": 12,
     "metadata": {},
     "output_type": "execute_result"
    }
   ],
   "source": [
    "ll_before_original"
   ]
  },
  {
   "cell_type": "code",
   "execution_count": 14,
   "metadata": {},
   "outputs": [
    {
     "data": {
      "text/plain": [
       "{0: [-2.5170739,\n",
       "  -2.4044878,\n",
       "  -2.5853949,\n",
       "  -2.4393258,\n",
       "  -2.3421412,\n",
       "  -2.4654684,\n",
       "  -2.5603528,\n",
       "  -2.3534904,\n",
       "  -2.5753772,\n",
       "  -2.472554],\n",
       " 1: [-2.5170739,\n",
       "  -2.4044878,\n",
       "  -2.5853949,\n",
       "  -2.4393258,\n",
       "  -2.3421412,\n",
       "  -2.4654684,\n",
       "  -2.5603528,\n",
       "  -2.3534904,\n",
       "  -2.5753772,\n",
       "  -2.472554],\n",
       " 2: [-2.5170739,\n",
       "  -2.4044878,\n",
       "  -2.5853949,\n",
       "  -2.4393258,\n",
       "  -2.3421412,\n",
       "  -2.4654684,\n",
       "  -2.5603528,\n",
       "  -2.3534904,\n",
       "  -2.5753772,\n",
       "  -2.472554],\n",
       " 3: [-2.5170739,\n",
       "  -2.4044878,\n",
       "  -2.5853949,\n",
       "  -2.4393258,\n",
       "  -2.3421412,\n",
       "  -2.4654684,\n",
       "  -2.5603528,\n",
       "  -2.3534904,\n",
       "  -2.5753772,\n",
       "  -2.472554],\n",
       " 4: [-2.5170739,\n",
       "  -2.4044878,\n",
       "  -2.5853949,\n",
       "  -2.4393258,\n",
       "  -2.3421412,\n",
       "  -2.4654684,\n",
       "  -2.5603528,\n",
       "  -2.3534904,\n",
       "  -2.5753772,\n",
       "  -2.472554],\n",
       " 5: [-2.5170739,\n",
       "  -2.4044878,\n",
       "  -2.5853949,\n",
       "  -2.4393258,\n",
       "  -2.3421412,\n",
       "  -2.4654684,\n",
       "  -2.5603528,\n",
       "  -2.3534904,\n",
       "  -2.5753772,\n",
       "  -2.472554],\n",
       " 6: [-2.5170739,\n",
       "  -2.4044878,\n",
       "  -2.5853949,\n",
       "  -2.4393258,\n",
       "  -2.3421412,\n",
       "  -2.4654684,\n",
       "  -2.5603528,\n",
       "  -2.3534904,\n",
       "  -2.5753772,\n",
       "  -2.472554],\n",
       " 7: [-2.5170739,\n",
       "  -2.4044878,\n",
       "  -2.5853949,\n",
       "  -2.4393258,\n",
       "  -2.3421412,\n",
       "  -2.4654684,\n",
       "  -2.5603528,\n",
       "  -2.3534904,\n",
       "  -2.5753772,\n",
       "  -2.472554],\n",
       " 8: [-2.5170739,\n",
       "  -2.4044878,\n",
       "  -2.5853949,\n",
       "  -2.4393258,\n",
       "  -2.3421412,\n",
       "  -2.4654684,\n",
       "  -2.5603528,\n",
       "  -2.3534904,\n",
       "  -2.5753772,\n",
       "  -2.472554],\n",
       " 9: [-2.5170739,\n",
       "  -2.4044878,\n",
       "  -2.5853949,\n",
       "  -2.4393258,\n",
       "  -2.3421412,\n",
       "  -2.4654684,\n",
       "  -2.5603528,\n",
       "  -2.3534904,\n",
       "  -2.5753772,\n",
       "  -2.472554],\n",
       " 10: [-2.5170739,\n",
       "  -2.4044878,\n",
       "  -2.5853949,\n",
       "  -2.4393258,\n",
       "  -2.3421412,\n",
       "  -2.4654684,\n",
       "  -2.5603528,\n",
       "  -2.3534904,\n",
       "  -2.5753772,\n",
       "  -2.472554],\n",
       " 11: [-2.5170739,\n",
       "  -2.4044878,\n",
       "  -2.5853949,\n",
       "  -2.4393258,\n",
       "  -2.3421412,\n",
       "  -2.4654684,\n",
       "  -2.5603528,\n",
       "  -2.3534904,\n",
       "  -2.5753772,\n",
       "  -2.472554],\n",
       " 12: [-2.5170739,\n",
       "  -2.4044878,\n",
       "  -2.5853949,\n",
       "  -2.4393258,\n",
       "  -2.3421412,\n",
       "  -2.4654684,\n",
       "  -2.5603528,\n",
       "  -2.3534904,\n",
       "  -2.5753772,\n",
       "  -2.472554],\n",
       " 13: [-2.5170739,\n",
       "  -2.4044878,\n",
       "  -2.5853949,\n",
       "  -2.4393258,\n",
       "  -2.3421412,\n",
       "  -2.4654684,\n",
       "  -2.5603528,\n",
       "  -2.3534904,\n",
       "  -2.5753772,\n",
       "  -2.472554],\n",
       " 14: [-2.5170739,\n",
       "  -2.4044878,\n",
       "  -2.5853949,\n",
       "  -2.4393258,\n",
       "  -2.3421412,\n",
       "  -2.4654684,\n",
       "  -2.5603528,\n",
       "  -2.3534904,\n",
       "  -2.5753772,\n",
       "  -2.472554],\n",
       " 15: [-2.5170739,\n",
       "  -2.4044878,\n",
       "  -2.5853949,\n",
       "  -2.4393258,\n",
       "  -2.3421412,\n",
       "  -2.4654684,\n",
       "  -2.5603528,\n",
       "  -2.3534904,\n",
       "  -2.5753772,\n",
       "  -2.472554],\n",
       " 16: [-2.5170739,\n",
       "  -2.4044878,\n",
       "  -2.5853949,\n",
       "  -2.4393258,\n",
       "  -2.3421412,\n",
       "  -2.4654684,\n",
       "  -2.5603528,\n",
       "  -2.3534904,\n",
       "  -2.5753772,\n",
       "  -2.472554],\n",
       " 17: [-2.5170739,\n",
       "  -2.4044878,\n",
       "  -2.5853949,\n",
       "  -2.4393258,\n",
       "  -2.3421412,\n",
       "  -2.4654684,\n",
       "  -2.5603528,\n",
       "  -2.3534904,\n",
       "  -2.5753772,\n",
       "  -2.472554],\n",
       " 18: [-2.5170739,\n",
       "  -2.4044878,\n",
       "  -2.5853949,\n",
       "  -2.4393258,\n",
       "  -2.3421412,\n",
       "  -2.4654684,\n",
       "  -2.5603528,\n",
       "  -2.3534904,\n",
       "  -2.5753772,\n",
       "  -2.472554]}"
      ]
     },
     "execution_count": 14,
     "metadata": {},
     "output_type": "execute_result"
    }
   ],
   "source": []
  },
  {
   "cell_type": "markdown",
   "metadata": {},
   "source": [
    "## Finetune Smoothing on train"
   ]
  },
  {
   "cell_type": "code",
   "execution_count": 6,
   "metadata": {},
   "outputs": [],
   "source": [
    "seeds = [0, 1, 2]\n",
    "do_plot=False\n",
    "window_sizes = np.arange(5, 20, 1)"
   ]
  },
  {
   "cell_type": "code",
   "execution_count": 7,
   "metadata": {},
   "outputs": [
    {
     "name": "stderr",
     "output_type": "stream",
     "text": [
      "val_nll_loss: 1.8415562128984195, train-loss: -0.6973573565483093:  35%|███▌      | 177/500 [30:20<53:19,  9.90s/it]    "
     ]
    },
    {
     "name": "stdout",
     "output_type": "stream",
     "text": [
      "Epoch 00177: reducing learning rate of group 0 to 1.0000e-04.\n"
     ]
    },
    {
     "name": "stderr",
     "output_type": "stream",
     "text": [
      "val_nll_loss: 1.8235647688281111, train-loss: -0.030708372592926025:  39%|███▊      | 193/500 [33:14<57:24, 11.22s/it]"
     ]
    },
    {
     "name": "stdout",
     "output_type": "stream",
     "text": [
      "Epoch 00193: reducing learning rate of group 0 to 5.0000e-05.\n"
     ]
    },
    {
     "name": "stderr",
     "output_type": "stream",
     "text": [
      "val_nll_loss: 1.811753775394122, train-loss: 0.19852691888809204:  44%|████▍     | 221/500 [37:44<37:20,  8.03s/it]   "
     ]
    },
    {
     "name": "stdout",
     "output_type": "stream",
     "text": [
      "Epoch 00221: reducing learning rate of group 0 to 2.5000e-05.\n"
     ]
    },
    {
     "name": "stderr",
     "output_type": "stream",
     "text": [
      "val_nll_loss: 1.810398748294806, train-loss: 0.030309736728668213:  46%|████▌     | 231/500 [39:05<35:01,  7.81s/it] "
     ]
    },
    {
     "name": "stdout",
     "output_type": "stream",
     "text": [
      "Epoch 00231: reducing learning rate of group 0 to 1.2500e-05.\n"
     ]
    },
    {
     "name": "stderr",
     "output_type": "stream",
     "text": [
      "val_nll_loss: 1.8099658143564672, train-loss: -0.5674635171890259:  47%|████▋     | 234/500 [39:35<45:00, 10.15s/it]\n"
     ]
    },
    {
     "name": "stdout",
     "output_type": "stream",
     "text": [
      "Early stopping\n",
      "Scaling factor: 208.14768981933594\n"
     ]
    },
    {
     "name": "stderr",
     "output_type": "stream",
     "text": [
      "100%|██████████| 572/572 [01:03<00:00,  9.06it/s]\n",
      " 12%|█▏        | 66/572 [07:04<1:18:37,  9.32s/it]"
     ]
    }
   ],
   "source": [
    "%matplotlib inline\n",
    "config_file = \"configs/notebook_configs/config_kmn_full_recalibration.yml\"\n",
    "with open(config_file, \"r\") as f:\n",
    "    config = yaml.safe_load(f)\n",
    "\n",
    "for ds_name in [\"bio\"]:#[\"concrete\", \"energy\", \"boston_housing\"]:#[\"bio\", \"meps_19\", \"meps_20\", \"meps_21\", \"blog_data\", \"facebook_1\", \"facebook_2\"]:\n",
    "\n",
    "    ll_before_originals = {idx:[] for idx, w in enumerate(window_sizes)}\n",
    "    ll_befores = {idx:[] for idx, w in enumerate(window_sizes)}\n",
    "    ll_afters = {idx:[] for idx, w in enumerate(window_sizes)}\n",
    "    config[\"data_hyperparameters\"][\"dataset_name\"] = ds_name\n",
    "\n",
    "    for seed in seeds:\n",
    "        config[\"seeds\"] = seed\n",
    "        config[\"data_hyperparameters\"][\"random_state\"] = seed\n",
    "                \n",
    "        dm = load_data_module(**config[\"data_hyperparameters\"])\n",
    "        model = train_single_model_from_config(config)\n",
    "\n",
    "        k = 256\n",
    "        y_grid_size = 2**13\n",
    "        confidence_grid = torch.linspace(1/k, 1 - 1/k, k)\n",
    "        y_space = model.y_space\n",
    "        y_space = torch.linspace(y_space.min().item() - model.std_y.item(), y_space.max().item() + model.std_y.item(), y_grid_size)\n",
    "        scaling_factor = ((y_space.max() - y_space.min())/len(y_space))**-1\n",
    "        print(f\"Scaling factor: {scaling_factor}\")\n",
    "\n",
    "        required_ps = []\n",
    "        with torch.no_grad():\n",
    "            for x, y in tqdm(dm.get_train_dataloader(64)):\n",
    "\n",
    "                x = x.to(\"cuda\")\n",
    "                y = y.to(\"cuda\")\n",
    "\n",
    "                required_p = model.get_required_conformal_p_values(x, y, y_space.cuda())\n",
    "                del x, y\n",
    "                required_ps.append(required_p)\n",
    "        required_ps = torch.cat(required_ps, 0).cpu()\n",
    "        calibrated_confidence_grid = torch.quantile(required_ps.float(), confidence_grid)\n",
    "\n",
    "        model = model.cuda()\n",
    "        scaling_factor = scaling_factor.cpu()\n",
    "\n",
    "        #Big Loop:\n",
    "        ll_before = {idx:[] for idx, w in enumerate(window_sizes)}\n",
    "        ll_after = {idx:[] for idx, w in enumerate(window_sizes)}\n",
    "        ll_before_original = {idx:[] for idx, w in enumerate(window_sizes)}\n",
    "        ll_maxim = {idx:[] for idx, w in enumerate(window_sizes)}\n",
    "        with torch.no_grad():\n",
    "            for x, y in tqdm(dm.get_train_dataloader(64)):\n",
    "\n",
    "\n",
    "                x = x.to(\"cuda\")\n",
    "\n",
    "                hdr_before = model.get_hdr(x, confidence_grid.cuda(), y_space.cuda())\n",
    "                hdr_after = model.get_hdr(x, calibrated_confidence_grid.cuda(), y_space.cuda())\n",
    "                density_grid = model.get_density_grid(x, y_space.cuda())\n",
    "\n",
    "                hdr_before = hdr_before.cpu()\n",
    "                hdr_after = hdr_after.cpu()\n",
    "                density_grid = density_grid.cpu()\n",
    "\n",
    "                if do_plot: fig, axs = plt.subplots(2, 2, figsize=(12, 8))\n",
    "\n",
    "                for sample_no in range(len(hdr_before)):\n",
    "                    before, after = hdr_before[sample_no].clone().detach().numpy(), hdr_after[sample_no].clone().detach().numpy()\n",
    "                    density_grid_before = density_grid[sample_no].clone().detach().numpy()\n",
    "\n",
    "                    before = np.concatenate([before, np.ones_like(before[:1])], 0)\n",
    "                    after = np.concatenate([after, np.ones_like(after[:1])], 0)\n",
    "\n",
    "                    before[1:] =  np.bitwise_xor(before[1:], before[:-1])\n",
    "                    after[1:] =  np.bitwise_xor(after[1:], after[:-1])\n",
    "\n",
    "\n",
    "                    before_grid = np.zeros_like(y_space)\n",
    "                    after_grid = np.zeros_like(y_space)\n",
    "\n",
    "                    for i in range(before.shape[0]):\n",
    "                        i_sum = np.sum(before[i])\n",
    "                        if i_sum == 0:\n",
    "                            continue\n",
    "                        level = 1 / i_sum\n",
    "\n",
    "                        active_where = y_space[before[i]]\n",
    "                        before_grid[before[i]] = level\n",
    "\n",
    "                    for i in range(after.shape[0]):\n",
    "                        i_sum = np.sum(after[i])\n",
    "                        if i_sum == 0:\n",
    "                            continue\n",
    "                        level = 1 / i_sum\n",
    "\n",
    "                        active_where = y_space[after[i]]\n",
    "                        after_grid[after[i]] = level\n",
    "\n",
    "                    \n",
    "                    for idx, w in enumerate(window_sizes):\n",
    "                        window_size = w * 20#int(y_grid_size // ( w*np.log(len(dm.test_dataset))))\n",
    "\n",
    "                        filter_ = np.ones(window_size) / window_size\n",
    "\n",
    "                        c_before = np.convolve(before_grid, filter_, mode='same')\n",
    "                        c_after = np.convolve(after_grid, filter_, mode='same')\n",
    "                        c_epistemic = np.convolve(np.abs(before_grid - after_grid), filter_, mode='same')\n",
    "\n",
    "                        scaled_before_original = scaling_factor * density_grid_before / np.sum(density_grid_before)\n",
    "                        scaled_before = scaling_factor * c_before / np.sum(c_before)\n",
    "                        scaled_after = scaling_factor * c_after / np.sum(c_after)\n",
    "\n",
    "                        maxim = np.maximum(scaled_before_original, scaled_after)\n",
    "                        scaled_maxim = scaling_factor * maxim / np.sum(maxim.numpy())\n",
    "\n",
    "                        ll_after[idx].append(scaled_after[np.argmin(np.abs(y_space - y[sample_no].numpy()))])\n",
    "                        ll_before[idx].append(scaled_before[np.argmin(np.abs(y_space - y[sample_no].numpy()))])\n",
    "                        ll_before_original[idx].append(scaled_before_original[np.argmin(np.abs(y_space - y[sample_no].numpy()))])\n",
    "                        ll_maxim[idx].append(scaled_maxim[np.argmin(np.abs(y_space - y[sample_no].numpy()))])\n",
    "\n",
    "\n",
    "        for idx in range(len(window_sizes)):\n",
    "            \n",
    "            ll_before_original_inner = np.log(ll_before_original[idx]).mean()\n",
    "            ll_before_inner = np.log(ll_before[idx]).mean()\n",
    "            ll_after_inner = np.log(ll_after[idx]).mean()\n",
    "            ll_maxim_innner = np.log(ll_maxim[idx]).mean()\n",
    "\n",
    "            ll_before_originals[idx].append(ll_before_original_inner)\n",
    "            ll_befores[idx].append(ll_before_inner)\n",
    "            ll_afters[idx].append(ll_after_inner)\n",
    "\n",
    "    plt.figure(figsize=(8, 6))\n",
    "    plt.plot(window_sizes, [np.mean(item) for item in ll_before_originals.values()], label=\"Before Calibration (original)\", color=\"purple\")\n",
    "    plt.plot(window_sizes, [np.mean(item) for item in ll_before_originals.values()], label=\"Before Calibration (original)\", color=\"purple\")\n",
    "    plt.plot(window_sizes, [np.mean(item) for item in ll_afters.values()], label=\"Before Calibration (original)\", color=\"red\")\n",
    "    plt.show()\n",
    "\n",
    "\n",
    "\n",
    "    best_smoothng = window_sizes[np.argmax([np.mean(item) for item in ll_afters.values()])]\n",
    "    ll_before_originals = []\n",
    "    ll_befores = []\n",
    "    ll_afters = []\n",
    "    for seed in seeds:\n",
    "        config[\"seeds\"] = seed\n",
    "        config[\"data_hyperparameters\"][\"random_state\"] = seed\n",
    "                \n",
    "        dm = load_data_module(**config[\"data_hyperparameters\"])\n",
    "        model = train_single_model_from_config(config)\n",
    "\n",
    "        k = 256\n",
    "        y_grid_size = 2**13\n",
    "        confidence_grid = torch.linspace(1/k, 1 - 1/k, k)\n",
    "        y_space = model.y_space\n",
    "        y_space = torch.linspace(y_space.min().item() - model.std_y.item(), y_space.max().item() + model.std_y.item(), y_grid_size)\n",
    "        scaling_factor = ((y_space.max() - y_space.min())/len(y_space))**-1\n",
    "        print(f\"Scaling factor: {scaling_factor}\")\n",
    "\n",
    "        required_ps = []\n",
    "        with torch.no_grad():\n",
    "            for x, y in tqdm(dm.get_train_dataloader(64)):\n",
    "\n",
    "                x = x.to(\"cuda\")\n",
    "                y = y.to(\"cuda\")\n",
    "\n",
    "                required_p = model.get_required_conformal_p_values(x, y, y_space.cuda())\n",
    "                del x, y\n",
    "                required_ps.append(required_p)\n",
    "        required_ps = torch.cat(required_ps, 0).cpu()\n",
    "        calibrated_confidence_grid = torch.quantile(required_ps.float(), confidence_grid)\n",
    "\n",
    "        model = model.cuda()\n",
    "        scaling_factor = scaling_factor.cpu()\n",
    "\n",
    "        \n",
    "        ll_before = []\n",
    "        ll_after = []\n",
    "        ll_before_original = []\n",
    "        ll_maxim = []\n",
    "        with torch.no_grad():\n",
    "            for x, y in tqdm(dm.get_test_dataloader(64)):\n",
    "\n",
    "\n",
    "                x = x.to(\"cuda\")\n",
    "\n",
    "                hdr_before = model.get_hdr(x, confidence_grid.cuda(), y_space.cuda())\n",
    "                hdr_after = model.get_hdr(x, calibrated_confidence_grid.cuda(), y_space.cuda())\n",
    "                density_grid = model.get_density_grid(x, y_space.cuda())\n",
    "\n",
    "                hdr_before = hdr_before.cpu()\n",
    "                hdr_after = hdr_after.cpu()\n",
    "                density_grid = density_grid.cpu()\n",
    "\n",
    "                if do_plot: fig, axs = plt.subplots(2, 2, figsize=(12, 8))\n",
    "\n",
    "                for sample_no in range(len(hdr_before)):\n",
    "                    before, after = hdr_before[sample_no].clone().detach().numpy(), hdr_after[sample_no].clone().detach().numpy()\n",
    "                    density_grid_before = density_grid[sample_no].clone().detach().numpy()\n",
    "\n",
    "                    before = np.concatenate([before, np.ones_like(before[:1])], 0)\n",
    "                    after = np.concatenate([after, np.ones_like(after[:1])], 0)\n",
    "\n",
    "                    before[1:] =  np.bitwise_xor(before[1:], before[:-1])\n",
    "                    after[1:] =  np.bitwise_xor(after[1:], after[:-1])\n",
    "\n",
    "\n",
    "                    before_grid = np.zeros_like(y_space)\n",
    "                    after_grid = np.zeros_like(y_space)\n",
    "\n",
    "                    #plt.figure(figsize=(8, 6))\n",
    "\n",
    "                    for i in range(before.shape[0]):\n",
    "                        i_sum = np.sum(before[i])\n",
    "                        if i_sum == 0:\n",
    "                            continue\n",
    "                        level = 1 / i_sum\n",
    "\n",
    "                        active_where = y_space[before[i]]\n",
    "                        before_grid[before[i]] = level\n",
    "                        #plt.scatter(active_where, np.ones_like(active_where) * level, color =\"blue\", alpha=1- (i / before.shape[0]))\n",
    "\n",
    "                    #plt.legend()\n",
    "                    #plt.show()\n",
    "\n",
    "                    #plt.figure(figsize=(8, 6))\n",
    "\n",
    "                    for i in range(after.shape[0]):\n",
    "                        i_sum = np.sum(after[i])\n",
    "                        if i_sum == 0:\n",
    "                            continue\n",
    "                        level = 1 / i_sum\n",
    "\n",
    "                        active_where = y_space[after[i]]\n",
    "                        after_grid[after[i]] = level\n",
    "                        #plt.scatter(active_where, np.ones_like(active_where) * level, color =\"blue\",alpha=1- (i / before.shape[0]))\n",
    "                    #plt.legend()\n",
    "                    #plt.show()\n",
    "\n",
    "                    \n",
    "                    window_size = best_smoothng * 20#int(y_grid_size // ( w*np.log(len(dm.test_dataset))))\n",
    "\n",
    "                    filter_ = np.ones(window_size) / window_size\n",
    "\n",
    "                    c_before = np.convolve(before_grid, filter_, mode='same')\n",
    "                    c_after = np.convolve(after_grid, filter_, mode='same')\n",
    "                    c_epistemic = np.convolve(np.abs(before_grid - after_grid), filter_, mode='same')\n",
    "\n",
    "                    scaled_before_original = scaling_factor * density_grid_before / np.sum(density_grid_before)\n",
    "                    scaled_before = scaling_factor * c_before / np.sum(c_before)\n",
    "                    scaled_after = scaling_factor * c_after / np.sum(c_after)\n",
    "\n",
    "                    maxim = np.maximum(scaled_before_original, scaled_after)\n",
    "                    scaled_maxim = scaling_factor * maxim / np.sum(maxim.numpy())\n",
    "\n",
    "                    ll_after.append(scaled_after[np.argmin(np.abs(y_space - y[sample_no].numpy()))])\n",
    "                    ll_before.append(scaled_before[np.argmin(np.abs(y_space - y[sample_no].numpy()))])\n",
    "                    ll_before_original.append(scaled_before_original[np.argmin(np.abs(y_space - y[sample_no].numpy()))])\n",
    "                    ll_maxim.append(scaled_maxim[np.argmin(np.abs(y_space - y[sample_no].numpy()))])\n",
    "                    \n",
    "\n",
    "            \n",
    "        ll_before_original_inner = np.log(ll_before_original).mean()\n",
    "        ll_before_inner = np.log(ll_before).mean()\n",
    "        ll_after_inner = np.log(ll_after).mean()\n",
    "        ll_maxim_innner = np.log(ll_maxim).mean()\n",
    "\n",
    "        ll_before_originals.append(ll_before_original_inner)\n",
    "        ll_befores.append(ll_before_inner)\n",
    "        ll_afters.append(ll_after_inner)\n",
    "\n",
    "    print(ds_name)\n",
    "    print(best_smoothng, window_size)\n",
    "    print(f\"Before Calibration (original): {ll_before_originals}\", f\"Before Calibration: {ll_befores}\", f\"After Calibration: {ll_afters}\")\n",
    "    print(\"Means:\")\n",
    "    print(f\"Before Calibration (original): {np.mean(ll_before_originals)}\", f\"Before Calibration: {np.mean(ll_befores)}\", f\"After Calibration: {np.mean(ll_afters)}\")"
   ]
  },
  {
   "cell_type": "code",
   "execution_count": 20,
   "metadata": {},
   "outputs": [
    {
     "data": {
      "text/plain": [
       "(20, 1)"
      ]
     },
     "execution_count": 20,
     "metadata": {},
     "output_type": "execute_result"
    }
   ],
   "source": [
    "window_size, best_smoothng"
   ]
  },
  {
   "cell_type": "code",
   "execution_count": null,
   "metadata": {},
   "outputs": [],
   "source": []
  }
 ],
 "metadata": {
  "kernelspec": {
   "display_name": "uncertainty_prediction",
   "language": "python",
   "name": "python3"
  },
  "language_info": {
   "codemirror_mode": {
    "name": "ipython",
    "version": 3
   },
   "file_extension": ".py",
   "mimetype": "text/x-python",
   "name": "python",
   "nbconvert_exporter": "python",
   "pygments_lexer": "ipython3",
   "version": "3.11.5"
  }
 },
 "nbformat": 4,
 "nbformat_minor": 2
}
