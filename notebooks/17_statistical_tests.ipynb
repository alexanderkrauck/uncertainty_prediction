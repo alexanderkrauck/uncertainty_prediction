{
 "cells": [
  {
   "cell_type": "code",
   "execution_count": 1,
   "metadata": {},
   "outputs": [],
   "source": [
    "import numpy as np\n",
    "from scipy import stats\n",
    "\n",
    "# Sample data: accuracies from multiple seeds\n",
    "accuracies = np.array([10.283568148067632, 10.108202505706046, 10.513801906709986, 10.116699832705212, 10.309143573586644, 9.616495712617281, 10.076914634012223, 10.096705640454587, 9.91036028333339, 10.600965475269671, 10.340467822126818, 10.234406578652894, 10.211438854491973, 10.453795719376128, 10.493067698225317, 10.075666669941095, 10.114228869850464, 10.928894116376439, 10.394260061978512, 10.160362692440257, 10.431926060786477, 9.899993028938965, 10.489828590644988, 10.427382698784816, 10.356736367311358])\n",
    "\n",
    "# Hypothesized mean (90% accuracy)\n",
    "mu_0 = 90\n",
    "\n",
    "# Perform one-sample t-test\n",
    "t_stat, p_val = stats.ttest_1samp(accuracies, mu_0)"
   ]
  },
  {
   "cell_type": "code",
   "execution_count": 2,
   "metadata": {},
   "outputs": [
    {
     "data": {
      "text/plain": [
       "(6.450418803113673, 0.00011808379409383215)"
      ]
     },
     "execution_count": 2,
     "metadata": {},
     "output_type": "execute_result"
    }
   ],
   "source": [
    "t_stat, p_val"
   ]
  },
  {
   "cell_type": "markdown",
   "metadata": {},
   "source": [
    "CASP our pinball vs. sesia"
   ]
  },
  {
   "cell_type": "code",
   "execution_count": 7,
   "metadata": {},
   "outputs": [
    {
     "name": "stdout",
     "output_type": "stream",
     "text": [
      "T-statistic: -59.52\n",
      "P-value: 2.646962863854471e-63\n",
      "Reject H0\n"
     ]
    }
   ],
   "source": [
    "import numpy as np\n",
    "from scipy import stats\n",
    "\n",
    "# Data for Method 1\n",
    "r1 = [\n",
    "    10.283568148067632,\n",
    "    10.108202505706046,\n",
    "    10.513801906709986,\n",
    "    10.116699832705212,\n",
    "    10.309143573586644,\n",
    "]\n",
    "r2 = [\n",
    "    9.616495712617281,\n",
    "    10.076914634012223,\n",
    "    10.096705640454587,\n",
    "    9.91036028333339,\n",
    "    10.600965475269671,\n",
    "]\n",
    "r3 = [\n",
    "    10.340467822126818,\n",
    "    10.234406578652894,\n",
    "    10.211438854491973,\n",
    "    10.453795719376128,\n",
    "    10.493067698225317,\n",
    "]\n",
    "r4 = [\n",
    "    10.075666669941095,\n",
    "    10.114228869850464,\n",
    "    10.928894116376439,\n",
    "    10.394260061978512,\n",
    "    10.160362692440257,\n",
    "]\n",
    "r5 = [\n",
    "    10.431926060786477,\n",
    "    9.899993028938965,\n",
    "    10.489828590644988,\n",
    "    10.427382698784816,\n",
    "    10.356736367311358,\n",
    "]\n",
    "method1 = np.array([r1, r2, r3, r4, r5]).reshape(-1)\n",
    "method1 = np.array(# pure HDR\n",
    "    [\n",
    "        7.898236739982173,\n",
    "        7.755736904281926,\n",
    "        8.117597805601278,\n",
    "        7.986467235906365,\n",
    "        7.930542112309172,\n",
    "        7.478375259489505,\n",
    "        7.724936412925562,\n",
    "        7.60444312780711,\n",
    "        7.771192659519445,\n",
    "        7.741263710954584,\n",
    "        7.674276178836719,\n",
    "        7.7038713459788175,\n",
    "        7.891258658503589,\n",
    "        7.823689580667522,\n",
    "        7.538092147123102,\n",
    "        8.04423252008114,\n",
    "        7.701246146897167,\n",
    "        7.907060727858319,\n",
    "        7.704078328966599,\n",
    "        7.680744133604556,\n",
    "        7.820078142617845,\n",
    "        7.866149008104636,\n",
    "        7.832947458033225,\n",
    "        8.020996047036016,\n",
    "        7.950138021135862,\n",
    "    ]\n",
    ")\n",
    "# method1 = np.mean(method1, axis=1)\n",
    "mean1 = np.mean(method1)\n",
    "std1 = np.std(method1, ddof=1)\n",
    "n1 = len(method1)\n",
    "\n",
    "# Summary statistics for Method 2\n",
    "mean2 = 10.4\n",
    "std2 = 0.3\n",
    "n2 = 100\n",
    "\n",
    "# Welch's t-test\n",
    "t_stat, p_val = stats.ttest_ind_from_stats(\n",
    "    mean1=mean1, std1=std1, nobs1=n1, mean2=mean2, std2=std2, nobs2=n2, equal_var=False\n",
    ")\n",
    "\n",
    "print(f\"T-statistic: {t_stat:.2f}\")\n",
    "print(f\"P-value: {p_val}\")\n",
    "print(\"Reject H0\" if p_val < 0.05 else \"Do not reject H0\")"
   ]
  },
  {
   "cell_type": "code",
   "execution_count": null,
   "metadata": {},
   "outputs": [],
   "source": []
  }
 ],
 "metadata": {
  "kernelspec": {
   "display_name": "uncertainty_prediction",
   "language": "python",
   "name": "python3"
  },
  "language_info": {
   "codemirror_mode": {
    "name": "ipython",
    "version": 3
   },
   "file_extension": ".py",
   "mimetype": "text/x-python",
   "name": "python",
   "nbconvert_exporter": "python",
   "pygments_lexer": "ipython3",
   "version": "3.11.5"
  }
 },
 "nbformat": 4,
 "nbformat_minor": 2
}
