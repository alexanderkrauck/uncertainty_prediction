{
 "cells": [
  {
   "cell_type": "code",
   "execution_count": 2,
   "metadata": {},
   "outputs": [],
   "source": [
    "import numpy as np\n",
    "from scipy import stats"
   ]
  },
  {
   "cell_type": "code",
   "execution_count": 1,
   "metadata": {},
   "outputs": [],
   "source": [
    "import numpy as np\n",
    "from scipy import stats\n",
    "\n",
    "# Sample data: accuracies from multiple seeds\n",
    "accuracies = np.array([10.283568148067632, 10.108202505706046, 10.513801906709986, 10.116699832705212, 10.309143573586644, 9.616495712617281, 10.076914634012223, 10.096705640454587, 9.91036028333339, 10.600965475269671, 10.340467822126818, 10.234406578652894, 10.211438854491973, 10.453795719376128, 10.493067698225317, 10.075666669941095, 10.114228869850464, 10.928894116376439, 10.394260061978512, 10.160362692440257, 10.431926060786477, 9.899993028938965, 10.489828590644988, 10.427382698784816, 10.356736367311358])\n",
    "\n",
    "# Hypothesized mean (90% accuracy)\n",
    "mu_0 = 90\n",
    "\n",
    "# Perform one-sample t-test\n",
    "t_stat, p_val = stats.ttest_1samp(accuracies, mu_0)"
   ]
  },
  {
   "cell_type": "code",
   "execution_count": 2,
   "metadata": {},
   "outputs": [
    {
     "data": {
      "text/plain": [
       "(6.450418803113673, 0.00011808379409383215)"
      ]
     },
     "execution_count": 2,
     "metadata": {},
     "output_type": "execute_result"
    }
   ],
   "source": [
    "t_stat, p_val"
   ]
  },
  {
   "cell_type": "markdown",
   "metadata": {},
   "source": [
    "CASP ours vs. sesia"
   ]
  },
  {
   "cell_type": "code",
   "execution_count": 7,
   "metadata": {},
   "outputs": [
    {
     "name": "stdout",
     "output_type": "stream",
     "text": [
      "T-statistic: -59.52\n",
      "P-value: 2.646962863854471e-63\n",
      "Reject H0\n"
     ]
    }
   ],
   "source": [
    "import numpy as np\n",
    "from scipy import stats\n",
    "\n",
    "# Data for Method 1\n",
    "r1 = [\n",
    "    10.283568148067632,\n",
    "    10.108202505706046,\n",
    "    10.513801906709986,\n",
    "    10.116699832705212,\n",
    "    10.309143573586644,\n",
    "]\n",
    "r2 = [\n",
    "    9.616495712617281,\n",
    "    10.076914634012223,\n",
    "    10.096705640454587,\n",
    "    9.91036028333339,\n",
    "    10.600965475269671,\n",
    "]\n",
    "r3 = [\n",
    "    10.340467822126818,\n",
    "    10.234406578652894,\n",
    "    10.211438854491973,\n",
    "    10.453795719376128,\n",
    "    10.493067698225317,\n",
    "]\n",
    "r4 = [\n",
    "    10.075666669941095,\n",
    "    10.114228869850464,\n",
    "    10.928894116376439,\n",
    "    10.394260061978512,\n",
    "    10.160362692440257,\n",
    "]\n",
    "r5 = [\n",
    "    10.431926060786477,\n",
    "    9.899993028938965,\n",
    "    10.489828590644988,\n",
    "    10.427382698784816,\n",
    "    10.356736367311358,\n",
    "]\n",
    "method1 = np.array([r1, r2, r3, r4, r5]).reshape(-1)\n",
    "method1 = np.array(# pure HDR\n",
    "    [\n",
    "        7.898236739982173,\n",
    "        7.755736904281926,\n",
    "        8.117597805601278,\n",
    "        7.986467235906365,\n",
    "        7.930542112309172,\n",
    "        7.478375259489505,\n",
    "        7.724936412925562,\n",
    "        7.60444312780711,\n",
    "        7.771192659519445,\n",
    "        7.741263710954584,\n",
    "        7.674276178836719,\n",
    "        7.7038713459788175,\n",
    "        7.891258658503589,\n",
    "        7.823689580667522,\n",
    "        7.538092147123102,\n",
    "        8.04423252008114,\n",
    "        7.701246146897167,\n",
    "        7.907060727858319,\n",
    "        7.704078328966599,\n",
    "        7.680744133604556,\n",
    "        7.820078142617845,\n",
    "        7.866149008104636,\n",
    "        7.832947458033225,\n",
    "        8.020996047036016,\n",
    "        7.950138021135862,\n",
    "    ]\n",
    ")\n",
    "# method1 = np.mean(method1, axis=1)\n",
    "mean1 = np.mean(method1)\n",
    "std1 = np.std(method1, ddof=1)\n",
    "n1 = len(method1)\n",
    "\n",
    "# Summary statistics for Method 2\n",
    "mean2 = 10.4\n",
    "std2 = 0.3\n",
    "n2 = 100\n",
    "\n",
    "# Welch's t-test\n",
    "t_stat, p_val = stats.ttest_ind_from_stats(\n",
    "    mean1=mean1, std1=std1, nobs1=n1, mean2=mean2, std2=std2, nobs2=n2, equal_var=False\n",
    ")\n",
    "\n",
    "print(f\"T-statistic: {t_stat:.2f}\")\n",
    "print(f\"P-value: {p_val}\")\n",
    "print(\"Reject H0\" if p_val < 0.05 else \"Do not reject H0\")"
   ]
  },
  {
   "cell_type": "markdown",
   "metadata": {},
   "source": [
    "## Meps21 MDN-Connected vs Sesia NN"
   ]
  },
  {
   "cell_type": "code",
   "execution_count": 4,
   "metadata": {},
   "outputs": [
    {
     "name": "stdout",
     "output_type": "stream",
     "text": [
      "T-statistic: -2.33\n",
      "P-value: 0.026487799696810435\n",
      "Reject H0\n"
     ]
    }
   ],
   "source": [
    "method1 = [\n",
    "    20.524980527992298,\n",
    "    20.79633803873074,\n",
    "    20.196774069833573,\n",
    "    18.544358215721783,\n",
    "    19.28699354071879,\n",
    "    20.51056329135237,\n",
    "    20.98486285252285,\n",
    "    21.715756081377712,\n",
    "    22.214790237056494,\n",
    "    21.14854483768858,\n",
    "    18.648410295313496,\n",
    "    18.569655456153217,\n",
    "    19.40278748260147,\n",
    "    18.01689917709331,\n",
    "    20.47000979524615,\n",
    "    19.032080775781,\n",
    "    21.200331667221672,\n",
    "    20.19482797985637,\n",
    "    21.58239929277169,\n",
    "    21.56515368465263,\n",
    "    17.307196917966255,\n",
    "    16.97804850728119,\n",
    "    18.151550877596684,\n",
    "    18.156651912216635,\n",
    "    18.617838892443427,\n",
    "]\n",
    "mean1 = np.mean(method1)\n",
    "std1 = np.std(method1, ddof=1)\n",
    "n1 = len(method1)\n",
    "\n",
    "mean2 = 20.5\n",
    "std2 = 1.2\n",
    "n2 = 100\n",
    "\n",
    "\n",
    "# Welch's t-test\n",
    "t_stat, p_val = stats.ttest_ind_from_stats(\n",
    "    mean1=mean1, std1=std1, nobs1=n1, mean2=mean2, std2=std2, nobs2=n2, equal_var=False\n",
    ")\n",
    "\n",
    "print(f\"T-statistic: {t_stat:.2f}\")\n",
    "print(f\"P-value: {p_val}\")\n",
    "print(\"Reject H0\" if p_val < 0.05 else \"Do not reject H0\")"
   ]
  },
  {
   "cell_type": "markdown",
   "metadata": {},
   "source": [
    "## Meps19 MDN-Connected vs Sesia NN"
   ]
  },
  {
   "cell_type": "code",
   "execution_count": 5,
   "metadata": {},
   "outputs": [
    {
     "name": "stdout",
     "output_type": "stream",
     "text": [
      "T-statistic: -0.67\n",
      "P-value: 0.5054625826306016\n",
      "Do not reject H0\n"
     ]
    }
   ],
   "source": [
    "method1 = [\n",
    "    18.795511230623415,\n",
    "    20.516553113307236,\n",
    "    18.23388447608984,\n",
    "    20.469142504194547,\n",
    "    19.49535355614755,\n",
    "    24.82826010094136,\n",
    "    23.554342555667464,\n",
    "    20.973301904126743,\n",
    "    19.687941224053194,\n",
    "    20.37573354320508,\n",
    "    21.11922317809382,\n",
    "    19.862547397462485,\n",
    "    18.760093981380663,\n",
    "    20.512520153008197,\n",
    "    20.972013263865517,\n",
    "    18.207995168536684,\n",
    "    18.915651347390224,\n",
    "    18.420692499430828,\n",
    "    16.725158672072972,\n",
    "    19.486292474436766,\n",
    "    19.615380109243844,\n",
    "    18.924597705433857,\n",
    "    18.913290947571863,\n",
    "    20.580636508713276,\n",
    "    18.43443177023529,\n",
    "]\n",
    "mean1 = np.mean(method1)\n",
    "std1 = np.std(method1, ddof=1)\n",
    "n1 = len(method1)\n",
    "\n",
    "mean2 = 20.1\n",
    "std2 = 1.3\n",
    "n2 = 100\n",
    "\n",
    "\n",
    "# Welch's t-test\n",
    "t_stat, p_val = stats.ttest_ind_from_stats(\n",
    "    mean1=mean1, std1=std1, nobs1=n1, mean2=mean2, std2=std2, nobs2=n2, equal_var=False\n",
    ")\n",
    "\n",
    "print(f\"T-statistic: {t_stat:.2f}\")\n",
    "print(f\"P-value: {p_val}\")\n",
    "print(\"Reject H0\" if p_val < 0.05 else \"Do not reject H0\")"
   ]
  },
  {
   "cell_type": "markdown",
   "metadata": {},
   "source": [
    "## Meps21 Disconnected HDR vs Sesia ALL"
   ]
  },
  {
   "cell_type": "code",
   "execution_count": 8,
   "metadata": {},
   "outputs": [
    {
     "name": "stdout",
     "output_type": "stream",
     "text": [
      "T-statistic: -1.66\n",
      "P-value: 0.10452858710664437\n",
      "Do not reject H0\n"
     ]
    }
   ],
   "source": [
    "method1 = [\n",
    "    19.974284711620967,\n",
    "    20.403105364296476,\n",
    "    20.116178237310923,\n",
    "    18.159499323078805,\n",
    "    17.878590472965556,\n",
    "    17.755506571529775,\n",
    "    19.38195640982948,\n",
    "    19.90425365150812,\n",
    "    18.61799027210299,\n",
    "    18.201988444322218,\n",
    "    18.587959416220166,\n",
    "    18.84287802743729,\n",
    "    18.680529656538106,\n",
    "    18.127212407488475,\n",
    "    18.65885993499561,\n",
    "    20.67868712365551,\n",
    "    18.490807173961578,\n",
    "    20.042422044931854,\n",
    "    18.90631434804787,\n",
    "    19.012942843967014,\n",
    "    18.159987565353607,\n",
    "    17.462190630487708,\n",
    "    19.164239759189417,\n",
    "    18.064375681286418,\n",
    "    18.038412432713223,\n",
    "]\n",
    "mean1 = np.mean(method1)\n",
    "std1 = np.std(method1, ddof=1)\n",
    "n1 = len(method1)\n",
    "\n",
    "mean2 = 19.2\n",
    "std2 = 1.1\n",
    "n2 = 100\n",
    "\n",
    "\n",
    "# Welch's t-test\n",
    "t_stat, p_val = stats.ttest_ind_from_stats(\n",
    "    mean1=mean1, std1=std1, nobs1=n1, mean2=mean2, std2=std2, nobs2=n2, equal_var=False\n",
    ")\n",
    "\n",
    "print(f\"T-statistic: {t_stat:.2f}\")\n",
    "print(f\"P-value: {p_val}\")\n",
    "print(\"Reject H0\" if p_val < 0.05 else \"Do not reject H0\")"
   ]
  },
  {
   "cell_type": "markdown",
   "metadata": {},
   "source": [
    "## Meps21 Disconnected HDR vs Sesia NN"
   ]
  },
  {
   "cell_type": "code",
   "execution_count": 12,
   "metadata": {},
   "outputs": [
    {
     "name": "stdout",
     "output_type": "stream",
     "text": [
      "T-statistic: -7.66\n",
      "P-value: 7.05288629039106e-10\n",
      "Reject H0\n",
      "18.852446900193566\n"
     ]
    }
   ],
   "source": [
    "method1 = [\n",
    "    19.974284711620967,\n",
    "    20.403105364296476,\n",
    "    20.116178237310923,\n",
    "    18.159499323078805,\n",
    "    17.878590472965556,\n",
    "    17.755506571529775,\n",
    "    19.38195640982948,\n",
    "    19.90425365150812,\n",
    "    18.61799027210299,\n",
    "    18.201988444322218,\n",
    "    18.587959416220166,\n",
    "    18.84287802743729,\n",
    "    18.680529656538106,\n",
    "    18.127212407488475,\n",
    "    18.65885993499561,\n",
    "    20.67868712365551,\n",
    "    18.490807173961578,\n",
    "    20.042422044931854,\n",
    "    18.90631434804787,\n",
    "    19.012942843967014,\n",
    "    18.159987565353607,\n",
    "    17.462190630487708,\n",
    "    19.164239759189417,\n",
    "    18.064375681286418,\n",
    "    18.038412432713223,\n",
    "]\n",
    "mean1 = np.mean(method1)\n",
    "std1 = np.std(method1, ddof=1)\n",
    "n1 = len(method1)\n",
    "\n",
    "mean2 = 20.5\n",
    "std2 = 1.2\n",
    "n2 = 100\n",
    "\n",
    "\n",
    "# Welch's t-test\n",
    "t_stat, p_val = stats.ttest_ind_from_stats(\n",
    "    mean1=mean1, std1=std1, nobs1=n1, mean2=mean2, std2=std2, nobs2=n2, equal_var=False\n",
    ")\n",
    "\n",
    "print(f\"T-statistic: {t_stat:.2f}\")\n",
    "print(f\"P-value: {p_val}\")\n",
    "print(\"Reject H0\" if p_val < 0.05 else \"Do not reject H0\")\n",
    "print(mean1)"
   ]
  },
  {
   "cell_type": "markdown",
   "metadata": {},
   "source": [
    "## Meps20 Disconnected HDR vs Sesia NN"
   ]
  },
  {
   "cell_type": "code",
   "execution_count": 14,
   "metadata": {},
   "outputs": [
    {
     "name": "stdout",
     "output_type": "stream",
     "text": [
      "T-statistic: -2.48\n",
      "P-value: 0.01701534517469578\n",
      "Reject H0\n",
      "18.5312491797042\n"
     ]
    }
   ],
   "source": [
    "method1 = [\n",
    "    18.426583699671827,\n",
    "    19.675656657573604,\n",
    "    19.51023950410997,\n",
    "    20.128767585917462,\n",
    "    19.281081279277394,\n",
    "    18.861957227174766,\n",
    "    18.15576792836835,\n",
    "    19.384602696442407,\n",
    "    19.77679832982487,\n",
    "    17.779483285307645,\n",
    "    18.10086712710842,\n",
    "    17.124354947629087,\n",
    "    18.656696448947127,\n",
    "    16.53017751020256,\n",
    "    19.180787628686947,\n",
    "    18.074364302062552,\n",
    "    18.972873534460494,\n",
    "    17.824683549499948,\n",
    "    16.52995638169261,\n",
    "    17.85495514324772,\n",
    "    18.126111417320864,\n",
    "    17.957107452627394,\n",
    "    19.85906606713874,\n",
    "    18.546018646666386,\n",
    "    18.96227114164581,\n",
    "]\n",
    "mean1 = np.mean(method1)\n",
    "std1 = np.std(method1, ddof=1)\n",
    "n1 = len(method1)\n",
    "\n",
    "mean2 = 19.1\n",
    "std2 = 1.2\n",
    "n2 = 100\n",
    "\n",
    "\n",
    "# Welch's t-test\n",
    "t_stat, p_val = stats.ttest_ind_from_stats(\n",
    "    mean1=mean1, std1=std1, nobs1=n1, mean2=mean2, std2=std2, nobs2=n2, equal_var=False\n",
    ")\n",
    "\n",
    "print(f\"T-statistic: {t_stat:.2f}\")\n",
    "print(f\"P-value: {p_val}\")\n",
    "print(\"Reject H0\" if p_val < 0.05 else \"Do not reject H0\")\n",
    "print(mean1)"
   ]
  },
  {
   "cell_type": "markdown",
   "metadata": {},
   "source": [
    "## Meps19 Disconnected HDR vs Sesia NN"
   ]
  },
  {
   "cell_type": "code",
   "execution_count": 13,
   "metadata": {},
   "outputs": [
    {
     "name": "stdout",
     "output_type": "stream",
     "text": [
      "T-statistic: -1.98\n",
      "P-value: 0.05676221961017463\n",
      "Do not reject H0\n",
      "19.408790663295353\n"
     ]
    }
   ],
   "source": [
    "method1 = [\n",
    "    18.534056341191203,\n",
    "    20.19059282169336,\n",
    "    18.03635011853619,\n",
    "    20.002409893008096,\n",
    "    19.193427466802444,\n",
    "    24.00162565795009,\n",
    "    23.53443210276766,\n",
    "    20.590577602537515,\n",
    "    19.15572533352223,\n",
    "    20.003327953011166,\n",
    "    20.153791387133257,\n",
    "    19.640971684327486,\n",
    "    18.024640764508927,\n",
    "    19.745176463328022,\n",
    "    20.041118052702824,\n",
    "    18.017660059428948,\n",
    "    18.468549552581564,\n",
    "    17.97890839986043,\n",
    "    16.60679118482984,\n",
    "    18.897295289980597,\n",
    "    19.280204881698904,\n",
    "    18.66592642125881,\n",
    "    18.402031478906004,\n",
    "    19.969928981912712,\n",
    "    18.084246688905605,\n",
    "]\n",
    "mean1 = np.mean(method1)\n",
    "std1 = np.std(method1, ddof=1)\n",
    "n1 = len(method1)\n",
    "\n",
    "mean2 = 20.1\n",
    "std2 = 1.3\n",
    "n2 = 100\n",
    "\n",
    "\n",
    "# Welch's t-test\n",
    "t_stat, p_val = stats.ttest_ind_from_stats(\n",
    "    mean1=mean1, std1=std1, nobs1=n1, mean2=mean2, std2=std2, nobs2=n2, equal_var=False\n",
    ")\n",
    "\n",
    "print(f\"T-statistic: {t_stat:.2f}\")\n",
    "print(f\"P-value: {p_val}\")\n",
    "print(\"Reject H0\" if p_val < 0.05 else \"Do not reject H0\")\n",
    "print(mean1)"
   ]
  }
 ],
 "metadata": {
  "kernelspec": {
   "display_name": "uncertainty_prediction",
   "language": "python",
   "name": "python3"
  },
  "language_info": {
   "codemirror_mode": {
    "name": "ipython",
    "version": 3
   },
   "file_extension": ".py",
   "mimetype": "text/x-python",
   "name": "python",
   "nbconvert_exporter": "python",
   "pygments_lexer": "ipython3",
   "version": "3.11.5"
  }
 },
 "nbformat": 4,
 "nbformat_minor": 2
}
